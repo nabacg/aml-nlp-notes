{
 "cells": [
  {
   "cell_type": "code",
   "execution_count": 1,
   "metadata": {},
   "outputs": [],
   "source": [
    "%load_ext autoreload\n",
    "%autoreload 2"
   ]
  },
  {
   "cell_type": "markdown",
   "metadata": {},
   "source": [
    "## Check GPU "
   ]
  },
  {
   "cell_type": "code",
   "execution_count": 29,
   "metadata": {},
   "outputs": [
    {
     "data": {
      "text/plain": [
       "[]"
      ]
     },
     "execution_count": 29,
     "metadata": {},
     "output_type": "execute_result"
    }
   ],
   "source": [
    "from tensorflow.python.client import device_lib\n",
    "\n",
    "\n",
    "[x for x in device_lib.list_local_devices() if x.device_type == 'GPU']"
   ]
  },
  {
   "cell_type": "markdown",
   "metadata": {},
   "source": [
    "## Clone github repository"
   ]
  },
  {
   "cell_type": "code",
   "execution_count": 30,
   "metadata": {},
   "outputs": [
    {
     "name": "stdout",
     "output_type": "stream",
     "text": [
      "Cloning into 'aml-nlp-notes'...\n",
      "remote: Enumerating objects: 140, done.\u001b[K\n",
      "remote: Counting objects: 100% (140/140), done.\u001b[K\n",
      "remote: Compressing objects: 100% (98/98), done.\u001b[K\n",
      "remote: Total 140 (delta 66), reused 110 (delta 38), pack-reused 0\u001b[K\n",
      "Receiving objects: 100% (140/140), 8.91 MiB | 5.57 MiB/s, done.\n",
      "Resolving deltas: 100% (66/66), done.\n"
     ]
    }
   ],
   "source": [
    "! git clone https://github.com/nabacg/aml-nlp-notes.git"
   ]
  },
  {
   "cell_type": "code",
   "execution_count": null,
   "metadata": {},
   "outputs": [],
   "source": [
    "import os \n",
    "print(os.getcwd())\n",
    "[n for n in dir(os) if 'ch' in n]\n",
    "os.chdir('/content/aml-nlp-notes/language-model')\n",
    "print(os.getcwd())"
   ]
  },
  {
   "cell_type": "markdown",
   "metadata": {},
   "source": [
    "## Download data files"
   ]
  },
  {
   "cell_type": "markdown",
   "metadata": {},
   "source": [
    "## cornell dataset"
   ]
  },
  {
   "cell_type": "code",
   "execution_count": null,
   "metadata": {},
   "outputs": [],
   "source": [
    "! sh download_cornell.sh"
   ]
  },
  {
   "cell_type": "markdown",
   "metadata": {},
   "source": [
    "## Imports required"
   ]
  },
  {
   "cell_type": "code",
   "execution_count": 85,
   "metadata": {},
   "outputs": [
    {
     "name": "stdout",
     "output_type": "stream",
     "text": [
      "1.13.1\n"
     ]
    }
   ],
   "source": [
    "import tensorflow as tf\n",
    "import os\n",
    "from seq2seqdataprocessing import load_dataset, word_to_idx\n",
    "from sklearn.model_selection import train_test_split\n",
    "from language_model import Encoder, Decoder, train_model, gen_answer, create_bot, load_embeddings \n"
   ]
  },
  {
   "cell_type": "markdown",
   "metadata": {},
   "source": [
    "## Hyperparameters"
   ]
  },
  {
   "cell_type": "code",
   "execution_count": 65,
   "metadata": {},
   "outputs": [],
   "source": [
    "BUFFER_SIZE = len(input_tensor_train)\n",
    "BATCH_SIZE = 128\n",
    "N_BATCH = BUFFER_SIZE//BATCH_SIZE\n",
    "embedding_dim = 256\n",
    "units = 1024\n",
    "vocab_size = 23106 # why 23106 ? because that covers ~99% of vocabulary for Cornell\n",
    "max_length = 40"
   ]
  },
  {
   "cell_type": "markdown",
   "metadata": {},
   "source": [
    "## Prepare train, test dataset"
   ]
  },
  {
   "cell_type": "code",
   "execution_count": 66,
   "metadata": {},
   "outputs": [
    {
     "name": "stderr",
     "output_type": "stream",
     "text": [
      "100%|██████████| 83097/83097 [00:04<00:00, 17815.13it/s]\n"
     ]
    },
    {
     "data": {
      "text/plain": [
       "(71517, 71517, 7947, 7947)"
      ]
     },
     "execution_count": 66,
     "metadata": {},
     "output_type": "execute_result"
    }
   ],
   "source": [
    "dataset_name = 'cornell'\n",
    "input_tensor, target_tensor, dict_index = load_dataset(dataset_name = dataset_name, \n",
    "                                                       max_sentence_length=max_length, \n",
    "                                                       vocab_size=vocab_size) \n",
    "\n",
    "word2idx = dict_index[0]\n",
    "\n",
    "# Creating training and validation sets using an 80-20 split\n",
    "input_tensor_train, input_tensor_val, target_tensor_train, target_tensor_val = train_test_split(input_tensor, target_tensor, test_size=0.1)\n",
    "\n",
    "# Show length\n",
    "len(input_tensor_train), len(target_tensor_train), len(input_tensor_val), len(target_tensor_val)"
   ]
  },
  {
   "cell_type": "code",
   "execution_count": 67,
   "metadata": {},
   "outputs": [],
   "source": [
    "dataset = tf.data.Dataset.from_tensor_slices((input_tensor_train, target_tensor_train)).shuffle(BUFFER_SIZE)\n",
    "dataset = dataset.batch(BATCH_SIZE, drop_remainder=True)"
   ]
  },
  {
   "cell_type": "markdown",
   "metadata": {},
   "source": [
    "## Create encoder, decoder instance"
   ]
  },
  {
   "cell_type": "code",
   "execution_count": 68,
   "metadata": {},
   "outputs": [
    {
     "name": "stdout",
     "output_type": "stream",
     "text": [
      "Filling pre-trained embeddings...\n"
     ]
    }
   ],
   "source": [
    "embedding, embedding_dim, emb_matrix  = load_embeddings('data/starspace_embeddings.tsv', word2idx)"
   ]
  },
  {
   "cell_type": "code",
   "execution_count": 69,
   "metadata": {},
   "outputs": [],
   "source": [
    "# https://stackoverflow.com/a/52566623\n",
    "# https://github.com/tensorflow/tensorflow/issues/14392\n",
    "\n",
    "pretrained_emb = tf.keras.layers.Embedding(vocab_size, embedding_dim, \n",
    "                                           embeddings_initializer = tf.initializers.constant(emb_matrix),\n",
    "                                           trainable=False)"
   ]
  },
  {
   "cell_type": "code",
   "execution_count": 70,
   "metadata": {},
   "outputs": [],
   "source": [
    "encoder = Encoder(vocab_size, embedding_dim, units, BATCH_SIZE, pretrained_emb)\n",
    "decoder = Decoder(vocab_size, embedding_dim, units, BATCH_SIZE, pretrained_emb)\n",
    "optimizer = tf.train.AdamOptimizer()"
   ]
  },
  {
   "cell_type": "markdown",
   "metadata": {},
   "source": [
    "## Mount Google drive to save model checkpoints"
   ]
  },
  {
   "cell_type": "code",
   "execution_count": null,
   "metadata": {},
   "outputs": [],
   "source": [
    "# Run this cell to mount your Google Drive.\n",
    "from google.colab import drive\n",
    "drive.mount('/content/drive')"
   ]
  },
  {
   "cell_type": "markdown",
   "metadata": {},
   "source": [
    "## Checkpoints "
   ]
  },
  {
   "cell_type": "code",
   "execution_count": 95,
   "metadata": {},
   "outputs": [],
   "source": [
    "checkpoint_dir = './cornell-40'\n",
    "checkpoint_prefix = os.path.join(checkpoint_dir, \"ckpt\")\n",
    "checkpoint = tf.train.Checkpoint(optimizer=optimizer,\n",
    "                                 encoder=encoder,\n",
    "                                 decoder=decoder)"
   ]
  },
  {
   "cell_type": "markdown",
   "metadata": {},
   "source": [
    "### Set checkpoint for Google drive "
   ]
  },
  {
   "cell_type": "code",
   "execution_count": null,
   "metadata": {},
   "outputs": [],
   "source": [
    "checkpoint_dir = \"/content/drive/My Drive/cornell-ds-training\"\n",
    "checkpoint_prefix = os.path.join(checkpoint_dir, \"ckpt\")\n",
    "checkpoint = tf.train.Checkpoint(optimizer=optimizer,\n",
    "                                 encoder=encoder,\n",
    "                                 decoder=decoder)"
   ]
  },
  {
   "cell_type": "markdown",
   "metadata": {},
   "source": [
    "## Local checkpoint"
   ]
  },
  {
   "cell_type": "code",
   "execution_count": 61,
   "metadata": {},
   "outputs": [],
   "source": [
    "checkpoint_dir = \"/Users/cab/Dev/DeepLearning/Coursera/aml_spec/nlp/language-model/14-pre-emb-15-20190709T183102Z-001\"\n",
    "checkpoint_prefix = os.path.join(checkpoint_dir, \"ckpt\")\n",
    "checkpoint = tf.train.Checkpoint(optimizer=optimizer,\n",
    "                                 encoder=encoder,\n",
    "                                 decoder=decoder)"
   ]
  },
  {
   "cell_type": "markdown",
   "metadata": {},
   "source": [
    "#### Checkpoint Manager\n",
    "https://www.tensorflow.org/beta/guide/checkpoints?hl=en"
   ]
  },
  {
   "cell_type": "code",
   "execution_count": 96,
   "metadata": {},
   "outputs": [],
   "source": [
    "manager = tf.train.CheckpointManager(checkpoint, \"./cornell-40\", \n",
    "                                     max_to_keep=3)"
   ]
  },
  {
   "cell_type": "code",
   "execution_count": 99,
   "metadata": {},
   "outputs": [
    {
     "data": {
      "text/plain": [
       "'./cornell-40/ckpt-25'"
      ]
     },
     "execution_count": 99,
     "metadata": {},
     "output_type": "execute_result"
    }
   ],
   "source": [
    "tf.train.latest_checkpoint(checkpoint_dir)"
   ]
  },
  {
   "cell_type": "code",
   "execution_count": 110,
   "metadata": {},
   "outputs": [],
   "source": [
    "manager.latest_checkpoint"
   ]
  },
  {
   "cell_type": "markdown",
   "metadata": {},
   "source": [
    "### Restore previous checkpoints "
   ]
  },
  {
   "cell_type": "code",
   "execution_count": 111,
   "metadata": {},
   "outputs": [
    {
     "data": {
      "text/plain": [
       "<tensorflow.python.training.checkpointable.util.InitializationOnlyStatus at 0x1a78507358>"
      ]
     },
     "execution_count": 111,
     "metadata": {},
     "output_type": "execute_result"
    }
   ],
   "source": [
    "checkpoint.restore(manager.latest_checkpoint)"
   ]
  },
  {
   "cell_type": "code",
   "execution_count": 112,
   "metadata": {},
   "outputs": [
    {
     "data": {
      "text/plain": [
       "<tensorflow.python.training.checkpointable.util.CheckpointLoadStatus at 0x1a7850a518>"
      ]
     },
     "execution_count": 112,
     "metadata": {},
     "output_type": "execute_result"
    }
   ],
   "source": [
    "# restoring the latest checkpoint in checkpoint_dir\n",
    "checkpoint.restore(tf.train.latest_checkpoint(checkpoint_dir))"
   ]
  },
  {
   "cell_type": "code",
   "execution_count": 46,
   "metadata": {},
   "outputs": [
    {
     "data": {
      "text/plain": [
       "<tensorflow.python.training.checkpointable.util.CheckpointLoadStatus at 0x1a515836a0>"
      ]
     },
     "execution_count": 46,
     "metadata": {},
     "output_type": "execute_result"
    }
   ],
   "source": [
    "# restoring specific checkpoint in checkpoint_dir\n",
    "checkpoint.restore(\n",
    "    '/Users/cab/Dev/DeepLearning/Coursera/aml_spec/nlp/language-model/14-pre-emb-15-20190709T183102Z-001/ckpt-24')"
   ]
  },
  {
   "cell_type": "markdown",
   "metadata": {},
   "source": [
    "## Training "
   ]
  },
  {
   "cell_type": "code",
   "execution_count": null,
   "metadata": {},
   "outputs": [],
   "source": [
    "train_model(encoder, \n",
    "            decoder, \n",
    "            optimizer,\n",
    "            dataset, \n",
    "            BATCH_SIZE, \n",
    "            N_BATCH,\n",
    "            start_word_index=word_to_idx(word2idx, '<start>'),\n",
    "            epochs=3,\n",
    "            save_checkpoint=lambda: manager.save())"
   ]
  },
  {
   "cell_type": "markdown",
   "metadata": {},
   "source": [
    "## Evaluation"
   ]
  },
  {
   "cell_type": "code",
   "execution_count": 113,
   "metadata": {},
   "outputs": [
    {
     "name": "stdout",
     "output_type": "stream",
     "text": [
      "Input: <start> hi <end>\n",
      "Answer: shhhhh epps pussywillows extanker cocksucker false rangers meanwith dilophosaurus reputation hmmm swell trunk fastest pocketbook \n"
     ]
    },
    {
     "data": {
      "image/png": "[encoded data removed]",
      "text/plain": [
       "<Figure size 720x720 with 1 Axes>"
      ]
     },
     "metadata": {
      "needs_background": "light"
     },
     "output_type": "display_data"
    },
    {
     "data": {
      "text/plain": [
       "'shhhhh epps pussywillows extanker cocksucker false rangers meanwith dilophosaurus reputation hmmm swell trunk fastest pocketbook '"
      ]
     },
     "execution_count": 113,
     "metadata": {},
     "output_type": "execute_result"
    }
   ],
   "source": [
    "gen_answer(\"Hi\", encoder, decoder, dict_index, units, max_length=15, print_debug=True)"
   ]
  },
  {
   "cell_type": "code",
   "execution_count": 118,
   "metadata": {},
   "outputs": [],
   "source": [
    "answer = create_bot(encoder, decoder, dict_index, units, 10)"
   ]
  },
  {
   "cell_type": "code",
   "execution_count": 119,
   "metadata": {},
   "outputs": [
    {
     "data": {
      "text/plain": [
       "'shhhhh epps pussywillows extanker cocksucker false rangers meanwith dilophosaurus proposal '"
      ]
     },
     "execution_count": 119,
     "metadata": {},
     "output_type": "execute_result"
    }
   ],
   "source": [
    "answer(\"hi\")"
   ]
  },
  {
   "cell_type": "code",
   "execution_count": 90,
   "metadata": {},
   "outputs": [],
   "source": [
    "qs = ['Hey',\n",
    "      \"What is your name?\",\n",
    " 'How are you doing?',\n",
    " \"What's your hobby?\",\n",
    " \"Where are you now?\",\n",
    " \"Which city do you live in?\",\n",
    " \"Which country do you live in?\",\n",
    " \"Which country do you live in now?\",\n",
    " 'What is an AI?',\n",
    " 'What is the meaning of life?']"
   ]
  },
  {
   "cell_type": "code",
   "execution_count": 117,
   "metadata": {},
   "outputs": [
    {
     "name": "stdout",
     "output_type": "stream",
     "text": [
      "q:  Hey\n",
      "a:  shhhhh fortytwohundred hips spose dreyfuss burgel telephone nellie dickweed shoulders mmmmmm jest uhmaybe proposal sewers napkin oskar whatta mentor across rosalie despite burgers sonnyboy barbie mmmhmmm shhhh apollo whata choices emotional ace nellie dickweed shoulders mmmmmm jest uhmaybe proposal sewers \n",
      "q:  What is your name?\n",
      "a:  shhhhh fortytwohundred hips spose dreyfuss jodys valet hitchhiking transmits eliminate dilophosaurus reputation hmmm swell trunk fastest pocketbook bollocks yaay reputation hmmm swell trunk fastest pocketbook bollocks yaay reputation hmmm swell trunk fastest pocketbook bollocks yaay reputation hmmm swell trunk fastest \n",
      "q:  How are you doing?\n",
      "a:  cotton och iare contract shoulders mmmmmm jest uhmaybe proposal sewers reputation hmmm swell trunk fastest pocketbook bollocks wellnot fraid oharoundwhy extanker cocksucker false rangers roommate thumper oskar whatta restaurant uhmaybe proposal sewers reputation hmmm swell trunk fastest pocketbook bollocks wellnot \n",
      "q:  What's your hobby?\n",
      "a:  shhhhh fortytwohundred hips spose dreyfuss burgel telephone ooohh macready hidden dilophosaurus proposal sewers reputation hmmm swell trunk fastest rope mommys whata choices emotional ace nellie dickweed shoulders alanone extender whatta mentor across rosalie despite burgers sonnyboy barbie mmmhmmm shhhh apollo \n",
      "q:  Where are you now?\n",
      "a:  marge fraid emergency firefly yesif rug suga proposal sewers proposal sewers proposal sewers proposal sewers proposal sewers proposal sewers proposal sewers proposal sewers proposal sewers proposal sewers proposal sewers proposal sewers proposal sewers proposal sewers proposal sewers proposal sewers proposal \n",
      "q:  Which city do you live in?\n",
      "a:  shhhhh prefer mandrake rosalie despite burgers sonnyboy cos leak drum phones goose jason iuhcheck reputation huskies jest uhmaybe proposal sewers reputation hmmm swell trunk fastest pocketbook bollocks shant finally oops shed seats noticed mmmmmmm yesif dunno moonlight trunk fastest pocketbook \n",
      "q:  Which country do you live in?\n",
      "a:  shhhhh prefer mandrake rosalie despite burgers sonnyboy cos leak drum phones goose jason iuhcheck reputation huskies jest uhmaybe proposal sewers reputation hmmm swell trunk fastest pocketbook bollocks shant finally perk ohoh otis noticed mmmmmmm uhoh gambling kips aerobics amish reputation \n",
      "q:  Which country do you live in now?\n",
      "a:  shhhhh prefer mandrake pop ooohh macready yeh gambling nell gwan youre mebbe cassandra crew yesyouyoure stifler pacifist dickweed shoulders mmmmmm yesyouyoure stifler pacifist dickweed shoulders mmmmmm yesyouyoure stifler pacifist dickweed shoulders mmmmmm yesyouyoure stifler pacifist dickweed shoulders mmmmmm yesyouyoure stifler \n",
      "q:  What is an AI?\n",
      "a:  shhhhh fortytwohundred hips spose dreyfuss jodys boobs hmmmm secretary moonlight extraordinarily maura bettys maximum buddhist cos leak drum nyanyanya fortytwohundred hips spose dreyfuss jodys boobs hmmmm secretary moonlight extraordinarily maura bettys maximum buddhist cos leak drum nyanyanya fortytwohundred hips spose \n",
      "q:  What is the meaning of life?\n",
      "a:  shhhhh fortytwohundred hips spose dreyfuss jodys valet hitchhiking transmits eliminate dilophosaurus reputation hmmm swell trunk fastest pocketbook bollocks yaay reputation hmmm swell trunk fastest pocketbook bollocks yaay reputation hmmm swell trunk fastest pocketbook bollocks yaay reputation hmmm swell trunk fastest \n"
     ]
    }
   ],
   "source": [
    "for q in qs:\n",
    "    print(\"q: \", q)\n",
    "    print(\"a: \", answer(q))"
   ]
  }
 ],
 "metadata": {
  "kernelspec": {
   "display_name": "Python 3",
   "language": "python",
   "name": "python3"
  },
  "language_info": {
   "codemirror_mode": {
    "name": "ipython",
    "version": 3
   },
   "file_extension": ".py",
   "mimetype": "text/x-python",
   "name": "python",
   "nbconvert_exporter": "python",
   "pygments_lexer": "ipython3",
   "version": "3.7.3"
  }
 },
 "nbformat": 4,
 "nbformat_minor": 2
}
