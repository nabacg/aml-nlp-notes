{
  "nbformat": 4,
  "nbformat_minor": 0,
  "metadata": {
    "colab": {
      "name": "seq2seq-lang-model.ipynb",
      "version": "0.3.2",
      "provenance": [],
      "toc_visible": true
    },
    "language_info": {
      "codemirror_mode": {
        "name": "ipython",
        "version": 3
      },
      "file_extension": ".py",
      "mimetype": "text/x-python",
      "name": "python",
      "nbconvert_exporter": "python",
      "pygments_lexer": "ipython3",
      "version": "3.7.3"
    },
    "kernelspec": {
      "name": "python3",
      "display_name": "Python 3"
    },
    "accelerator": "GPU"
  },
  "cells": [
    {
      "cell_type": "code",
      "metadata": {
        "id": "dvFqTCPtu0wN",
        "colab_type": "code",
        "colab": {
          "base_uri": "https://localhost:8080/",
          "height": 187
        },
        "outputId": "5bd9eff5-370e-4e67-9974-c3c595269652"
      },
      "source": [
        "from tensorflow.python.client import device_lib\n",
        "\n",
        "\n",
        "[x for x in device_lib.list_local_devices() if x.device_type == 'GPU']"
      ],
      "execution_count": 2,
      "outputs": [
        {
          "output_type": "execute_result",
          "data": {
            "text/plain": [
              "[name: \"/device:GPU:0\"\n",
              " device_type: \"GPU\"\n",
              " memory_limit: 14892338381\n",
              " locality {\n",
              "   bus_id: 1\n",
              "   links {\n",
              "   }\n",
              " }\n",
              " incarnation: 17462683336097990936\n",
              " physical_device_desc: \"device: 0, name: Tesla T4, pci bus id: 0000:00:04.0, compute capability: 7.5\"]"
            ]
          },
          "metadata": {
            "tags": []
          },
          "execution_count": 2
        }
      ]
    },
    {
      "cell_type": "markdown",
      "metadata": {
        "id": "k8zmjY2UwUwy",
        "colab_type": "text"
      },
      "source": [
        "## Code checkout and set PWD"
      ]
    },
    {
      "cell_type": "code",
      "metadata": {
        "id": "eqXk5PRvbcKW",
        "colab_type": "code",
        "colab": {
          "base_uri": "https://localhost:8080/",
          "height": 119
        },
        "outputId": "6cf2d42d-db16-41f4-a882-b28b27620c5f"
      },
      "source": [
        "! git clone https://github.com/nabacg/aml-nlp-notes.git"
      ],
      "execution_count": 5,
      "outputs": [
        {
          "output_type": "stream",
          "text": [
            "Cloning into 'aml-nlp-notes'...\n",
            "remote: Enumerating objects: 76, done.\u001b[K\n",
            "remote: Counting objects: 100% (76/76), done.\u001b[K\n",
            "remote: Compressing objects: 100% (57/57), done.\u001b[K\n",
            "remote: Total 76 (delta 19), reused 70 (delta 15), pack-reused 0\u001b[K\n",
            "Unpacking objects: 100% (76/76), done.\n"
          ],
          "name": "stdout"
        }
      ]
    },
    {
      "cell_type": "code",
      "metadata": {
        "id": "sysYudfZcbki",
        "colab_type": "code",
        "colab": {
          "base_uri": "https://localhost:8080/",
          "height": 51
        },
        "outputId": "e6da12e6-4503-40e8-a893-fae6de89554a"
      },
      "source": [
        "import os \n",
        "print(os.getcwd())\n",
        "[n for n in dir(os) if 'ch' in n]\n",
        "os.chdir('/content/aml-nlp-notes/language-model')\n",
        "print(os.getcwd())"
      ],
      "execution_count": 6,
      "outputs": [
        {
          "output_type": "stream",
          "text": [
            "/content\n",
            "/content/aml-nlp-notes/language-model\n"
          ],
          "name": "stdout"
        }
      ]
    },
    {
      "cell_type": "code",
      "metadata": {
        "id": "Z5e5jgbebQxv",
        "colab_type": "code",
        "colab": {
          "base_uri": "https://localhost:8080/",
          "height": 122
        },
        "outputId": "b187017a-035f-4b7c-aa55-be7cbd4fdf03"
      },
      "source": [
        "# Run this cell to mount your Google Drive.\n",
        "from google.colab import drive\n",
        "drive.mount('/content/drive')"
      ],
      "execution_count": 52,
      "outputs": [
        {
          "output_type": "stream",
          "text": [
            "Go to this URL in a browser: https://accounts.google.com/o/oauth2/auth?client_id=947318989803-6bn6qk8qdgf4n4g3pfee6491hc0brc4i.apps.googleusercontent.com&redirect_uri=urn%3Aietf%3Awg%3Aoauth%3A2.0%3Aoob&scope=email%20https%3A%2F%2Fwww.googleapis.com%2Fauth%2Fdocs.test%20https%3A%2F%2Fwww.googleapis.com%2Fauth%2Fdrive%20https%3A%2F%2Fwww.googleapis.com%2Fauth%2Fdrive.photos.readonly%20https%3A%2F%2Fwww.googleapis.com%2Fauth%2Fpeopleapi.readonly&response_type=code\n",
            "\n",
            "Enter your authorization code:\n",
            "··········\n",
            "Mounted at /content/drive\n"
          ],
          "name": "stdout"
        }
      ]
    },
    {
      "cell_type": "markdown",
      "metadata": {
        "id": "i-44V7SdwiC0",
        "colab_type": "text"
      },
      "source": [
        "### Download data"
      ]
    },
    {
      "cell_type": "code",
      "metadata": {
        "id": "A89G_YsbbBck",
        "colab_type": "code",
        "colab": {}
      },
      "source": [
        "! cat download_cornell.sh"
      ],
      "execution_count": 0,
      "outputs": []
    },
    {
      "cell_type": "code",
      "metadata": {
        "scrolled": true,
        "id": "l1RdJMftbBcp",
        "colab_type": "code",
        "colab": {
          "base_uri": "https://localhost:8080/",
          "height": 581
        },
        "outputId": "efdf7b69-10f0-40c9-a07e-e05da14d6dec"
      },
      "source": [
        "! sh download_cornell.sh"
      ],
      "execution_count": 8,
      "outputs": [
        {
          "output_type": "stream",
          "text": [
            "--2019-06-24 09:12:51--  https://github.com/Conchylicultor/DeepQA/raw/master/data/cornell/movie_conversations.txt\n",
            "Resolving github.com (github.com)... 192.30.253.113\n",
            "Connecting to github.com (github.com)|192.30.253.113|:443... connected.\n",
            "HTTP request sent, awaiting response... 302 Found\n",
            "Location: https://raw.githubusercontent.com/Conchylicultor/DeepQA/master/data/cornell/movie_conversations.txt [following]\n",
            "--2019-06-24 09:12:51--  https://raw.githubusercontent.com/Conchylicultor/DeepQA/master/data/cornell/movie_conversations.txt\n",
            "Resolving raw.githubusercontent.com (raw.githubusercontent.com)... 151.101.0.133, 151.101.64.133, 151.101.128.133, ...\n",
            "Connecting to raw.githubusercontent.com (raw.githubusercontent.com)|151.101.0.133|:443... connected.\n",
            "HTTP request sent, awaiting response... 200 OK\n",
            "Length: 6760930 (6.4M) [text/plain]\n",
            "Saving to: ‘movie_conversations.txt’\n",
            "\n",
            "movie_conversations 100%[===================>]   6.45M  --.-KB/s    in 0.09s   \n",
            "\n",
            "2019-06-24 09:12:51 (68.5 MB/s) - ‘movie_conversations.txt’ saved [6760930/6760930]\n",
            "\n",
            "--2019-06-24 09:12:51--  https://github.com/Conchylicultor/DeepQA/raw/master/data/cornell/movie_lines.txt\n",
            "Resolving github.com (github.com)... 192.30.253.113\n",
            "Connecting to github.com (github.com)|192.30.253.113|:443... connected.\n",
            "HTTP request sent, awaiting response... 302 Found\n",
            "Location: https://raw.githubusercontent.com/Conchylicultor/DeepQA/master/data/cornell/movie_lines.txt [following]\n",
            "--2019-06-24 09:12:52--  https://raw.githubusercontent.com/Conchylicultor/DeepQA/master/data/cornell/movie_lines.txt\n",
            "Resolving raw.githubusercontent.com (raw.githubusercontent.com)... 151.101.0.133, 151.101.64.133, 151.101.128.133, ...\n",
            "Connecting to raw.githubusercontent.com (raw.githubusercontent.com)|151.101.0.133|:443... connected.\n",
            "HTTP request sent, awaiting response... 200 OK\n",
            "Length: 34641919 (33M) [text/plain]\n",
            "Saving to: ‘movie_lines.txt’\n",
            "\n",
            "movie_lines.txt     100%[===================>]  33.04M   114MB/s    in 0.3s    \n",
            "\n",
            "2019-06-24 09:12:52 (114 MB/s) - ‘movie_lines.txt’ saved [34641919/34641919]\n",
            "\n"
          ],
          "name": "stdout"
        }
      ]
    },
    {
      "cell_type": "code",
      "metadata": {
        "scrolled": true,
        "id": "kK3FSmx5bBcv",
        "colab_type": "code",
        "colab": {
          "base_uri": "https://localhost:8080/",
          "height": 442
        },
        "outputId": "fd3d9fc6-fcb0-426a-cfe7-6f1fc5580e18"
      },
      "source": [
        "! sh download_opensubs.sh"
      ],
      "execution_count": 10,
      "outputs": [
        {
          "output_type": "stream",
          "text": [
            "--2019-06-24 09:15:06--  http://opus.lingfil.uu.se/download.php?f=OpenSubtitles/en.tar.gz\n",
            "Resolving opus.lingfil.uu.se (opus.lingfil.uu.se)... 130.238.78.148\n",
            "Connecting to opus.lingfil.uu.se (opus.lingfil.uu.se)|130.238.78.148|:80... connected.\n",
            "HTTP request sent, awaiting response... 301 Moved Permanently\n",
            "Location: http://opus.nlpl.eu/download.php?f=OpenSubtitles/en.tar.gz [following]\n",
            "--2019-06-24 09:15:07--  http://opus.nlpl.eu/download.php?f=OpenSubtitles/en.tar.gz\n",
            "Resolving opus.nlpl.eu (opus.nlpl.eu)... 193.166.25.9\n",
            "Connecting to opus.nlpl.eu (opus.nlpl.eu)|193.166.25.9|:80... connected.\n",
            "HTTP request sent, awaiting response... 302 Found\n",
            "Location: https://object.pouta.csc.fi/OPUS-OpenSubtitles/v1/xml/en.zip [following]\n",
            "--2019-06-24 09:15:07--  https://object.pouta.csc.fi/OPUS-OpenSubtitles/v1/xml/en.zip\n",
            "Resolving object.pouta.csc.fi (object.pouta.csc.fi)... 86.50.254.0\n",
            "Connecting to object.pouta.csc.fi (object.pouta.csc.fi)|86.50.254.0|:443... connected.\n",
            "HTTP request sent, awaiting response... 200 OK\n",
            "Length: 148967861 (142M) [application/zip]\n",
            "Saving to: ‘en.tar.gz’\n",
            "\n",
            "en.tar.gz           100%[===================>] 142.07M  19.2MB/s    in 8.5s    \n",
            "\n",
            "2019-06-24 09:15:16 (16.7 MB/s) - ‘en.tar.gz’ saved [148967861/148967861]\n",
            "\n",
            "Archive:  en.tar.gz\n",
            "replace INFO? [y]es, [n]o, [A]ll, [N]one, [r]ename: n\n",
            "replace README? [y]es, [n]o, [A]ll, [N]one, [r]ename: no\n",
            "replace LICENSE? [y]es, [n]o, [A]ll, [N]one, [r]ename: ^C\n"
          ],
          "name": "stdout"
        }
      ]
    },
    {
      "cell_type": "code",
      "metadata": {
        "id": "5sqCqFNebBcz",
        "colab_type": "code",
        "colab": {}
      },
      "source": [
        "! cat download_opensubs.sh"
      ],
      "execution_count": 0,
      "outputs": []
    },
    {
      "cell_type": "code",
      "metadata": {
        "id": "zLm0dZubdtQM",
        "colab_type": "code",
        "colab": {}
      },
      "source": [
        "! wget -O en.tar.gz http://opus.lingfil.uu.se/download.php?f=OpenSubtitles/en.tar.gz"
      ],
      "execution_count": 0,
      "outputs": []
    },
    {
      "cell_type": "code",
      "metadata": {
        "id": "35NMc_c0eLNq",
        "colab_type": "code",
        "colab": {}
      },
      "source": [
        "! unzip en.tar.gz"
      ],
      "execution_count": 0,
      "outputs": []
    },
    {
      "cell_type": "code",
      "metadata": {
        "id": "EBa1blItePpG",
        "colab_type": "code",
        "colab": {}
      },
      "source": [
        "! mv OpenSubtitles/ data/opensubs/"
      ],
      "execution_count": 0,
      "outputs": []
    },
    {
      "cell_type": "code",
      "metadata": {
        "id": "UbIBRfXVfjpw",
        "colab_type": "code",
        "colab": {
          "base_uri": "https://localhost:8080/",
          "height": 34
        },
        "outputId": "a563acf9-33f8-4335-d6ea-a2cbe7f81a40"
      },
      "source": [
        "! ls data/opensubs/OpenSubtitles/"
      ],
      "execution_count": 12,
      "outputs": [
        {
          "output_type": "stream",
          "text": [
            "xml\n"
          ],
          "name": "stdout"
        }
      ]
    },
    {
      "cell_type": "code",
      "metadata": {
        "id": "SkKuQ6Edf1lI",
        "colab_type": "code",
        "colab": {
          "base_uri": "https://localhost:8080/",
          "height": 258
        },
        "outputId": "f89bfbdb-5e5a-4a57-d0b4-28ed7c4e3976"
      },
      "source": [
        "dataset = datasets.OpensubsData('data/opensubs')\n",
        "conversations = dataset.getConversations()\n",
        "len(conversations)\n",
        "\n",
        "# xml_doc = dataset.getXML('data/opensubs/OpenSubtitles/xml/en/Drama/1964/3322_150841_205765_alexis_zorbas.xml')\n",
        "# xml_doc = dataset.getXML('data/opensubs/OpenSubtitles/xml/en/Drama/1964/1953_216962_285208_onibaba.info')\n",
        "\n",
        "# dataset.genList(xml_doc)"
      ],
      "execution_count": 4,
      "outputs": [
        {
          "output_type": "stream",
          "text": [
            "OpenSubtitles data files:   0%|          | 3/4634 [00:00<03:47, 20.37it/s]"
          ],
          "name": "stderr"
        },
        {
          "output_type": "stream",
          "text": [
            "Loading OpenSubtitles conversations in data/opensubs.\n"
          ],
          "name": "stdout"
        },
        {
          "output_type": "stream",
          "text": [
            "OpenSubtitles data files:   4%|▍         | 197/4634 [00:06<02:40, 27.57it/s]"
          ],
          "name": "stderr"
        },
        {
          "output_type": "stream",
          "text": [
            "Skipping file data/opensubs/OpenSubtitles/xml/en/Drama/2002/3265_149497_204017_unfaithful.xml with errors.\n"
          ],
          "name": "stdout"
        },
        {
          "output_type": "stream",
          "text": [
            "OpenSubtitles data files:   9%|▉         | 408/4634 [00:15<02:33, 27.53it/s]"
          ],
          "name": "stderr"
        },
        {
          "output_type": "stream",
          "text": [
            "Skipping file data/opensubs/OpenSubtitles/xml/en/Drama/2003/1723_68784_89159_big_fish.xml with errors.\n"
          ],
          "name": "stdout"
        },
        {
          "output_type": "stream",
          "text": [
            "OpenSubtitles data files:  15%|█▌        | 698/4634 [00:27<03:01, 21.64it/s]"
          ],
          "name": "stderr"
        },
        {
          "output_type": "stream",
          "text": [
            "Skipping file data/opensubs/OpenSubtitles/xml/en/Drama/2004/146_206647_272090_eternal_sunshine_of_the_spotless_mind.xml with errors.\n"
          ],
          "name": "stdout"
        },
        {
          "output_type": "stream",
          "text": [
            "OpenSubtitles data files:  19%|█▊        | 863/4634 [00:35<02:26, 25.76it/s]"
          ],
          "name": "stderr"
        },
        {
          "output_type": "stream",
          "text": [
            "Skipping file data/opensubs/OpenSubtitles/xml/en/Drama/2000/179_88528_119102_batoru_rowaiaru.xml with errors.\n"
          ],
          "name": "stdout"
        },
        {
          "output_type": "stream",
          "text": [
            "OpenSubtitles data files:  33%|███▎      | 1548/4634 [01:03<01:49, 28.06it/s]"
          ],
          "name": "stderr"
        },
        {
          "output_type": "stream",
          "text": [
            "Skipping file data/opensubs/OpenSubtitles/xml/en/Action/2003/602_152466_207871_batoru_rowaiaru_ii_rekuiemu.xml with errors.\n"
          ],
          "name": "stdout"
        },
        {
          "output_type": "stream",
          "text": [
            "OpenSubtitles data files:  38%|███▊      | 1782/4634 [01:12<01:39, 28.70it/s]"
          ],
          "name": "stderr"
        },
        {
          "output_type": "stream",
          "text": [
            "Skipping file data/opensubs/OpenSubtitles/xml/en/Action/2004/59_84873_113518_appurushdo.xml with errors.\n"
          ],
          "name": "stdout"
        },
        {
          "output_type": "stream",
          "text": [
            "OpenSubtitles data files:  56%|█████▋    | 2614/4634 [01:50<01:34, 21.39it/s]"
          ],
          "name": "stderr"
        },
        {
          "output_type": "stream",
          "text": [
            "Skipping file data/opensubs/OpenSubtitles/xml/en/Horror/1922/1166_134135_184270_nosferatu_eine_symphonie_des_grauens.xml with errors.\n"
          ],
          "name": "stdout"
        },
        {
          "output_type": "stream",
          "text": [
            "OpenSubtitles data files:  63%|██████▎   | 2925/4634 [02:02<01:37, 17.56it/s]"
          ],
          "name": "stderr"
        },
        {
          "output_type": "stream",
          "text": [
            "Skipping file data/opensubs/OpenSubtitles/xml/en/Family/2001/3935_19508_22105_cats__dogs.xml with errors.\n"
          ],
          "name": "stdout"
        },
        {
          "output_type": "stream",
          "text": [
            "OpenSubtitles data files:  82%|████████▏ | 3798/4634 [02:45<00:32, 25.55it/s]"
          ],
          "name": "stderr"
        },
        {
          "output_type": "stream",
          "text": [
            "Skipping file data/opensubs/OpenSubtitles/xml/en/Comedy/2003/529_124078_171007_how_to_lose_a_guy_in_10_days.xml with errors.\n"
          ],
          "name": "stdout"
        },
        {
          "output_type": "stream",
          "text": [
            "OpenSubtitles data files:  89%|████████▊ | 4104/4634 [03:04<00:31, 16.92it/s]"
          ],
          "name": "stderr"
        },
        {
          "output_type": "stream",
          "text": [
            "Skipping file data/opensubs/OpenSubtitles/xml/en/Comedy/2004/2480_226704_299940_little_black_book.xml with errors.\n"
          ],
          "name": "stdout"
        },
        {
          "output_type": "stream",
          "text": [
            "OpenSubtitles data files: 100%|██████████| 4634/4634 [03:31<00:00, 21.91it/s]\n"
          ],
          "name": "stderr"
        },
        {
          "output_type": "execute_result",
          "data": {
            "text/plain": [
              "1648080"
            ]
          },
          "metadata": {
            "tags": []
          },
          "execution_count": 4
        }
      ]
    },
    {
      "cell_type": "code",
      "metadata": {
        "id": "u4SYwvuVgV__",
        "colab_type": "code",
        "colab": {}
      },
      "source": [
        "len([n for n in dataset.filesInDir('data/opensubs') if not(n.endswith('.xml'))]), len([n for n in dataset.filesInDir('data/opensubs') if n.endswith('.xml')])"
      ],
      "execution_count": 0,
      "outputs": []
    },
    {
      "cell_type": "markdown",
      "metadata": {
        "id": "krt_AcjAbBc3",
        "colab_type": "text"
      },
      "source": [
        "## Datasets "
      ]
    },
    {
      "cell_type": "code",
      "metadata": {
        "id": "6W5W6_-KbBc4",
        "colab_type": "code",
        "colab": {}
      },
      "source": [
        "import datasets\n",
        "import argparse\n",
        "import os"
      ],
      "execution_count": 0,
      "outputs": []
    },
    {
      "cell_type": "code",
      "metadata": {
        "id": "bx0z4PaAbBc8",
        "colab_type": "code",
        "colab": {}
      },
      "source": [
        "dataset_path = 'data/cornell'\n",
        "max_sentence_length = 20"
      ],
      "execution_count": 0,
      "outputs": []
    },
    {
      "cell_type": "code",
      "metadata": {
        "id": "FPBh2GzKbBc_",
        "colab_type": "code",
        "colab": {
          "base_uri": "https://localhost:8080/",
          "height": 164
        },
        "outputId": "4962bb6b-9b19-472a-c1ae-3eba8be4c150"
      },
      "source": [
        "data = datasets.readCornellData(dataset_path, max_len=max_sentence_length)"
      ],
      "execution_count": 6,
      "outputs": [
        {
          "output_type": "error",
          "ename": "NameError",
          "evalue": "ignored",
          "traceback": [
            "\u001b[0;31m---------------------------------------------------------------------------\u001b[0m",
            "\u001b[0;31mNameError\u001b[0m                                 Traceback (most recent call last)",
            "\u001b[0;32m<ipython-input-6-6c12adbc43de>\u001b[0m in \u001b[0;36m<module>\u001b[0;34m()\u001b[0m\n\u001b[0;32m----> 1\u001b[0;31m \u001b[0mdata\u001b[0m \u001b[0;34m=\u001b[0m \u001b[0mdatasets\u001b[0m\u001b[0;34m.\u001b[0m\u001b[0mreadCornellData\u001b[0m\u001b[0;34m(\u001b[0m\u001b[0mdataset_path\u001b[0m\u001b[0;34m,\u001b[0m \u001b[0mmax_len\u001b[0m\u001b[0;34m=\u001b[0m\u001b[0mmax_sentence_length\u001b[0m\u001b[0;34m)\u001b[0m\u001b[0;34m\u001b[0m\u001b[0;34m\u001b[0m\u001b[0m\n\u001b[0m",
            "\u001b[0;31mNameError\u001b[0m: name 'dataset_path' is not defined"
          ]
        }
      ]
    },
    {
      "cell_type": "code",
      "metadata": {
        "id": "s4ygmsyObBdD",
        "colab_type": "code",
        "colab": {
          "base_uri": "https://localhost:8080/",
          "height": 68
        },
        "outputId": "f7051c64-dfd2-416e-c27a-5706f93a8efb"
      },
      "source": [
        "data2 = datasets.readOpensubsData('data/opensubs', max_len=max_sentence_length)"
      ],
      "execution_count": 77,
      "outputs": [
        {
          "output_type": "stream",
          "text": [
            "OpenSubtitles data files: 100%|██████████| 4634/4634 [00:00<00:00, 1686602.29it/s]\n",
            "0it [00:00, ?it/s]"
          ],
          "name": "stderr"
        },
        {
          "output_type": "stream",
          "text": [
            "Loading OpenSubtitles conversations in data/opensubs.\n"
          ],
          "name": "stdout"
        },
        {
          "output_type": "stream",
          "text": [
            "\n"
          ],
          "name": "stderr"
        }
      ]
    },
    {
      "cell_type": "code",
      "metadata": {
        "id": "CPbW5mQRbBdQ",
        "colab_type": "code",
        "colab": {}
      },
      "source": [
        "data = [(preprocess_sentence(a), preprocess_sentence(b)) for (a,b) in create_dataset(num_examples)]"
      ],
      "execution_count": 0,
      "outputs": []
    },
    {
      "cell_type": "code",
      "metadata": {
        "id": "FyaCcqmBbBdU",
        "colab_type": "code",
        "colab": {
          "base_uri": "https://localhost:8080/",
          "height": 34
        },
        "outputId": "3887ce60-73af-4bd1-b4d8-a24c277d9de6"
      },
      "source": [
        "len(data), len(data2)"
      ],
      "execution_count": 78,
      "outputs": [
        {
          "output_type": "execute_result",
          "data": {
            "text/plain": [
              "(5256, 0)"
            ]
          },
          "metadata": {
            "tags": []
          },
          "execution_count": 78
        }
      ]
    },
    {
      "cell_type": "code",
      "metadata": {
        "id": "m4nnTVPZbBdX",
        "colab_type": "code",
        "colab": {}
      },
      "source": [
        "data2[:10]"
      ],
      "execution_count": 0,
      "outputs": []
    },
    {
      "cell_type": "code",
      "metadata": {
        "id": "NL_Rt718MCk0",
        "colab_type": "code",
        "colab": {
          "base_uri": "https://localhost:8080/",
          "height": 51
        },
        "outputId": "ea4e78b7-d6ee-4d07-fa9a-e9162eaaee13"
      },
      "source": [
        "[iter(data_file)]*2"
      ],
      "execution_count": 81,
      "outputs": [
        {
          "output_type": "execute_result",
          "data": {
            "text/plain": [
              "[<_io.TextIOWrapper name='data/chat_corpus/twitter_en.txt' mode='r' encoding='UTF-8'>,\n",
              " <_io.TextIOWrapper name='data/chat_corpus/twitter_en.txt' mode='r' encoding='UTF-8'>]"
            ]
          },
          "metadata": {
            "tags": []
          },
          "execution_count": 81
        }
      ]
    },
    {
      "cell_type": "code",
      "metadata": {
        "id": "ihPktrkNPxif",
        "colab_type": "code",
        "colab": {}
      },
      "source": [
        ""
      ],
      "execution_count": 0,
      "outputs": []
    },
    {
      "cell_type": "code",
      "metadata": {
        "id": "buI9ixJFPHgI",
        "colab_type": "code",
        "colab": {}
      },
      "source": [
        "def grouped(iterable, n):\n",
        "    \"s -> (s0,s1,s2,...sn-1), (sn,sn+1,sn+2,...s2n-1), (s2n,s2n+1,s2n+2,...s3n-1), ...\"\n",
        "    return zip(*[iter(iterable)]*n)"
      ],
      "execution_count": 0,
      "outputs": []
    },
    {
      "cell_type": "code",
      "metadata": {
        "id": "QOKam_vxLOux",
        "colab_type": "code",
        "colab": {}
      },
      "source": [
        "import itertools as it\n",
        "# data_file =  list(open('data/chat_corpus/twitter_en.txt'))\n",
        "# data3 = [(preprocess_sentence(q), preprocess_sentence(a)) for (q,a) in zip(data_file[:-1], data_file[1:])]\n",
        "data_file =  open('data/chat_corpus/twitter_en.txt')\n",
        "data3 = [(preprocess_sentence(q), preprocess_sentence(a)) for (q,a) in grouped(data_file, 2)]\n"
      ],
      "execution_count": 0,
      "outputs": []
    },
    {
      "cell_type": "markdown",
      "metadata": {
        "id": "MSFazwhfbBdc",
        "colab_type": "text"
      },
      "source": [
        "## Data preprocessing "
      ]
    },
    {
      "cell_type": "code",
      "metadata": {
        "id": "UUp9p715bBdd",
        "colab_type": "code",
        "colab": {}
      },
      "source": [
        "# Converts the unicode file to ascii\n",
        "def unicode_to_ascii(s):\n",
        "    return ''.join(c for c in unicodedata.normalize('NFD', s)\n",
        "        if unicodedata.category(c) != 'Mn')\n",
        "\n",
        "\n",
        "def preprocess_sentence(w):\n",
        "#     w = unicode_to_ascii(w.lower().strip())\n",
        "    w = w.lower().strip()\n",
        "    \n",
        "    # creating a space between a word and the punctuation following it\n",
        "    # eg: \"he is a boy.\" => \"he is a boy .\" \n",
        "    # Reference:- https://stackoverflow.com/questions/3645931/python-padding-punctuation-with-white-spaces-keeping-punctuation\n",
        "    w = re.sub(r\"([?.!,¿])\", r\" \\1 \", w)\n",
        "    w = re.sub(r'[\" \"]+', \" \", w)\n",
        "    \n",
        "    # replacing everything with space except (a-z, A-Z, \".\", \"?\", \"!\", \",\")\n",
        "#     w = re.sub(r\"[^a-zA-Z?.!,¿]+\", \" \", w)\n",
        "    w = re.sub(r\"[^a-zA-Z]+\", \" \", w)\n",
        "    w = w.rstrip().strip()\n",
        "    \n",
        "    # adding a start and an end token to the sentence\n",
        "    # so that the model know when to start and stop predicting.\n",
        "    w = '<start> ' + w + ' <end>'\n",
        "    return w"
      ],
      "execution_count": 0,
      "outputs": []
    },
    {
      "cell_type": "code",
      "metadata": {
        "id": "2pGjgADtbBdg",
        "colab_type": "code",
        "colab": {}
      },
      "source": [
        "# This class creates a word -> index mapping (e.g,. \"dad\" -> 5) and vice-versa \n",
        "# (e.g., 5 -> \"dad\") for each language,\n",
        "\n",
        "\n",
        "def create_index(phrases):   \n",
        "    \n",
        "    word2idx = {}\n",
        "    idx2word = {}\n",
        "    vocab = set()\n",
        "    \n",
        "    for phrase in phrases:\n",
        "        vocab.update(phrase.split(' '))\n",
        "    \n",
        "    vocab = sorted(vocab)\n",
        "    \n",
        "    word2idx['<pad>'] = 0\n",
        "    \n",
        "    for index, word in enumerate(vocab):\n",
        "        word2idx[word] = index + 1\n",
        "    \n",
        "    for word, index in word2idx.items():\n",
        "        idx2word[index] = word\n",
        "        \n",
        "    return word2idx, idx2word, vocab\n",
        "\n"
      ],
      "execution_count": 0,
      "outputs": []
    },
    {
      "cell_type": "code",
      "metadata": {
        "id": "xbocOObJVLFT",
        "colab_type": "code",
        "colab": {}
      },
      "source": [
        "# This class creates a word -> index mapping (e.g,. \"dad\" -> 5) and vice-versa \n",
        "# (e.g., 5 -> \"dad\") for each language,\n",
        "\n",
        "from collections import Counter\n",
        "UNK_WORD_INDEX = 1\n",
        "def create_index(phrases, vocab_size = 15000):   # why 15k ? because that's what they used in https://arxiv.org/pdf/1406.1078.pdf\n",
        "    word2idx = {}\n",
        "#     vocab_size = 15000 \n",
        "    idx2word = {}\n",
        "    vocab = set()\n",
        "    # https://docs.python.org/3/library/collections.html#collections.Counter\n",
        "    wordcount = Counter([p for s in phrases for p in s.split(' ')])\n",
        "\n",
        "    vocab = sorted([w for (w, c) in wordcount.most_common(vocab_size)])\n",
        "    \n",
        "    word2idx['<pad>'] = 0\n",
        "    word2idx['<unk>'] = UNK_WORD_INDEX\n",
        "    for index, word in enumerate(vocab):\n",
        "        word2idx[word] = index + 2\n",
        "    \n",
        "    for word, index in word2idx.items():\n",
        "        idx2word[index] = word\n",
        "        \n",
        "    return word2idx, idx2word, vocab\n",
        "  \n",
        "def word_to_idx(lookup, word):\n",
        "  return lookup.get(word, UNK_WORD_INDEX)\n",
        "\n",
        "def idx_to_word(lookup, idx): \n",
        "  return lookup.get(idx, '<unk>')"
      ],
      "execution_count": 0,
      "outputs": []
    },
    {
      "cell_type": "code",
      "metadata": {
        "id": "mYt3IQj_c3gv",
        "colab_type": "code",
        "colab": {
          "base_uri": "https://localhost:8080/",
          "height": 34
        },
        "outputId": "cbaa971d-5771-43f1-d0fb-ca70e2d9b5cc"
      },
      "source": [
        "word2idx, idx2word, vocab = create_index([p for ps in data3 for p in ps])\n",
        "len(word2idx), len(idx2word), len(vocab)"
      ],
      "execution_count": 123,
      "outputs": [
        {
          "output_type": "execute_result",
          "data": {
            "text/plain": [
              "(15002, 15002, 15000)"
            ]
          },
          "metadata": {
            "tags": []
          },
          "execution_count": 123
        }
      ]
    },
    {
      "cell_type": "markdown",
      "metadata": {
        "id": "FEPl0qEZbBdj",
        "colab_type": "text"
      },
      "source": [
        "## Tensorflow imports"
      ]
    },
    {
      "cell_type": "code",
      "metadata": {
        "id": "OIyvptnYbBdk",
        "colab_type": "code",
        "colab": {
          "base_uri": "https://localhost:8080/",
          "height": 34
        },
        "outputId": "43d54a58-5e2f-4ee2-c964-dda1f697e382"
      },
      "source": [
        "from __future__ import absolute_import, division, print_function\n",
        "\n",
        "# Import TensorFlow >= 1.10 and enable eager execution\n",
        "import tensorflow as tf\n",
        "\n",
        "tf.enable_eager_execution()\n",
        "\n",
        "import matplotlib.pyplot as plt\n",
        "from sklearn.model_selection import train_test_split\n",
        "\n",
        "import unicodedata\n",
        "import re\n",
        "import numpy as np\n",
        "import os\n",
        "import time\n",
        "\n",
        "print(tf.__version__)"
      ],
      "execution_count": 18,
      "outputs": [
        {
          "output_type": "stream",
          "text": [
            "1.14.0-rc1\n"
          ],
          "name": "stdout"
        }
      ]
    },
    {
      "cell_type": "code",
      "metadata": {
        "id": "J2FQlsF9bBdt",
        "colab_type": "code",
        "colab": {}
      },
      "source": [
        "def grouped(iterable, n):\n",
        "    \"s -> (s0,s1,s2,...sn-1), (sn,sn+1,sn+2,...s2n-1), (s2n,s2n+1,s2n+2,...s3n-1), ...\"\n",
        "    return zip(*[iter(iterable)]*n)\n",
        "\n",
        "def readTwitterData():\n",
        "  data_file =  open('data/chat_corpus/twitter_en.txt')\n",
        "  return [(preprocess_sentence(q), preprocess_sentence(a)) for (q,a) in grouped(data_file, 2)]\n",
        " \n",
        "def create_dataset(dataset_name, max_sentence_length):\n",
        "    dataset_path = 'data/{}'.format(dataset_name)\n",
        "\n",
        "    if dataset_name == \"cornell\":\n",
        "        data = datasets.readCornellData(dataset_path, max_len=max_sentence_length)\n",
        "    elif dataset_name == \"opensubs\":\n",
        "        data = datasets.readOpensubsData(dataset_path, max_len=max_sentence_length)\n",
        "    elif dataset_name == 'twitter':\n",
        "        data = readTwitterData()\n",
        "    else:\n",
        "        raise ValueError(\"Unrecognized dataset: {!r}\".format(dataset_name))\n",
        "    \n",
        "    return data\n",
        "\n",
        "def max_length(tensor):\n",
        "    return max(len(t) for t in tensor)\n",
        "\n",
        "# def preprocess_sentence(s):\n",
        "#     return '<start> ' + s + ' <end>'\n",
        "\n",
        "\n",
        "def load_dataset(dataset_name = 'cornell', max_sentence_length= 10):\n",
        "    # creating cleaned input, output pairs\n",
        "    pairs = [(preprocess_sentence(a), preprocess_sentence(b)) for (a,b) in create_dataset(dataset_name, max_sentence_length)]\n",
        "\n",
        "    # index language using the class defined above    \n",
        "    word2idx, idx2word, vocab = create_index([p for ps in pairs for p in ps])\n",
        "    # Vectorize the input and target languages\n",
        "    \n",
        "    # question sentences\n",
        "    input_tensor = [[word_to_idx(word2idx, w) for w in qs.split(' ')] for qs, a in pairs]\n",
        "    \n",
        "    # answer sentences\n",
        "    target_tensor = [[word_to_idx(word2idx, w) for w in a.split(' ')] for q, a in pairs]\n",
        "    \n",
        "    # Calculate max_length of input and output tensor\n",
        "    # Here, we'll set those to the longest sentence in the dataset\n",
        "    max_length_inp, max_length_tar = max_length(input_tensor), max_length(target_tensor)\n",
        "    \n",
        "    # Padding the input and output tensor to the maximum length\n",
        "    input_tensor = tf.keras.preprocessing.sequence.pad_sequences(input_tensor, \n",
        "                                                                 maxlen=max_length_inp,\n",
        "                                                                 padding='post')\n",
        "    \n",
        "    target_tensor = tf.keras.preprocessing.sequence.pad_sequences(target_tensor, \n",
        "                                                                  maxlen=max_length_tar, \n",
        "                                                                  padding='post')\n",
        "    \n",
        "    return input_tensor, target_tensor, (word2idx, idx2word, vocab), max_length_inp, max_length_tar"
      ],
      "execution_count": 0,
      "outputs": []
    },
    {
      "cell_type": "markdown",
      "metadata": {
        "id": "MP30pUF-bBdw",
        "colab_type": "text"
      },
      "source": [
        "## Prep training data"
      ]
    },
    {
      "cell_type": "code",
      "metadata": {
        "id": "6GgOagIGbBdx",
        "colab_type": "code",
        "colab": {
          "base_uri": "https://localhost:8080/",
          "height": 258
        },
        "outputId": "7d53cd42-b564-4e74-cf28-d77adfd2f7b1"
      },
      "source": [
        "# Try experimenting with the size of that dataset\n",
        "\n",
        "input_tensor, target_tensor, dict_index, max_length_inp, max_length_targ = load_dataset(dataset_name = 'opensubs', max_sentence_length=20)"
      ],
      "execution_count": 20,
      "outputs": [
        {
          "output_type": "stream",
          "text": [
            "\rOpenSubtitles data files:   0%|          | 0/4638 [00:00<?, ?it/s]"
          ],
          "name": "stderr"
        },
        {
          "output_type": "stream",
          "text": [
            "Loading OpenSubtitles conversations in data/opensubs.\n"
          ],
          "name": "stdout"
        },
        {
          "output_type": "stream",
          "text": [
            "OpenSubtitles data files:   4%|▍         | 201/4638 [00:06<02:45, 26.82it/s]"
          ],
          "name": "stderr"
        },
        {
          "output_type": "stream",
          "text": [
            "Skipping file data/opensubs/OpenSubtitles/xml/en/Drama/2002/3265_149497_204017_unfaithful.xml with errors.\n"
          ],
          "name": "stdout"
        },
        {
          "output_type": "stream",
          "text": [
            "OpenSubtitles data files:   9%|▊         | 403/4638 [00:13<02:07, 33.24it/s]"
          ],
          "name": "stderr"
        },
        {
          "output_type": "stream",
          "text": [
            "Skipping file data/opensubs/OpenSubtitles/xml/en/Drama/2003/1723_68784_89159_big_fish.xml with errors.\n"
          ],
          "name": "stdout"
        },
        {
          "output_type": "stream",
          "text": [
            "OpenSubtitles data files:  15%|█▍        | 688/4638 [00:23<03:06, 21.21it/s]"
          ],
          "name": "stderr"
        },
        {
          "output_type": "stream",
          "text": [
            "Skipping file data/opensubs/OpenSubtitles/xml/en/Drama/2004/146_206647_272090_eternal_sunshine_of_the_spotless_mind.xml with errors.\n"
          ],
          "name": "stdout"
        },
        {
          "output_type": "stream",
          "text": [
            "OpenSubtitles data files:  19%|█▊        | 868/4638 [00:30<01:58, 31.90it/s]"
          ],
          "name": "stderr"
        },
        {
          "output_type": "stream",
          "text": [
            "Skipping file data/opensubs/OpenSubtitles/xml/en/Drama/2000/179_88528_119102_batoru_rowaiaru.xml with errors.\n"
          ],
          "name": "stdout"
        },
        {
          "output_type": "stream",
          "text": [
            "OpenSubtitles data files:  34%|███▎      | 1558/4638 [00:53<01:19, 38.98it/s]"
          ],
          "name": "stderr"
        },
        {
          "output_type": "stream",
          "text": [
            "Skipping file data/opensubs/OpenSubtitles/xml/en/Action/2003/602_152466_207871_batoru_rowaiaru_ii_rekuiemu.xml with errors.\n"
          ],
          "name": "stdout"
        },
        {
          "output_type": "stream",
          "text": [
            "OpenSubtitles data files:  39%|███▉      | 1800/4638 [01:01<01:20, 35.26it/s]"
          ],
          "name": "stderr"
        },
        {
          "output_type": "stream",
          "text": [
            "Skipping file data/opensubs/OpenSubtitles/xml/en/Action/2004/59_84873_113518_appurushdo.xml with errors.\n"
          ],
          "name": "stdout"
        },
        {
          "output_type": "stream",
          "text": [
            "OpenSubtitles data files:  57%|█████▋    | 2622/4638 [01:32<01:11, 28.09it/s]"
          ],
          "name": "stderr"
        },
        {
          "output_type": "stream",
          "text": [
            "Skipping file data/opensubs/OpenSubtitles/xml/en/Horror/1922/1166_134135_184270_nosferatu_eine_symphonie_des_grauens.xml with errors.\n"
          ],
          "name": "stdout"
        },
        {
          "output_type": "stream",
          "text": [
            "OpenSubtitles data files:  63%|██████▎   | 2925/4638 [01:42<00:43, 39.63it/s]"
          ],
          "name": "stderr"
        },
        {
          "output_type": "stream",
          "text": [
            "Skipping file data/opensubs/OpenSubtitles/xml/en/Family/2001/3935_19508_22105_cats__dogs.xml with errors.\n"
          ],
          "name": "stdout"
        },
        {
          "output_type": "stream",
          "text": [
            "OpenSubtitles data files:  82%|████████▏ | 3802/4638 [02:20<00:28, 29.44it/s]"
          ],
          "name": "stderr"
        },
        {
          "output_type": "stream",
          "text": [
            "Skipping file data/opensubs/OpenSubtitles/xml/en/Comedy/2003/529_124078_171007_how_to_lose_a_guy_in_10_days.xml with errors.\n"
          ],
          "name": "stdout"
        },
        {
          "output_type": "stream",
          "text": [
            "OpenSubtitles data files:  88%|████████▊ | 4098/4638 [02:36<00:15, 34.63it/s]"
          ],
          "name": "stderr"
        },
        {
          "output_type": "stream",
          "text": [
            "Skipping file data/opensubs/OpenSubtitles/xml/en/Comedy/2004/2480_226704_299940_little_black_book.xml with errors.\n"
          ],
          "name": "stdout"
        },
        {
          "output_type": "stream",
          "text": [
            "OpenSubtitles data files: 100%|██████████| 4638/4638 [03:00<00:00, 25.75it/s]\n",
            "100%|██████████| 1648080/1648080 [00:21<00:00, 75607.90it/s]\n"
          ],
          "name": "stderr"
        }
      ]
    },
    {
      "cell_type": "code",
      "metadata": {
        "id": "O5pbqvjbbBd3",
        "colab_type": "code",
        "colab": {
          "base_uri": "https://localhost:8080/",
          "height": 34
        },
        "outputId": "1b340569-fb25-41f1-9d21-97b14dd46314"
      },
      "source": [
        "# Creating training and validation sets using an 80-20 split\n",
        "input_tensor_train, input_tensor_val, target_tensor_train, target_tensor_val = train_test_split(input_tensor, target_tensor, test_size=0.2)\n",
        "\n",
        "# Show length\n",
        "len(input_tensor_train), len(target_tensor_train), len(input_tensor_val), len(target_tensor_val)"
      ],
      "execution_count": 21,
      "outputs": [
        {
          "output_type": "execute_result",
          "data": {
            "text/plain": [
              "(132853, 132853, 33214, 33214)"
            ]
          },
          "metadata": {
            "tags": []
          },
          "execution_count": 21
        }
      ]
    },
    {
      "cell_type": "code",
      "metadata": {
        "id": "Bj5bONni1u5T",
        "colab_type": "code",
        "colab": {}
      },
      "source": [
        ""
      ],
      "execution_count": 0,
      "outputs": []
    },
    {
      "cell_type": "markdown",
      "metadata": {
        "id": "q4w6JdWjbBeA",
        "colab_type": "text"
      },
      "source": [
        "### Create TF dataset"
      ]
    },
    {
      "cell_type": "code",
      "metadata": {
        "id": "lR7FF0uMe5LA",
        "colab_type": "code",
        "colab": {
          "base_uri": "https://localhost:8080/",
          "height": 34
        },
        "outputId": "107adc07-9580-4091-dab5-e901c32e001a"
      },
      "source": [
        "len(word2idx)"
      ],
      "execution_count": 130,
      "outputs": [
        {
          "output_type": "execute_result",
          "data": {
            "text/plain": [
              "15002"
            ]
          },
          "metadata": {
            "tags": []
          },
          "execution_count": 130
        }
      ]
    },
    {
      "cell_type": "code",
      "metadata": {
        "id": "9rHAd07bbBeC",
        "colab_type": "code",
        "colab": {}
      },
      "source": [
        "BUFFER_SIZE = len(input_tensor_train)\n",
        "BATCH_SIZE = 64\n",
        "N_BATCH = BUFFER_SIZE//BATCH_SIZE\n",
        "embedding_dim = 256\n",
        "units = 1024\n",
        "vocab_size = len(word2idx)\n",
        "\n",
        "\n",
        "dataset = tf.data.Dataset.from_tensor_slices((input_tensor_train, target_tensor_train)).shuffle(BUFFER_SIZE)\n",
        "dataset = dataset.batch(BATCH_SIZE, drop_remainder=True)"
      ],
      "execution_count": 0,
      "outputs": []
    },
    {
      "cell_type": "markdown",
      "metadata": {
        "id": "-k8-djT3bBeF",
        "colab_type": "text"
      },
      "source": [
        "## NN Model"
      ]
    },
    {
      "cell_type": "code",
      "metadata": {
        "id": "isOeDPKebBeI",
        "colab_type": "code",
        "colab": {}
      },
      "source": [
        "def gru(units):\n",
        "  # If you have a GPU, we recommend using CuDNNGRU(provides a 3x speedup than GRU)\n",
        "  # the code automatically does that.\n",
        "    if tf.test.is_gpu_available():\n",
        "        return tf.keras.layers.CuDNNGRU(units, \n",
        "                                    return_sequences=True, \n",
        "                                    return_state=True, \n",
        "                                    recurrent_initializer='glorot_uniform')\n",
        "    else:\n",
        "        return tf.keras.layers.GRU(units, \n",
        "                               return_sequences=True, \n",
        "                               return_state=True, \n",
        "                               recurrent_activation='sigmoid', \n",
        "                               recurrent_initializer='glorot_uniform')"
      ],
      "execution_count": 0,
      "outputs": []
    },
    {
      "cell_type": "code",
      "metadata": {
        "id": "575h3_QZbBeN",
        "colab_type": "code",
        "colab": {}
      },
      "source": [
        "class Encoder(tf.keras.Model):\n",
        "    def __init__(self, vocab_size, embedding_dim, enc_units, batch_sz):\n",
        "        super(Encoder, self).__init__()\n",
        "        self.batch_sz = batch_sz\n",
        "        self.enc_units = enc_units\n",
        "        self.embedding = tf.keras.layers.Embedding(vocab_size, embedding_dim)\n",
        "        self.gru = gru(self.enc_units)\n",
        "        \n",
        "    def call(self, x, hidden):\n",
        "        x = self.embedding(x)\n",
        "        output, state = self.gru(x, initial_state = hidden)        \n",
        "        return output, state\n",
        "    \n",
        "    def initialize_hidden_state(self):\n",
        "        return tf.zeros((self.batch_sz, self.enc_units))"
      ],
      "execution_count": 0,
      "outputs": []
    },
    {
      "cell_type": "code",
      "metadata": {
        "id": "JbRHnJ0zbBeS",
        "colab_type": "code",
        "colab": {}
      },
      "source": [
        "class Decoder(tf.keras.Model):\n",
        "    def __init__(self, vocab_size, embedding_dim, dec_units, batch_sz):\n",
        "        super(Decoder, self).__init__()\n",
        "        self.batch_sz = batch_sz\n",
        "        self.dec_units = dec_units\n",
        "        self.embedding = tf.keras.layers.Embedding(vocab_size, embedding_dim)\n",
        "        self.gru = gru(self.dec_units)\n",
        "        self.fc = tf.keras.layers.Dense(vocab_size)\n",
        "        \n",
        "        # used for attention\n",
        "        self.W1 = tf.keras.layers.Dense(self.dec_units)\n",
        "        self.W2 = tf.keras.layers.Dense(self.dec_units)\n",
        "        self.V = tf.keras.layers.Dense(1)\n",
        "        \n",
        "    def call(self, x, hidden, enc_output):\n",
        "        # enc_output shape == (batch_size, max_length, hidden_size)\n",
        "        \n",
        "        # hidden shape == (batch_size, hidden size)\n",
        "        # hidden_with_time_axis shape == (batch_size, 1, hidden size)\n",
        "        # we are doing this to perform addition to calculate the score\n",
        "        hidden_with_time_axis = tf.expand_dims(hidden, 1)\n",
        "        \n",
        "        # score shape == (batch_size, max_length, 1)\n",
        "        # we get 1 at the last axis because we are applying tanh(FC(EO) + FC(H)) to self.V\n",
        "        score = self.V(tf.nn.tanh(self.W1(enc_output) + self.W2(hidden_with_time_axis)))\n",
        "        \n",
        "        # attention_weights shape == (batch_size, max_length, 1)\n",
        "        attention_weights = tf.nn.softmax(score, axis=1)\n",
        "        \n",
        "        # context_vector shape after sum == (batch_size, hidden_size)\n",
        "        context_vector = attention_weights * enc_output\n",
        "        context_vector = tf.reduce_sum(context_vector, axis=1)\n",
        "        \n",
        "        # x shape after passing through embedding == (batch_size, 1, embedding_dim)\n",
        "        x = self.embedding(x)\n",
        "        \n",
        "        # x shape after concatenation == (batch_size, 1, embedding_dim + hidden_size)\n",
        "        x = tf.concat([tf.expand_dims(context_vector, 1), x], axis=-1)\n",
        "        \n",
        "        # passing the concatenated vector to the GRU\n",
        "        output, state = self.gru(x)\n",
        "        \n",
        "        # output shape == (batch_size * 1, hidden_size)\n",
        "        output = tf.reshape(output, (-1, output.shape[2]))\n",
        "        \n",
        "        # output shape == (batch_size * 1, vocab)\n",
        "        x = self.fc(output)\n",
        "        \n",
        "        return x, state, attention_weights\n",
        "        \n",
        "    def initialize_hidden_state(self):\n",
        "        return tf.zeros((self.batch_sz, self.dec_units))"
      ],
      "execution_count": 0,
      "outputs": []
    },
    {
      "cell_type": "code",
      "metadata": {
        "id": "5z0XiaImbBeU",
        "colab_type": "code",
        "colab": {}
      },
      "source": [
        "\n",
        "def loss_function(real, pred):\n",
        "    mask = 1 - np.equal(real, 0)\n",
        "    loss_ = tf.nn.sparse_softmax_cross_entropy_with_logits(labels=real, logits=pred) * mask\n",
        "    return tf.reduce_mean(loss_)"
      ],
      "execution_count": 0,
      "outputs": []
    },
    {
      "cell_type": "markdown",
      "metadata": {
        "id": "6sFoQnCLbBeX",
        "colab_type": "text"
      },
      "source": [
        "# Training"
      ]
    },
    {
      "cell_type": "markdown",
      "metadata": {
        "id": "nGjd20w5bBeX",
        "colab_type": "text"
      },
      "source": [
        "### setup "
      ]
    },
    {
      "cell_type": "code",
      "metadata": {
        "id": "p7PZvP9BbBeY",
        "colab_type": "code",
        "colab": {}
      },
      "source": [
        "encoder = Encoder(vocab_size, embedding_dim, units, BATCH_SIZE)\n",
        "decoder = Decoder(vocab_size, embedding_dim, units, BATCH_SIZE)\n",
        "optimizer = tf.train.AdamOptimizer()"
      ],
      "execution_count": 0,
      "outputs": []
    },
    {
      "cell_type": "code",
      "metadata": {
        "id": "OC1FRWd5S3SV",
        "colab_type": "code",
        "colab": {
          "base_uri": "https://localhost:8080/",
          "height": 34
        },
        "outputId": "523cce45-b3aa-4300-d5ae-df0bc8b81812"
      },
      "source": [
        "vocab_size"
      ],
      "execution_count": 105,
      "outputs": [
        {
          "output_type": "execute_result",
          "data": {
            "text/plain": [
              "24827"
            ]
          },
          "metadata": {
            "tags": []
          },
          "execution_count": 105
        }
      ]
    },
    {
      "cell_type": "code",
      "metadata": {
        "id": "72wFA9SNbBeb",
        "colab_type": "code",
        "colab": {}
      },
      "source": [
        "dict_index[0]['<start>']"
      ],
      "execution_count": 0,
      "outputs": []
    },
    {
      "cell_type": "code",
      "metadata": {
        "id": "SxsPrd4vbBef",
        "colab_type": "code",
        "colab": {}
      },
      "source": [
        "word2idx = dict_index[0]"
      ],
      "execution_count": 0,
      "outputs": []
    },
    {
      "cell_type": "code",
      "metadata": {
        "id": "WHBtgzzPbBei",
        "colab_type": "code",
        "colab": {}
      },
      "source": [
        "checkpoint_dir = './training_checkpoints_new_dict'\n",
        "checkpoint_prefix = os.path.join(checkpoint_dir, \"ckpt\")\n",
        "checkpoint = tf.train.Checkpoint(optimizer=optimizer,\n",
        "                                 encoder=encoder,\n",
        "                                 decoder=decoder)"
      ],
      "execution_count": 0,
      "outputs": []
    },
    {
      "cell_type": "code",
      "metadata": {
        "id": "g1ikcv8FzImF",
        "colab_type": "code",
        "colab": {
          "base_uri": "https://localhost:8080/",
          "height": 34
        },
        "outputId": "b837751a-e32f-45c9-c317-d1db73c1ed92"
      },
      "source": [
        "# restoring the latest checkpoint in checkpoint_dir\n",
        "checkpoint.restore(tf.train.latest_checkpoint(checkpoint_dir))"
      ],
      "execution_count": 30,
      "outputs": [
        {
          "output_type": "execute_result",
          "data": {
            "text/plain": [
              "<tensorflow.python.training.tracking.util.InitializationOnlyStatus at 0x7fec75ffb128>"
            ]
          },
          "metadata": {
            "tags": []
          },
          "execution_count": 30
        }
      ]
    },
    {
      "cell_type": "markdown",
      "metadata": {
        "id": "SA_KugO9bBen",
        "colab_type": "text"
      },
      "source": [
        "### Training explained\n",
        "\n",
        "1. Pass the *input* through the *encoder* which return *encoder output* and the *encoder hidden state*.\n",
        "2. The encoder output, encoder hidden state and the decoder input (which is the *start token*) is passed to the decoder.\n",
        "3. The decoder returns the *predictions* and the *decoder hidden state*.\n",
        "4. The decoder hidden state is then passed back into the model and the predictions are used to calculate the loss.\n",
        "5. Use *teacher forcing* to decide the next input to the decoder.\n",
        "6. *Teacher forcing* is the technique where the *target word* is passed as the *next input* to the decoder.\n",
        "7. The final step is to calculate the gradients and apply it to the optimizer and backpropagate."
      ]
    },
    {
      "cell_type": "code",
      "metadata": {
        "id": "R4S0zeKGbBeo",
        "colab_type": "code",
        "colab": {
          "base_uri": "https://localhost:8080/",
          "height": 4097
        },
        "outputId": "1fb631a6-728a-4fa5-853e-39690860d9d6"
      },
      "source": [
        "EPOCHS = 10\n",
        "\n",
        "for epoch in range(EPOCHS):\n",
        "    start = time.time()\n",
        "    \n",
        "    hidden = encoder.initialize_hidden_state()\n",
        "    total_loss = 0\n",
        "    \n",
        "    for (batch, (inp, targ)) in enumerate(dataset):\n",
        "        loss = 0\n",
        "        \n",
        "        with tf.GradientTape() as tape:\n",
        "            enc_output, enc_hidden = encoder(inp, hidden)\n",
        "            \n",
        "            dec_hidden = enc_hidden\n",
        "            \n",
        "            dec_input = tf.expand_dims([word_to_idx(word2idx, '<start>')] * BATCH_SIZE, 1)       \n",
        "            \n",
        "            # Teacher forcing - feeding the target as the next input\n",
        "            for t in range(1, targ.shape[1]):\n",
        "                # passing enc_output to the decoder\n",
        "                predictions, dec_hidden, _ = decoder(dec_input, dec_hidden, enc_output)\n",
        "                \n",
        "                loss += loss_function(targ[:, t], predictions)\n",
        "                \n",
        "                # using teacher forcing\n",
        "                dec_input = tf.expand_dims(targ[:, t], 1)\n",
        "        \n",
        "        batch_loss = (loss / int(targ.shape[1]))\n",
        "        \n",
        "        total_loss += batch_loss\n",
        "        \n",
        "        variables = encoder.variables + decoder.variables\n",
        "        \n",
        "        gradients = tape.gradient(loss, variables)\n",
        "        \n",
        "        optimizer.apply_gradients(zip(gradients, variables))\n",
        "        \n",
        "        if batch % 100 == 0:\n",
        "            print('Epoch {} Batch {} Loss {:.4f}'.format(epoch + 1,\n",
        "                                                         batch,\n",
        "                                                         batch_loss.numpy()))\n",
        "    # saving (checkpoint) the model every 2 epochs\n",
        "    if (epoch + 1) % 2 == 0:\n",
        "        checkpoint.save(file_prefix = checkpoint_prefix)\n",
        "    \n",
        "    print('Epoch {} Loss {:.4f}'.format(epoch + 1,\n",
        "                                        total_loss / N_BATCH))\n",
        "    print('Time taken for 1 epoch {} sec\\n'.format(time.time() - start))"
      ],
      "execution_count": 23,
      "outputs": [
        {
          "output_type": "stream",
          "text": [
            "Epoch 1 Batch 0 Loss 3.3349\n",
            "Epoch 1 Batch 100 Loss 1.8099\n",
            "Epoch 1 Batch 200 Loss 1.9263\n",
            "Epoch 1 Batch 300 Loss 1.7541\n",
            "Epoch 1 Batch 400 Loss 1.8017\n",
            "Epoch 1 Batch 500 Loss 1.8506\n",
            "Epoch 1 Batch 600 Loss 1.5905\n",
            "Epoch 1 Batch 700 Loss 1.7875\n",
            "Epoch 1 Batch 800 Loss 1.6588\n",
            "Epoch 1 Batch 900 Loss 1.7806\n",
            "Epoch 1 Batch 1000 Loss 1.6489\n",
            "Epoch 1 Batch 1100 Loss 1.6366\n",
            "Epoch 1 Batch 1200 Loss 1.7313\n",
            "Epoch 1 Batch 1300 Loss 1.5661\n",
            "Epoch 1 Batch 1400 Loss 1.6592\n",
            "Epoch 1 Batch 1500 Loss 1.5575\n",
            "Epoch 1 Batch 1600 Loss 1.5542\n",
            "Epoch 1 Batch 1700 Loss 1.6314\n",
            "Epoch 1 Batch 1800 Loss 1.5234\n",
            "Epoch 1 Batch 1900 Loss 1.6759\n",
            "Epoch 1 Batch 2000 Loss 1.4091\n",
            "Epoch 1 Loss 1.6841\n",
            "Time taken for 1 epoch 942.8845384120941 sec\n",
            "\n",
            "Epoch 2 Batch 0 Loss 1.5565\n",
            "Epoch 2 Batch 100 Loss 1.4481\n",
            "Epoch 2 Batch 200 Loss 1.5854\n",
            "Epoch 2 Batch 300 Loss 1.4812\n",
            "Epoch 2 Batch 400 Loss 1.5453\n",
            "Epoch 2 Batch 500 Loss 1.6214\n",
            "Epoch 2 Batch 600 Loss 1.4009\n",
            "Epoch 2 Batch 700 Loss 1.5412\n",
            "Epoch 2 Batch 800 Loss 1.4820\n",
            "Epoch 2 Batch 900 Loss 1.5645\n",
            "Epoch 2 Batch 1000 Loss 1.4615\n",
            "Epoch 2 Batch 1100 Loss 1.4557\n",
            "Epoch 2 Batch 1200 Loss 1.5332\n",
            "Epoch 2 Batch 1300 Loss 1.4462\n",
            "Epoch 2 Batch 1400 Loss 1.4997\n",
            "Epoch 2 Batch 1500 Loss 1.4319\n",
            "Epoch 2 Batch 1600 Loss 1.4029\n",
            "Epoch 2 Batch 1700 Loss 1.4706\n",
            "Epoch 2 Batch 1800 Loss 1.3794\n",
            "Epoch 2 Batch 1900 Loss 1.5062\n",
            "Epoch 2 Batch 2000 Loss 1.2784\n",
            "Epoch 2 Loss 1.4719\n",
            "Time taken for 1 epoch 943.8250684738159 sec\n",
            "\n",
            "Epoch 3 Batch 0 Loss 1.3813\n",
            "Epoch 3 Batch 100 Loss 1.3381\n",
            "Epoch 3 Batch 200 Loss 1.4555\n",
            "Epoch 3 Batch 300 Loss 1.3584\n",
            "Epoch 3 Batch 400 Loss 1.4474\n",
            "Epoch 3 Batch 500 Loss 1.5067\n",
            "Epoch 3 Batch 600 Loss 1.2937\n",
            "Epoch 3 Batch 700 Loss 1.4280\n",
            "Epoch 3 Batch 800 Loss 1.3781\n",
            "Epoch 3 Batch 900 Loss 1.4550\n",
            "Epoch 3 Batch 1000 Loss 1.3602\n",
            "Epoch 3 Batch 1100 Loss 1.3525\n",
            "Epoch 3 Batch 1200 Loss 1.4381\n",
            "Epoch 3 Batch 1300 Loss 1.3779\n",
            "Epoch 3 Batch 1400 Loss 1.3954\n",
            "Epoch 3 Batch 1500 Loss 1.3232\n",
            "Epoch 3 Batch 1600 Loss 1.2966\n",
            "Epoch 3 Batch 1700 Loss 1.3765\n",
            "Epoch 3 Batch 1800 Loss 1.2887\n",
            "Epoch 3 Batch 1900 Loss 1.3766\n",
            "Epoch 3 Batch 2000 Loss 1.1927\n",
            "Epoch 3 Loss 1.3638\n",
            "Time taken for 1 epoch 965.2258148193359 sec\n",
            "\n",
            "Epoch 4 Batch 0 Loss 1.2602\n",
            "Epoch 4 Batch 100 Loss 1.2126\n",
            "Epoch 4 Batch 200 Loss 1.3358\n",
            "Epoch 4 Batch 300 Loss 1.2670\n",
            "Epoch 4 Batch 400 Loss 1.3379\n",
            "Epoch 4 Batch 500 Loss 1.3977\n",
            "Epoch 4 Batch 600 Loss 1.2209\n",
            "Epoch 4 Batch 700 Loss 1.3356\n",
            "Epoch 4 Batch 800 Loss 1.2765\n",
            "Epoch 4 Batch 900 Loss 1.3331\n",
            "Epoch 4 Batch 1000 Loss 1.2881\n",
            "Epoch 4 Batch 1100 Loss 1.2521\n",
            "Epoch 4 Batch 1200 Loss 1.3405\n",
            "Epoch 4 Batch 1300 Loss 1.3016\n",
            "Epoch 4 Batch 1400 Loss 1.3042\n",
            "Epoch 4 Batch 1500 Loss 1.2117\n",
            "Epoch 4 Batch 1600 Loss 1.2063\n",
            "Epoch 4 Batch 1700 Loss 1.2671\n",
            "Epoch 4 Batch 1800 Loss 1.1939\n",
            "Epoch 4 Batch 1900 Loss 1.2646\n",
            "Epoch 4 Batch 2000 Loss 1.1016\n",
            "Epoch 4 Loss 1.2603\n",
            "Time taken for 1 epoch 954.2657053470612 sec\n",
            "\n",
            "Epoch 5 Batch 0 Loss 1.1392\n",
            "Epoch 5 Batch 100 Loss 1.0488\n",
            "Epoch 5 Batch 200 Loss 1.2069\n",
            "Epoch 5 Batch 300 Loss 1.1918\n",
            "Epoch 5 Batch 400 Loss 1.2241\n",
            "Epoch 5 Batch 500 Loss 1.2558\n",
            "Epoch 5 Batch 600 Loss 1.1281\n",
            "Epoch 5 Batch 700 Loss 1.2213\n",
            "Epoch 5 Batch 800 Loss 1.1683\n",
            "Epoch 5 Batch 900 Loss 1.2145\n",
            "Epoch 5 Batch 1000 Loss 1.1985\n",
            "Epoch 5 Batch 1100 Loss 1.1520\n",
            "Epoch 5 Batch 1200 Loss 1.2193\n",
            "Epoch 5 Batch 1300 Loss 1.1992\n",
            "Epoch 5 Batch 1400 Loss 1.1933\n",
            "Epoch 5 Batch 1500 Loss 1.0997\n",
            "Epoch 5 Batch 1600 Loss 1.1280\n",
            "Epoch 5 Batch 1700 Loss 1.1652\n",
            "Epoch 5 Batch 1800 Loss 1.1010\n",
            "Epoch 5 Batch 1900 Loss 1.1727\n",
            "Epoch 5 Batch 2000 Loss 1.0245\n",
            "Epoch 5 Loss 1.1517\n",
            "Time taken for 1 epoch 951.1112906932831 sec\n",
            "\n",
            "Epoch 6 Batch 0 Loss 1.0106\n",
            "Epoch 6 Batch 100 Loss 0.9188\n",
            "Epoch 6 Batch 200 Loss 1.1006\n",
            "Epoch 6 Batch 300 Loss 1.0964\n",
            "Epoch 6 Batch 400 Loss 1.0924\n",
            "Epoch 6 Batch 500 Loss 1.1301\n",
            "Epoch 6 Batch 600 Loss 1.0109\n",
            "Epoch 6 Batch 700 Loss 1.1227\n",
            "Epoch 6 Batch 800 Loss 1.0612\n",
            "Epoch 6 Batch 900 Loss 1.0997\n",
            "Epoch 6 Batch 1000 Loss 1.1104\n",
            "Epoch 6 Batch 1100 Loss 1.0696\n",
            "Epoch 6 Batch 1200 Loss 1.1296\n",
            "Epoch 6 Batch 1300 Loss 1.0835\n",
            "Epoch 6 Batch 1400 Loss 1.0831\n",
            "Epoch 6 Batch 1500 Loss 0.9685\n",
            "Epoch 6 Batch 1600 Loss 1.0560\n",
            "Epoch 6 Batch 1700 Loss 1.0467\n",
            "Epoch 6 Batch 1800 Loss 1.0147\n",
            "Epoch 6 Batch 1900 Loss 1.0552\n",
            "Epoch 6 Batch 2000 Loss 0.9198\n",
            "Epoch 6 Loss 1.0452\n",
            "Time taken for 1 epoch 956.1510081291199 sec\n",
            "\n",
            "Epoch 7 Batch 0 Loss 0.8802\n",
            "Epoch 7 Batch 100 Loss 0.8102\n",
            "Epoch 7 Batch 200 Loss 0.9785\n",
            "Epoch 7 Batch 300 Loss 1.0125\n",
            "Epoch 7 Batch 400 Loss 0.9862\n",
            "Epoch 7 Batch 500 Loss 1.0284\n",
            "Epoch 7 Batch 600 Loss 0.9060\n",
            "Epoch 7 Batch 700 Loss 1.0320\n",
            "Epoch 7 Batch 800 Loss 0.9821\n",
            "Epoch 7 Batch 900 Loss 0.9978\n",
            "Epoch 7 Batch 1000 Loss 1.0324\n",
            "Epoch 7 Batch 1100 Loss 0.9712\n",
            "Epoch 7 Batch 1200 Loss 1.0210\n",
            "Epoch 7 Batch 1300 Loss 0.9702\n",
            "Epoch 7 Batch 1400 Loss 0.9585\n",
            "Epoch 7 Batch 1500 Loss 0.8504\n",
            "Epoch 7 Batch 1600 Loss 0.9542\n",
            "Epoch 7 Batch 1700 Loss 0.9410\n",
            "Epoch 7 Batch 1800 Loss 0.9391\n",
            "Epoch 7 Batch 1900 Loss 0.9443\n",
            "Epoch 7 Batch 2000 Loss 0.8308\n",
            "Epoch 7 Loss 0.9443\n",
            "Time taken for 1 epoch 953.7844400405884 sec\n",
            "\n",
            "Epoch 8 Batch 0 Loss 0.7671\n",
            "Epoch 8 Batch 100 Loss 0.7121\n",
            "Epoch 8 Batch 200 Loss 0.8502\n",
            "Epoch 8 Batch 300 Loss 0.9390\n",
            "Epoch 8 Batch 400 Loss 0.8822\n",
            "Epoch 8 Batch 500 Loss 0.9177\n",
            "Epoch 8 Batch 600 Loss 0.8240\n",
            "Epoch 8 Batch 700 Loss 0.9463\n",
            "Epoch 8 Batch 800 Loss 0.9077\n",
            "Epoch 8 Batch 900 Loss 0.8809\n",
            "Epoch 8 Batch 1000 Loss 0.9482\n",
            "Epoch 8 Batch 1100 Loss 0.8696\n",
            "Epoch 8 Batch 1200 Loss 0.8951\n",
            "Epoch 8 Batch 1300 Loss 0.8716\n",
            "Epoch 8 Batch 1400 Loss 0.8551\n",
            "Epoch 8 Batch 1500 Loss 0.7386\n",
            "Epoch 8 Batch 1600 Loss 0.9009\n",
            "Epoch 8 Batch 1700 Loss 0.8318\n",
            "Epoch 8 Batch 1800 Loss 0.8729\n",
            "Epoch 8 Batch 1900 Loss 0.8480\n",
            "Epoch 8 Batch 2000 Loss 0.7338\n",
            "Epoch 8 Loss 0.8506\n",
            "Time taken for 1 epoch 949.0509850978851 sec\n",
            "\n",
            "Epoch 9 Batch 0 Loss 0.6646\n",
            "Epoch 9 Batch 100 Loss 0.6360\n",
            "Epoch 9 Batch 200 Loss 0.7589\n",
            "Epoch 9 Batch 300 Loss 0.8672\n",
            "Epoch 9 Batch 400 Loss 0.8024\n",
            "Epoch 9 Batch 500 Loss 0.8250\n",
            "Epoch 9 Batch 600 Loss 0.7360\n",
            "Epoch 9 Batch 700 Loss 0.8668\n",
            "Epoch 9 Batch 800 Loss 0.8440\n",
            "Epoch 9 Batch 900 Loss 0.8027\n",
            "Epoch 9 Batch 1000 Loss 0.8262\n",
            "Epoch 9 Batch 1100 Loss 0.7802\n",
            "Epoch 9 Batch 1200 Loss 0.7856\n",
            "Epoch 9 Batch 1300 Loss 0.7905\n",
            "Epoch 9 Batch 1400 Loss 0.7557\n",
            "Epoch 9 Batch 1500 Loss 0.6068\n",
            "Epoch 9 Batch 1600 Loss 0.8040\n",
            "Epoch 9 Batch 1700 Loss 0.7658\n",
            "Epoch 9 Batch 1800 Loss 0.8082\n",
            "Epoch 9 Batch 1900 Loss 0.7733\n",
            "Epoch 9 Batch 2000 Loss 0.6708\n",
            "Epoch 9 Loss 0.7660\n",
            "Time taken for 1 epoch 925.4725949764252 sec\n",
            "\n",
            "Epoch 10 Batch 0 Loss 0.5996\n",
            "Epoch 10 Batch 100 Loss 0.5693\n",
            "Epoch 10 Batch 200 Loss 0.7001\n",
            "Epoch 10 Batch 300 Loss 0.7766\n",
            "Epoch 10 Batch 400 Loss 0.7512\n",
            "Epoch 10 Batch 500 Loss 0.7521\n",
            "Epoch 10 Batch 600 Loss 0.6664\n",
            "Epoch 10 Batch 700 Loss 0.7644\n",
            "Epoch 10 Batch 800 Loss 0.7583\n",
            "Epoch 10 Batch 900 Loss 0.7388\n",
            "Epoch 10 Batch 1000 Loss 0.7935\n",
            "Epoch 10 Batch 1100 Loss 0.6831\n",
            "Epoch 10 Batch 1200 Loss 0.6920\n",
            "Epoch 10 Batch 1300 Loss 0.7344\n",
            "Epoch 10 Batch 1400 Loss 0.6824\n",
            "Epoch 10 Batch 1500 Loss 0.5222\n",
            "Epoch 10 Batch 1600 Loss 0.6884\n",
            "Epoch 10 Batch 1700 Loss 0.6841\n",
            "Epoch 10 Batch 1800 Loss 0.7544\n",
            "Epoch 10 Batch 1900 Loss 0.6964\n",
            "Epoch 10 Batch 2000 Loss 0.6059\n",
            "Epoch 10 Loss 0.6904\n",
            "Time taken for 1 epoch 922.0955126285553 sec\n",
            "\n"
          ],
          "name": "stdout"
        }
      ]
    },
    {
      "cell_type": "code",
      "metadata": {
        "id": "4WtYt8teMfEh",
        "colab_type": "code",
        "colab": {}
      },
      "source": [
        "! cp /content/aml-nlp-notes/language-model/training_checkpoints/* /content/drive/'My Drive'/NLP-checkpoints"
      ],
      "execution_count": 0,
      "outputs": []
    },
    {
      "cell_type": "code",
      "metadata": {
        "id": "aBdb6bO5NAJv",
        "colab_type": "code",
        "colab": {}
      },
      "source": [
        "! ls /content/drive/'My Drive'/NLP-checkpoints"
      ],
      "execution_count": 0,
      "outputs": []
    },
    {
      "cell_type": "code",
      "metadata": {
        "id": "sMMLnE4LzVKS",
        "colab_type": "code",
        "colab": {
          "resources": {
            "http://localhost:22012/content/aml-nlp-notes/language-model/training_checkpoints": {
              "data": "CjwhRE9DVFlQRSBodG1sPgo8aHRtbCBsYW5nPWVuPgogIDxtZXRhIGNoYXJzZXQ9dXRmLTg+CiAgPG1ldGEgbmFtZT12aWV3cG9ydCBjb250ZW50PSJpbml0aWFsLXNjYWxlPTEsIG1pbmltdW0tc2NhbGU9MSwgd2lkdGg9ZGV2aWNlLXdpZHRoIj4KICA8dGl0bGU+RXJyb3IgNTAxIChOb3QgSW1wbGVtZW50ZWQpISExPC90aXRsZT4KICA8c3R5bGU+CiAgICAqe21hcmdpbjowO3BhZGRpbmc6MH1odG1sLGNvZGV7Zm9udDoxNXB4LzIycHggYXJpYWwsc2Fucy1zZXJpZn1odG1se2JhY2tncm91bmQ6I2ZmZjtjb2xvcjojMjIyO3BhZGRpbmc6MTVweH1ib2R5e21hcmdpbjo3JSBhdXRvIDA7bWF4LXdpZHRoOjM5MHB4O21pbi1oZWlnaHQ6MTgwcHg7cGFkZGluZzozMHB4IDAgMTVweH0qID4gYm9keXtiYWNrZ3JvdW5kOnVybCgvL3d3dy5nb29nbGUuY29tL2ltYWdlcy9lcnJvcnMvcm9ib3QucG5nKSAxMDAlIDVweCBuby1yZXBlYXQ7cGFkZGluZy1yaWdodDoyMDVweH1we21hcmdpbjoxMXB4IDAgMjJweDtvdmVyZmxvdzpoaWRkZW59aW5ze2NvbG9yOiM3Nzc7dGV4dC1kZWNvcmF0aW9uOm5vbmV9YSBpbWd7Ym9yZGVyOjB9QG1lZGlhIHNjcmVlbiBhbmQgKG1heC13aWR0aDo3NzJweCl7Ym9keXtiYWNrZ3JvdW5kOm5vbmU7bWFyZ2luLXRvcDowO21heC13aWR0aDpub25lO3BhZGRpbmctcmlnaHQ6MH19I2xvZ297YmFja2dyb3VuZDp1cmwoLy93d3cuZ29vZ2xlLmNvbS9pbWFnZXMvbG9nb3MvZXJyb3JwYWdlL2Vycm9yX2xvZ28tMTUweDU0LnBuZykgbm8tcmVwZWF0O21hcmdpbi1sZWZ0Oi01cHh9QG1lZGlhIG9ubHkgc2NyZWVuIGFuZCAobWluLXJlc29sdXRpb246MTkyZHBpKXsjbG9nb3tiYWNrZ3JvdW5kOnVybCgvL3d3dy5nb29nbGUuY29tL2ltYWdlcy9sb2dvcy9lcnJvcnBhZ2UvZXJyb3JfbG9nby0xNTB4NTQtMngucG5nKSBuby1yZXBlYXQgMCUgMCUvMTAwJSAxMDAlOy1tb3otYm9yZGVyLWltYWdlOnVybCgvL3d3dy5nb29nbGUuY29tL2ltYWdlcy9sb2dvcy9lcnJvcnBhZ2UvZXJyb3JfbG9nby0xNTB4NTQtMngucG5nKSAwfX1AbWVkaWEgb25seSBzY3JlZW4gYW5kICgtd2Via2l0LW1pbi1kZXZpY2UtcGl4ZWwtcmF0aW86Mil7I2xvZ297YmFja2dyb3VuZDp1cmwoLy93d3cuZ29vZ2xlLmNvbS9pbWFnZXMvbG9nb3MvZXJyb3JwYWdlL2Vycm9yX2xvZ28tMTUweDU0LTJ4LnBuZykgbm8tcmVwZWF0Oy13ZWJraXQtYmFja2dyb3VuZC1zaXplOjEwMCUgMTAwJX19I2xvZ297ZGlzcGxheTppbmxpbmUtYmxvY2s7aGVpZ2h0OjU0cHg7d2lkdGg6MTUwcHh9CiAgPC9zdHlsZT4KICA8YSBocmVmPS8vd3d3Lmdvb2dsZS5jb20vPjxzcGFuIGlkPWxvZ28gYXJpYS1sYWJlbD1Hb29nbGU+PC9zcGFuPjwvYT4KICA8cD48Yj41MDEuPC9iPiA8aW5zPlRoYXTigJlzIGFuIGVycm9yLjwvaW5zPgogIDxwPiAgPGlucz5UaGF04oCZcyBhbGwgd2Uga25vdy48L2lucz4K",
              "ok": false,
              "headers": [
                [
                  "content-length",
                  "1455"
                ],
                [
                  "content-type",
                  "text/html; charset=utf-8"
                ]
              ],
              "status": 501,
              "status_text": ""
            }
          },
          "base_uri": "https://localhost:8080/",
          "height": 324
        },
        "outputId": "3665bc55-4cd1-4913-d661-7721d8a350f2"
      },
      "source": [
        "from google.colab import files\n",
        "files.download('/content/aml-nlp-notes/language-model/training_checkpoints')"
      ],
      "execution_count": 28,
      "outputs": [
        {
          "output_type": "error",
          "ename": "MessageError",
          "evalue": "ignored",
          "traceback": [
            "\u001b[0;31m---------------------------------------------------------------------------\u001b[0m",
            "\u001b[0;31mMessageError\u001b[0m                              Traceback (most recent call last)",
            "\u001b[0;32m<ipython-input-28-31783069c46b>\u001b[0m in \u001b[0;36m<module>\u001b[0;34m()\u001b[0m\n\u001b[1;32m      1\u001b[0m \u001b[0;32mfrom\u001b[0m \u001b[0mgoogle\u001b[0m\u001b[0;34m.\u001b[0m\u001b[0mcolab\u001b[0m \u001b[0;32mimport\u001b[0m \u001b[0mfiles\u001b[0m\u001b[0;34m\u001b[0m\u001b[0;34m\u001b[0m\u001b[0m\n\u001b[0;32m----> 2\u001b[0;31m \u001b[0mfiles\u001b[0m\u001b[0;34m.\u001b[0m\u001b[0mdownload\u001b[0m\u001b[0;34m(\u001b[0m\u001b[0;34m'/content/aml-nlp-notes/language-model/training_checkpoints'\u001b[0m\u001b[0;34m)\u001b[0m\u001b[0;34m\u001b[0m\u001b[0;34m\u001b[0m\u001b[0m\n\u001b[0m",
            "\u001b[0;32m/usr/local/lib/python3.6/dist-packages/google/colab/files.py\u001b[0m in \u001b[0;36mdownload\u001b[0;34m(filename)\u001b[0m\n\u001b[1;32m    176\u001b[0m       \u001b[0;34m'port'\u001b[0m\u001b[0;34m:\u001b[0m \u001b[0mport\u001b[0m\u001b[0;34m,\u001b[0m\u001b[0;34m\u001b[0m\u001b[0;34m\u001b[0m\u001b[0m\n\u001b[1;32m    177\u001b[0m       \u001b[0;34m'path'\u001b[0m\u001b[0;34m:\u001b[0m \u001b[0m_os\u001b[0m\u001b[0;34m.\u001b[0m\u001b[0mpath\u001b[0m\u001b[0;34m.\u001b[0m\u001b[0mabspath\u001b[0m\u001b[0;34m(\u001b[0m\u001b[0mfilename\u001b[0m\u001b[0;34m)\u001b[0m\u001b[0;34m,\u001b[0m\u001b[0;34m\u001b[0m\u001b[0;34m\u001b[0m\u001b[0m\n\u001b[0;32m--> 178\u001b[0;31m       \u001b[0;34m'name'\u001b[0m\u001b[0;34m:\u001b[0m \u001b[0m_os\u001b[0m\u001b[0;34m.\u001b[0m\u001b[0mpath\u001b[0m\u001b[0;34m.\u001b[0m\u001b[0mbasename\u001b[0m\u001b[0;34m(\u001b[0m\u001b[0mfilename\u001b[0m\u001b[0;34m)\u001b[0m\u001b[0;34m,\u001b[0m\u001b[0;34m\u001b[0m\u001b[0;34m\u001b[0m\u001b[0m\n\u001b[0m\u001b[1;32m    179\u001b[0m   })\n",
            "\u001b[0;32m/usr/local/lib/python3.6/dist-packages/google/colab/output/_js.py\u001b[0m in \u001b[0;36meval_js\u001b[0;34m(script, ignore_result)\u001b[0m\n\u001b[1;32m     37\u001b[0m   \u001b[0;32mif\u001b[0m \u001b[0mignore_result\u001b[0m\u001b[0;34m:\u001b[0m\u001b[0;34m\u001b[0m\u001b[0;34m\u001b[0m\u001b[0m\n\u001b[1;32m     38\u001b[0m     \u001b[0;32mreturn\u001b[0m\u001b[0;34m\u001b[0m\u001b[0;34m\u001b[0m\u001b[0m\n\u001b[0;32m---> 39\u001b[0;31m   \u001b[0;32mreturn\u001b[0m \u001b[0m_message\u001b[0m\u001b[0;34m.\u001b[0m\u001b[0mread_reply_from_input\u001b[0m\u001b[0;34m(\u001b[0m\u001b[0mrequest_id\u001b[0m\u001b[0;34m)\u001b[0m\u001b[0;34m\u001b[0m\u001b[0;34m\u001b[0m\u001b[0m\n\u001b[0m\u001b[1;32m     40\u001b[0m \u001b[0;34m\u001b[0m\u001b[0m\n\u001b[1;32m     41\u001b[0m \u001b[0;34m\u001b[0m\u001b[0m\n",
            "\u001b[0;32m/usr/local/lib/python3.6/dist-packages/google/colab/_message.py\u001b[0m in \u001b[0;36mread_reply_from_input\u001b[0;34m(message_id, timeout_sec)\u001b[0m\n\u001b[1;32m    104\u001b[0m         reply.get('colab_msg_id') == message_id):\n\u001b[1;32m    105\u001b[0m       \u001b[0;32mif\u001b[0m \u001b[0;34m'error'\u001b[0m \u001b[0;32min\u001b[0m \u001b[0mreply\u001b[0m\u001b[0;34m:\u001b[0m\u001b[0;34m\u001b[0m\u001b[0;34m\u001b[0m\u001b[0m\n\u001b[0;32m--> 106\u001b[0;31m         \u001b[0;32mraise\u001b[0m \u001b[0mMessageError\u001b[0m\u001b[0;34m(\u001b[0m\u001b[0mreply\u001b[0m\u001b[0;34m[\u001b[0m\u001b[0;34m'error'\u001b[0m\u001b[0;34m]\u001b[0m\u001b[0;34m)\u001b[0m\u001b[0;34m\u001b[0m\u001b[0;34m\u001b[0m\u001b[0m\n\u001b[0m\u001b[1;32m    107\u001b[0m       \u001b[0;32mreturn\u001b[0m \u001b[0mreply\u001b[0m\u001b[0;34m.\u001b[0m\u001b[0mget\u001b[0m\u001b[0;34m(\u001b[0m\u001b[0;34m'data'\u001b[0m\u001b[0;34m,\u001b[0m \u001b[0;32mNone\u001b[0m\u001b[0;34m)\u001b[0m\u001b[0;34m\u001b[0m\u001b[0;34m\u001b[0m\u001b[0m\n\u001b[1;32m    108\u001b[0m \u001b[0;34m\u001b[0m\u001b[0m\n",
            "\u001b[0;31mMessageError\u001b[0m: Error: Failed to download: "
          ]
        }
      ]
    },
    {
      "cell_type": "code",
      "metadata": {
        "id": "OzhL7vKAbBeq",
        "colab_type": "code",
        "colab": {
          "base_uri": "https://localhost:8080/",
          "height": 4097
        },
        "outputId": "1aad5dd2-d2bb-44d2-d596-86347a87e40d"
      },
      "source": [
        "EPOCHS = 10\n",
        "\n",
        "for epoch in range(EPOCHS):\n",
        "    start = time.time()\n",
        "    \n",
        "    hidden = encoder.initialize_hidden_state()\n",
        "    total_loss = 0\n",
        "    \n",
        "    for (batch, (inp, targ)) in enumerate(dataset):\n",
        "        loss = 0\n",
        "        \n",
        "        with tf.GradientTape() as tape:\n",
        "            enc_output, enc_hidden = encoder(inp, hidden)\n",
        "            \n",
        "            dec_hidden = enc_hidden\n",
        "            \n",
        "            dec_input = tf.expand_dims([word_to_idx(word2idx, '<start>')] * BATCH_SIZE, 1)       \n",
        "            \n",
        "            # Teacher forcing - feeding the target as the next input\n",
        "            for t in range(1, targ.shape[1]):\n",
        "                # passing enc_output to the decoder\n",
        "                predictions, dec_hidden, _ = decoder(dec_input, dec_hidden, enc_output)\n",
        "                \n",
        "                loss += loss_function(targ[:, t], predictions)\n",
        "                \n",
        "                # using teacher forcing\n",
        "                dec_input = tf.expand_dims(targ[:, t], 1)\n",
        "        \n",
        "        batch_loss = (loss / int(targ.shape[1]))\n",
        "        \n",
        "        total_loss += batch_loss\n",
        "        \n",
        "        variables = encoder.variables + decoder.variables\n",
        "        \n",
        "        gradients = tape.gradient(loss, variables)\n",
        "        \n",
        "        optimizer.apply_gradients(zip(gradients, variables))\n",
        "        \n",
        "        if batch % 100 == 0:\n",
        "            print('Epoch {} Batch {} Loss {:.4f}'.format(epoch + 1,\n",
        "                                                         batch,\n",
        "                                                         batch_loss.numpy()))\n",
        "    # saving (checkpoint) the model every 2 epochs\n",
        "    if (epoch + 1) % 2 == 0:\n",
        "        checkpoint.save(file_prefix = checkpoint_prefix)\n",
        "    \n",
        "    print('Epoch {} Loss {:.4f}'.format(epoch + 1,\n",
        "                                        total_loss / N_BATCH))\n",
        "    print('Time taken for 1 epoch {} sec\\n'.format(time.time() - start))"
      ],
      "execution_count": 50,
      "outputs": [
        {
          "output_type": "stream",
          "text": [
            "Epoch 1 Batch 0 Loss 0.5342\n",
            "Epoch 1 Batch 100 Loss 0.4929\n",
            "Epoch 1 Batch 200 Loss 0.5811\n",
            "Epoch 1 Batch 300 Loss 0.6868\n",
            "Epoch 1 Batch 400 Loss 0.6587\n",
            "Epoch 1 Batch 500 Loss 0.6629\n",
            "Epoch 1 Batch 600 Loss 0.5958\n",
            "Epoch 1 Batch 700 Loss 0.6935\n",
            "Epoch 1 Batch 800 Loss 0.6902\n",
            "Epoch 1 Batch 900 Loss 0.6347\n",
            "Epoch 1 Batch 1000 Loss 0.7113\n",
            "Epoch 1 Batch 1100 Loss 0.6320\n",
            "Epoch 1 Batch 1200 Loss 0.6269\n",
            "Epoch 1 Batch 1300 Loss 0.6261\n",
            "Epoch 1 Batch 1400 Loss 0.6154\n",
            "Epoch 1 Batch 1500 Loss 0.4569\n",
            "Epoch 1 Batch 1600 Loss 0.6122\n",
            "Epoch 1 Batch 1700 Loss 0.6207\n",
            "Epoch 1 Batch 1800 Loss 0.6942\n",
            "Epoch 1 Batch 1900 Loss 0.6537\n",
            "Epoch 1 Batch 2000 Loss 0.5552\n",
            "Epoch 1 Loss 0.6214\n",
            "Time taken for 1 epoch 945.6231434345245 sec\n",
            "\n",
            "Epoch 2 Batch 0 Loss 0.4600\n",
            "Epoch 2 Batch 100 Loss 0.4493\n",
            "Epoch 2 Batch 200 Loss 0.5135\n",
            "Epoch 2 Batch 300 Loss 0.6248\n",
            "Epoch 2 Batch 400 Loss 0.5779\n",
            "Epoch 2 Batch 500 Loss 0.6144\n",
            "Epoch 2 Batch 600 Loss 0.5609\n",
            "Epoch 2 Batch 700 Loss 0.5932\n",
            "Epoch 2 Batch 800 Loss 0.6402\n",
            "Epoch 2 Batch 900 Loss 0.5845\n",
            "Epoch 2 Batch 1000 Loss 0.6402\n",
            "Epoch 2 Batch 1100 Loss 0.5506\n",
            "Epoch 2 Batch 1200 Loss 0.5564\n",
            "Epoch 2 Batch 1300 Loss 0.5476\n",
            "Epoch 2 Batch 1400 Loss 0.5512\n",
            "Epoch 2 Batch 1500 Loss 0.4140\n",
            "Epoch 2 Batch 1600 Loss 0.5669\n",
            "Epoch 2 Batch 1700 Loss 0.5557\n",
            "Epoch 2 Batch 1800 Loss 0.6238\n",
            "Epoch 2 Batch 1900 Loss 0.5767\n",
            "Epoch 2 Batch 2000 Loss 0.4881\n",
            "Epoch 2 Loss 0.5594\n",
            "Time taken for 1 epoch 937.1665861606598 sec\n",
            "\n",
            "Epoch 3 Batch 0 Loss 0.4126\n",
            "Epoch 3 Batch 100 Loss 0.3975\n",
            "Epoch 3 Batch 200 Loss 0.4622\n",
            "Epoch 3 Batch 300 Loss 0.6504\n",
            "Epoch 3 Batch 400 Loss 0.5115\n",
            "Epoch 3 Batch 500 Loss 0.5359\n",
            "Epoch 3 Batch 600 Loss 0.5187\n",
            "Epoch 3 Batch 700 Loss 0.5182\n",
            "Epoch 3 Batch 800 Loss 0.6806\n",
            "Epoch 3 Batch 900 Loss 0.5308\n",
            "Epoch 3 Batch 1000 Loss 0.5559\n",
            "Epoch 3 Batch 1100 Loss 0.4941\n",
            "Epoch 3 Batch 1200 Loss 0.4988\n",
            "Epoch 3 Batch 1300 Loss 0.4944\n",
            "Epoch 3 Batch 1400 Loss 0.5038\n",
            "Epoch 3 Batch 1500 Loss 0.3470\n",
            "Epoch 3 Batch 1600 Loss 0.5191\n",
            "Epoch 3 Batch 1700 Loss 0.5156\n",
            "Epoch 3 Batch 1800 Loss 0.5658\n",
            "Epoch 3 Batch 1900 Loss 0.4944\n",
            "Epoch 3 Batch 2000 Loss 0.4481\n",
            "Epoch 3 Loss 0.5058\n",
            "Time taken for 1 epoch 934.0288593769073 sec\n",
            "\n",
            "Epoch 4 Batch 0 Loss 0.3895\n",
            "Epoch 4 Batch 100 Loss 0.3270\n",
            "Epoch 4 Batch 200 Loss 0.4231\n",
            "Epoch 4 Batch 300 Loss 0.5782\n",
            "Epoch 4 Batch 400 Loss 0.4342\n",
            "Epoch 4 Batch 500 Loss 0.4904\n",
            "Epoch 4 Batch 600 Loss 0.5065\n",
            "Epoch 4 Batch 700 Loss 0.4688\n",
            "Epoch 4 Batch 800 Loss 0.5848\n",
            "Epoch 4 Batch 900 Loss 0.4636\n",
            "Epoch 4 Batch 1000 Loss 0.5199\n",
            "Epoch 4 Batch 1100 Loss 0.4343\n",
            "Epoch 4 Batch 1200 Loss 0.4656\n",
            "Epoch 4 Batch 1300 Loss 0.4290\n",
            "Epoch 4 Batch 1400 Loss 0.4546\n",
            "Epoch 4 Batch 1500 Loss 0.3234\n",
            "Epoch 4 Batch 1600 Loss 0.4904\n",
            "Epoch 4 Batch 1700 Loss 0.4621\n",
            "Epoch 4 Batch 1800 Loss 0.4909\n",
            "Epoch 4 Batch 1900 Loss 0.4627\n",
            "Epoch 4 Batch 2000 Loss 0.4197\n",
            "Epoch 4 Loss 0.4567\n",
            "Time taken for 1 epoch 939.7797932624817 sec\n",
            "\n",
            "Epoch 5 Batch 0 Loss 0.4021\n",
            "Epoch 5 Batch 100 Loss 0.2820\n",
            "Epoch 5 Batch 200 Loss 0.4167\n",
            "Epoch 5 Batch 300 Loss 0.4949\n",
            "Epoch 5 Batch 400 Loss 0.5099\n",
            "Epoch 5 Batch 500 Loss 0.4470\n",
            "Epoch 5 Batch 600 Loss 0.5144\n",
            "Epoch 5 Batch 700 Loss 0.4328\n",
            "Epoch 5 Batch 800 Loss 0.4909\n",
            "Epoch 5 Batch 900 Loss 0.4458\n",
            "Epoch 5 Batch 1000 Loss 0.4659\n",
            "Epoch 5 Batch 1100 Loss 0.3949\n",
            "Epoch 5 Batch 1200 Loss 0.4292\n",
            "Epoch 5 Batch 1300 Loss 0.4035\n",
            "Epoch 5 Batch 1400 Loss 0.4068\n",
            "Epoch 5 Batch 1500 Loss 0.2960\n",
            "Epoch 5 Batch 1600 Loss 0.4615\n",
            "Epoch 5 Batch 1700 Loss 0.4375\n",
            "Epoch 5 Batch 1800 Loss 0.4618\n",
            "Epoch 5 Batch 1900 Loss 0.4378\n",
            "Epoch 5 Batch 2000 Loss 0.3709\n",
            "Epoch 5 Loss 0.4197\n",
            "Time taken for 1 epoch 941.5408873558044 sec\n",
            "\n",
            "Epoch 6 Batch 0 Loss 0.3713\n",
            "Epoch 6 Batch 100 Loss 0.3047\n",
            "Epoch 6 Batch 200 Loss 0.4523\n",
            "Epoch 6 Batch 300 Loss 0.4794\n",
            "Epoch 6 Batch 400 Loss 0.4238\n",
            "Epoch 6 Batch 500 Loss 0.4353\n",
            "Epoch 6 Batch 600 Loss 0.4625\n",
            "Epoch 6 Batch 700 Loss 0.3856\n",
            "Epoch 6 Batch 800 Loss 0.4501\n",
            "Epoch 6 Batch 900 Loss 0.4053\n",
            "Epoch 6 Batch 1000 Loss 0.4163\n",
            "Epoch 6 Batch 1100 Loss 0.3536\n",
            "Epoch 6 Batch 1200 Loss 0.3727\n",
            "Epoch 6 Batch 1300 Loss 0.4106\n",
            "Epoch 6 Batch 1400 Loss 0.3898\n",
            "Epoch 6 Batch 1500 Loss 0.3151\n",
            "Epoch 6 Batch 1600 Loss 0.4467\n",
            "Epoch 6 Batch 1700 Loss 0.4156\n",
            "Epoch 6 Batch 1800 Loss 0.4195\n",
            "Epoch 6 Batch 1900 Loss 0.3701\n",
            "Epoch 6 Batch 2000 Loss 0.3234\n",
            "Epoch 6 Loss 0.3879\n",
            "Time taken for 1 epoch 947.4927294254303 sec\n",
            "\n",
            "Epoch 7 Batch 0 Loss 0.3346\n",
            "Epoch 7 Batch 100 Loss 0.2566\n",
            "Epoch 7 Batch 200 Loss 0.3918\n",
            "Epoch 7 Batch 300 Loss 0.4444\n",
            "Epoch 7 Batch 400 Loss 0.3764\n",
            "Epoch 7 Batch 500 Loss 0.4101\n",
            "Epoch 7 Batch 600 Loss 0.4080\n",
            "Epoch 7 Batch 700 Loss 0.3582\n",
            "Epoch 7 Batch 800 Loss 0.4325\n",
            "Epoch 7 Batch 900 Loss 0.3769\n",
            "Epoch 7 Batch 1000 Loss 0.3864\n",
            "Epoch 7 Batch 1100 Loss 0.2933\n",
            "Epoch 7 Batch 1200 Loss 0.3600\n",
            "Epoch 7 Batch 1300 Loss 0.3746\n",
            "Epoch 7 Batch 1400 Loss 0.3564\n",
            "Epoch 7 Batch 1500 Loss 0.2405\n",
            "Epoch 7 Batch 1600 Loss 0.3981\n",
            "Epoch 7 Batch 1700 Loss 0.3786\n",
            "Epoch 7 Batch 1800 Loss 0.3996\n",
            "Epoch 7 Batch 1900 Loss 0.3619\n",
            "Epoch 7 Batch 2000 Loss 0.2694\n",
            "Epoch 7 Loss 0.3510\n",
            "Time taken for 1 epoch 942.6282408237457 sec\n",
            "\n",
            "Epoch 8 Batch 0 Loss 0.2711\n",
            "Epoch 8 Batch 100 Loss 0.2680\n",
            "Epoch 8 Batch 200 Loss 0.3453\n",
            "Epoch 8 Batch 300 Loss 0.3757\n",
            "Epoch 8 Batch 400 Loss 0.3261\n",
            "Epoch 8 Batch 500 Loss 0.3612\n",
            "Epoch 8 Batch 600 Loss 0.3983\n",
            "Epoch 8 Batch 700 Loss 0.3204\n",
            "Epoch 8 Batch 800 Loss 0.4029\n",
            "Epoch 8 Batch 900 Loss 0.3170\n",
            "Epoch 8 Batch 1000 Loss 0.4321\n",
            "Epoch 8 Batch 1100 Loss 0.2950\n",
            "Epoch 8 Batch 1200 Loss 0.3320\n",
            "Epoch 8 Batch 1300 Loss 0.2956\n",
            "Epoch 8 Batch 1400 Loss 0.3440\n",
            "Epoch 8 Batch 1500 Loss 0.2410\n",
            "Epoch 8 Batch 1600 Loss 0.3711\n",
            "Epoch 8 Batch 1700 Loss 0.3472\n",
            "Epoch 8 Batch 1800 Loss 0.3961\n",
            "Epoch 8 Batch 1900 Loss 0.3669\n",
            "Epoch 8 Batch 2000 Loss 0.2811\n",
            "Epoch 8 Loss 0.3274\n",
            "Time taken for 1 epoch 951.7153527736664 sec\n",
            "\n",
            "Epoch 9 Batch 0 Loss 0.2365\n",
            "Epoch 9 Batch 100 Loss 0.2136\n",
            "Epoch 9 Batch 200 Loss 0.3756\n",
            "Epoch 9 Batch 300 Loss 0.3785\n",
            "Epoch 9 Batch 400 Loss 0.3272\n",
            "Epoch 9 Batch 500 Loss 0.3573\n",
            "Epoch 9 Batch 600 Loss 0.3407\n",
            "Epoch 9 Batch 700 Loss 0.2974\n",
            "Epoch 9 Batch 800 Loss 0.3953\n",
            "Epoch 9 Batch 900 Loss 0.3028\n",
            "Epoch 9 Batch 1000 Loss 0.4062\n",
            "Epoch 9 Batch 1100 Loss 0.3096\n",
            "Epoch 9 Batch 1200 Loss 0.3039\n",
            "Epoch 9 Batch 1300 Loss 0.3794\n",
            "Epoch 9 Batch 1400 Loss 0.2975\n",
            "Epoch 9 Batch 1500 Loss 0.1940\n",
            "Epoch 9 Batch 1600 Loss 0.3557\n",
            "Epoch 9 Batch 1700 Loss 0.3225\n",
            "Epoch 9 Batch 1800 Loss 0.3962\n",
            "Epoch 9 Batch 1900 Loss 0.3319\n",
            "Epoch 9 Batch 2000 Loss 0.2257\n",
            "Epoch 9 Loss 0.3107\n",
            "Time taken for 1 epoch 937.2722113132477 sec\n",
            "\n",
            "Epoch 10 Batch 0 Loss 0.2255\n",
            "Epoch 10 Batch 100 Loss 0.2218\n",
            "Epoch 10 Batch 200 Loss 0.3391\n",
            "Epoch 10 Batch 300 Loss 0.3256\n",
            "Epoch 10 Batch 400 Loss 0.2802\n",
            "Epoch 10 Batch 500 Loss 0.3440\n",
            "Epoch 10 Batch 600 Loss 0.3375\n",
            "Epoch 10 Batch 700 Loss 0.2591\n",
            "Epoch 10 Batch 800 Loss 0.3615\n",
            "Epoch 10 Batch 900 Loss 0.2655\n",
            "Epoch 10 Batch 1000 Loss 0.3189\n",
            "Epoch 10 Batch 1100 Loss 0.2740\n",
            "Epoch 10 Batch 1200 Loss 0.3009\n",
            "Epoch 10 Batch 1300 Loss 0.3578\n",
            "Epoch 10 Batch 1400 Loss 0.2694\n",
            "Epoch 10 Batch 1500 Loss 0.1819\n",
            "Epoch 10 Batch 1600 Loss 0.2874\n",
            "Epoch 10 Batch 1700 Loss 0.2846\n",
            "Epoch 10 Batch 1800 Loss 0.3586\n",
            "Epoch 10 Batch 1900 Loss 0.2773\n",
            "Epoch 10 Batch 2000 Loss 0.2407\n",
            "Epoch 10 Loss 0.2867\n",
            "Time taken for 1 epoch 938.5500741004944 sec\n",
            "\n"
          ],
          "name": "stdout"
        }
      ]
    },
    {
      "cell_type": "code",
      "metadata": {
        "id": "U3kTPes1vbTd",
        "colab_type": "code",
        "colab": {
          "base_uri": "https://localhost:8080/",
          "height": 34
        },
        "outputId": "56cffc90-0233-4e33-a1ce-8d34a994c855"
      },
      "source": [
        "! cp /content/aml-nlp-notes/language-model/training_checkpoints/* /content/drive/'My Drive'/NLP-checkpoints"
      ],
      "execution_count": 51,
      "outputs": [
        {
          "output_type": "stream",
          "text": [
            "cp: target '/content/drive/My Drive/NLP-checkpoints' is not a directory\n"
          ],
          "name": "stdout"
        }
      ]
    },
    {
      "cell_type": "code",
      "metadata": {
        "id": "4eLuStqc-cy_",
        "colab_type": "code",
        "colab": {}
      },
      "source": [
        "EPOCHS = 10\n",
        "\n",
        "for epoch in range(EPOCHS):\n",
        "    start = time.time()\n",
        "    \n",
        "    hidden = encoder.initialize_hidden_state()\n",
        "    total_loss = 0\n",
        "    \n",
        "    for (batch, (inp, targ)) in enumerate(dataset):\n",
        "        loss = 0\n",
        "        \n",
        "        with tf.GradientTape() as tape:\n",
        "            enc_output, enc_hidden = encoder(inp, hidden)\n",
        "            \n",
        "            dec_hidden = enc_hidden\n",
        "            \n",
        "            dec_input = tf.expand_dims([word_to_idx(word2idx, '<start>')] * BATCH_SIZE, 1)       \n",
        "            \n",
        "            # Teacher forcing - feeding the target as the next input\n",
        "            for t in range(1, targ.shape[1]):\n",
        "                # passing enc_output to the decoder\n",
        "                predictions, dec_hidden, _ = decoder(dec_input, dec_hidden, enc_output)\n",
        "                \n",
        "                loss += loss_function(targ[:, t], predictions)\n",
        "                \n",
        "                # using teacher forcing\n",
        "                dec_input = tf.expand_dims(targ[:, t], 1)\n",
        "        \n",
        "        batch_loss = (loss / int(targ.shape[1]))\n",
        "        \n",
        "        total_loss += batch_loss\n",
        "        \n",
        "        variables = encoder.variables + decoder.variables\n",
        "        \n",
        "        gradients = tape.gradient(loss, variables)\n",
        "        \n",
        "        optimizer.apply_gradients(zip(gradients, variables))\n",
        "        \n",
        "        if batch % 100 == 0:\n",
        "            print('Epoch {} Batch {} Loss {:.4f}'.format(epoch + 1,\n",
        "                                                         batch,\n",
        "                                                         batch_loss.numpy()))\n",
        "    # saving (checkpoint) the model every 2 epochs\n",
        "    if (epoch + 1) % 2 == 0:\n",
        "        checkpoint.save(file_prefix = checkpoint_prefix)\n",
        "    \n",
        "    print('Epoch {} Loss {:.4f}'.format(epoch + 1,\n",
        "                                        total_loss / N_BATCH))\n",
        "    print('Time taken for 1 epoch {} sec\\n'.format(time.time() - start))"
      ],
      "execution_count": 0,
      "outputs": []
    },
    {
      "cell_type": "markdown",
      "metadata": {
        "id": "omQOx6iv17LH",
        "colab_type": "text"
      },
      "source": [
        "### Try training on Cornell dataset now for fine tuning"
      ]
    },
    {
      "cell_type": "code",
      "metadata": {
        "id": "Kv8aZb9V15qd",
        "colab_type": "code",
        "colab": {
          "base_uri": "https://localhost:8080/",
          "height": 34
        },
        "outputId": "957e2591-c719-49ac-e3e4-bedebd80323b"
      },
      "source": [
        "# Try experimenting with the size of that dataset\n",
        "\n",
        "input_tensor, target_tensor, dict_index, max_length_inp, max_length_targ = load_dataset(dataset_name = 'cornell', max_sentence_length=20)\n",
        "\n",
        "# Creating training and validation sets using an 80-20 split\n",
        "input_tensor_train, input_tensor_val, target_tensor_train, target_tensor_val = train_test_split(input_tensor, target_tensor, test_size=0.2)\n",
        "\n",
        "dataset = tf.data.Dataset.from_tensor_slices((input_tensor_train, target_tensor_train)).shuffle(BUFFER_SIZE)\n",
        "dataset = dataset.batch(BATCH_SIZE, drop_remainder=True)"
      ],
      "execution_count": 94,
      "outputs": [
        {
          "output_type": "stream",
          "text": [
            "100%|██████████| 83097/83097 [00:03<00:00, 24949.75it/s]\n"
          ],
          "name": "stderr"
        }
      ]
    },
    {
      "cell_type": "code",
      "metadata": {
        "id": "dh4aNHPsSZ4y",
        "colab_type": "code",
        "colab": {
          "base_uri": "https://localhost:8080/",
          "height": 68
        },
        "outputId": "d40deeb4-3e40-4e89-9602-9a56d51fd2db"
      },
      "source": [
        "input_tensor.shape, dataset, len(dict_index[0])"
      ],
      "execution_count": 95,
      "outputs": [
        {
          "output_type": "execute_result",
          "data": {
            "text/plain": [
              "((24792, 9),\n",
              " <DatasetV1Adapter shapes: ((64, 9), (64, 9)), types: (tf.int32, tf.int32)>,\n",
              " 8739)"
            ]
          },
          "metadata": {
            "tags": []
          },
          "execution_count": 95
        }
      ]
    },
    {
      "cell_type": "code",
      "metadata": {
        "id": "mIhrxyi-2G0Y",
        "colab_type": "code",
        "colab": {
          "base_uri": "https://localhost:8080/",
          "height": 1207
        },
        "outputId": "a992bbaa-62a9-402b-ccd3-bb2499b384f6"
      },
      "source": [
        "EPOCHS = 10\n",
        "\n",
        "for epoch in range(EPOCHS):\n",
        "    start = time.time()\n",
        "    \n",
        "    hidden = encoder.initialize_hidden_state()\n",
        "    total_loss = 0\n",
        "    \n",
        "    for (batch, (inp, targ)) in enumerate(dataset):\n",
        "        loss = 0\n",
        "        \n",
        "        with tf.GradientTape() as tape:\n",
        "            enc_output, enc_hidden = encoder(inp, hidden)\n",
        "            \n",
        "            dec_hidden = enc_hidden\n",
        "            \n",
        "            dec_input = tf.expand_dims([word_to_idx(word2idx, '<start>')] * BATCH_SIZE, 1)       \n",
        "            \n",
        "            # Teacher forcing - feeding the target as the next input\n",
        "            for t in range(1, targ.shape[1]):\n",
        "                # passing enc_output to the decoder\n",
        "                predictions, dec_hidden, _ = decoder(dec_input, dec_hidden, enc_output)\n",
        "                \n",
        "                loss += loss_function(targ[:, t], predictions)\n",
        "                \n",
        "                # using teacher forcing\n",
        "                dec_input = tf.expand_dims(targ[:, t], 1)\n",
        "        \n",
        "        batch_loss = (loss / int(targ.shape[1]))\n",
        "        \n",
        "        total_loss += batch_loss\n",
        "        \n",
        "        variables = encoder.variables + decoder.variables\n",
        "        \n",
        "        gradients = tape.gradient(loss, variables)\n",
        "        \n",
        "        optimizer.apply_gradients(zip(gradients, variables))\n",
        "        \n",
        "        if batch % 100 == 0:\n",
        "            print('Epoch {} Batch {} Loss {:.4f}'.format(epoch + 1,\n",
        "                                                         batch,\n",
        "                                                         batch_loss.numpy()))\n",
        "    # saving (checkpoint) the model every 2 epochs\n",
        "    if (epoch + 1) % 2 == 0:\n",
        "        checkpoint.save(file_prefix = checkpoint_prefix)\n",
        "    \n",
        "    print('Epoch {} Loss {:.4f}'.format(epoch + 1,\n",
        "                                        total_loss / N_BATCH))\n",
        "    print('Time taken for 1 epoch {} sec\\n'.format(time.time() - start))"
      ],
      "execution_count": 41,
      "outputs": [
        {
          "output_type": "stream",
          "text": [
            "Epoch 1 Batch 0 Loss 3.9354\n",
            "Epoch 1 Batch 100 Loss 2.0047\n",
            "Epoch 1 Batch 200 Loss 1.8555\n",
            "Epoch 1 Batch 300 Loss 1.9503\n",
            "Epoch 1 Loss 0.3001\n",
            "Time taken for 1 epoch 105.25378012657166 sec\n",
            "\n",
            "Epoch 2 Batch 0 Loss 1.8440\n",
            "Epoch 2 Batch 100 Loss 1.8041\n",
            "Epoch 2 Batch 200 Loss 1.7314\n",
            "Epoch 2 Batch 300 Loss 1.7788\n",
            "Epoch 2 Loss 0.2653\n",
            "Time taken for 1 epoch 107.89335203170776 sec\n",
            "\n",
            "Epoch 3 Batch 0 Loss 1.7163\n",
            "Epoch 3 Batch 100 Loss 1.6674\n",
            "Epoch 3 Batch 200 Loss 1.6206\n",
            "Epoch 3 Batch 300 Loss 1.6759\n",
            "Epoch 3 Loss 0.2500\n",
            "Time taken for 1 epoch 104.43696141242981 sec\n",
            "\n",
            "Epoch 4 Batch 0 Loss 1.6359\n",
            "Epoch 4 Batch 100 Loss 1.6132\n",
            "Epoch 4 Batch 200 Loss 1.5088\n",
            "Epoch 4 Batch 300 Loss 1.5834\n",
            "Epoch 4 Loss 0.2396\n",
            "Time taken for 1 epoch 105.70821213722229 sec\n",
            "\n",
            "Epoch 5 Batch 0 Loss 1.5731\n",
            "Epoch 5 Batch 100 Loss 1.4957\n",
            "Epoch 5 Batch 200 Loss 1.3953\n",
            "Epoch 5 Batch 300 Loss 1.4837\n",
            "Epoch 5 Loss 0.2259\n",
            "Time taken for 1 epoch 104.60059666633606 sec\n",
            "\n",
            "Epoch 6 Batch 0 Loss 1.5070\n",
            "Epoch 6 Batch 100 Loss 1.3818\n",
            "Epoch 6 Batch 200 Loss 1.3149\n",
            "Epoch 6 Batch 300 Loss 1.3955\n",
            "Epoch 6 Loss 0.2133\n",
            "Time taken for 1 epoch 105.12968182563782 sec\n",
            "\n",
            "Epoch 7 Batch 0 Loss 1.4584\n",
            "Epoch 7 Batch 100 Loss 1.2942\n",
            "Epoch 7 Batch 200 Loss 1.2248\n",
            "Epoch 7 Batch 300 Loss 1.3321\n",
            "Epoch 7 Loss 0.2009\n",
            "Time taken for 1 epoch 103.52832889556885 sec\n",
            "\n",
            "Epoch 8 Batch 0 Loss 1.3803\n",
            "Epoch 8 Batch 100 Loss 1.2604\n",
            "Epoch 8 Batch 200 Loss 1.1492\n",
            "Epoch 8 Batch 300 Loss 1.2165\n",
            "Epoch 8 Loss 0.1900\n",
            "Time taken for 1 epoch 105.43974590301514 sec\n",
            "\n",
            "Epoch 9 Batch 0 Loss 1.3299\n",
            "Epoch 9 Batch 100 Loss 1.1585\n",
            "Epoch 9 Batch 200 Loss 1.0774\n",
            "Epoch 9 Batch 300 Loss 1.1703\n",
            "Epoch 9 Loss 0.1798\n",
            "Time taken for 1 epoch 102.65879225730896 sec\n",
            "\n",
            "Epoch 10 Batch 0 Loss 1.2711\n",
            "Epoch 10 Batch 100 Loss 1.0514\n",
            "Epoch 10 Batch 200 Loss 0.9940\n",
            "Epoch 10 Batch 300 Loss 1.0823\n",
            "Epoch 10 Loss 0.1685\n",
            "Time taken for 1 epoch 103.47669434547424 sec\n",
            "\n"
          ],
          "name": "stdout"
        }
      ]
    },
    {
      "cell_type": "code",
      "metadata": {
        "id": "GDdtExoV-4hV",
        "colab_type": "code",
        "colab": {}
      },
      "source": [
        "! cp /content/aml-nlp-notes/language-model/training_checkpoints/* /content/drive/'My Drive'/NLP-checkpoints"
      ],
      "execution_count": 0,
      "outputs": []
    },
    {
      "cell_type": "code",
      "metadata": {
        "id": "OG33_kV5-63l",
        "colab_type": "code",
        "colab": {
          "base_uri": "https://localhost:8080/",
          "height": 1207
        },
        "outputId": "e2412b32-701a-4489-f552-8bf6ea72df7b"
      },
      "source": [
        "EPOCHS = 10\n",
        "\n",
        "for epoch in range(EPOCHS):\n",
        "    start = time.time()\n",
        "    \n",
        "    hidden = encoder.initialize_hidden_state()\n",
        "    total_loss = 0\n",
        "    \n",
        "    for (batch, (inp, targ)) in enumerate(dataset):\n",
        "        loss = 0\n",
        "        \n",
        "        with tf.GradientTape() as tape:\n",
        "            enc_output, enc_hidden = encoder(inp, hidden)\n",
        "            \n",
        "            dec_hidden = enc_hidden\n",
        "            \n",
        "            dec_input = tf.expand_dims([word_to_idx(word2idx, '<start>')] * BATCH_SIZE, 1)       \n",
        "            \n",
        "            # Teacher forcing - feeding the target as the next input\n",
        "            for t in range(1, targ.shape[1]):\n",
        "                # passing enc_output to the decoder\n",
        "                predictions, dec_hidden, _ = decoder(dec_input, dec_hidden, enc_output)\n",
        "                \n",
        "                loss += loss_function(targ[:, t], predictions)\n",
        "                \n",
        "                # using teacher forcing\n",
        "                dec_input = tf.expand_dims(targ[:, t], 1)\n",
        "        \n",
        "        batch_loss = (loss / int(targ.shape[1]))\n",
        "        \n",
        "        total_loss += batch_loss\n",
        "        \n",
        "        variables = encoder.variables + decoder.variables\n",
        "        \n",
        "        gradients = tape.gradient(loss, variables)\n",
        "        \n",
        "        optimizer.apply_gradients(zip(gradients, variables))\n",
        "        \n",
        "        if batch % 100 == 0:\n",
        "            print('Epoch {} Batch {} Loss {:.4f}'.format(epoch + 1,\n",
        "                                                         batch,\n",
        "                                                         batch_loss.numpy()))\n",
        "    # saving (checkpoint) the model every 2 epochs\n",
        "    if (epoch + 1) % 2 == 0:\n",
        "        checkpoint.save(file_prefix = checkpoint_prefix)\n",
        "    \n",
        "    print('Epoch {} Loss {:.4f}'.format(epoch + 1,\n",
        "                                        total_loss / N_BATCH))\n",
        "    print('Time taken for 1 epoch {} sec\\n'.format(time.time() - start))"
      ],
      "execution_count": 54,
      "outputs": [
        {
          "output_type": "stream",
          "text": [
            "Epoch 1 Batch 0 Loss 1.2004\n",
            "Epoch 1 Batch 100 Loss 0.9789\n",
            "Epoch 1 Batch 200 Loss 0.9537\n",
            "Epoch 1 Batch 300 Loss 1.0141\n",
            "Epoch 1 Loss 0.1584\n",
            "Time taken for 1 epoch 107.40444302558899 sec\n",
            "\n",
            "Epoch 2 Batch 0 Loss 1.1600\n",
            "Epoch 2 Batch 100 Loss 0.8977\n",
            "Epoch 2 Batch 200 Loss 0.9267\n",
            "Epoch 2 Batch 300 Loss 0.9362\n",
            "Epoch 2 Loss 0.1474\n",
            "Time taken for 1 epoch 106.25173163414001 sec\n",
            "\n",
            "Epoch 3 Batch 0 Loss 1.1092\n",
            "Epoch 3 Batch 100 Loss 0.8023\n",
            "Epoch 3 Batch 200 Loss 0.8478\n",
            "Epoch 3 Batch 300 Loss 0.8340\n",
            "Epoch 3 Loss 0.1367\n",
            "Time taken for 1 epoch 104.38890528678894 sec\n",
            "\n",
            "Epoch 4 Batch 0 Loss 1.0197\n",
            "Epoch 4 Batch 100 Loss 0.7671\n",
            "Epoch 4 Batch 200 Loss 0.8009\n",
            "Epoch 4 Batch 300 Loss 0.7545\n",
            "Epoch 4 Loss 0.1268\n",
            "Time taken for 1 epoch 106.01122546195984 sec\n",
            "\n",
            "Epoch 5 Batch 0 Loss 0.9543\n",
            "Epoch 5 Batch 100 Loss 0.7042\n",
            "Epoch 5 Batch 200 Loss 0.7270\n",
            "Epoch 5 Batch 300 Loss 0.6675\n",
            "Epoch 5 Loss 0.1168\n",
            "Time taken for 1 epoch 104.0994381904602 sec\n",
            "\n",
            "Epoch 6 Batch 0 Loss 0.9547\n",
            "Epoch 6 Batch 100 Loss 0.6335\n",
            "Epoch 6 Batch 200 Loss 0.6408\n",
            "Epoch 6 Batch 300 Loss 0.6419\n",
            "Epoch 6 Loss 0.1100\n",
            "Time taken for 1 epoch 105.73140335083008 sec\n",
            "\n",
            "Epoch 7 Batch 0 Loss 0.9369\n",
            "Epoch 7 Batch 100 Loss 0.5676\n",
            "Epoch 7 Batch 200 Loss 0.5702\n",
            "Epoch 7 Batch 300 Loss 0.5555\n",
            "Epoch 7 Loss 0.1005\n",
            "Time taken for 1 epoch 104.48478746414185 sec\n",
            "\n",
            "Epoch 8 Batch 0 Loss 0.7800\n",
            "Epoch 8 Batch 100 Loss 0.5067\n",
            "Epoch 8 Batch 200 Loss 0.5106\n",
            "Epoch 8 Batch 300 Loss 0.5205\n",
            "Epoch 8 Loss 0.0903\n",
            "Time taken for 1 epoch 105.56859850883484 sec\n",
            "\n",
            "Epoch 9 Batch 0 Loss 0.7146\n",
            "Epoch 9 Batch 100 Loss 0.4691\n",
            "Epoch 9 Batch 200 Loss 0.4506\n",
            "Epoch 9 Batch 300 Loss 0.4748\n",
            "Epoch 9 Loss 0.0819\n",
            "Time taken for 1 epoch 103.307363986969 sec\n",
            "\n",
            "Epoch 10 Batch 0 Loss 0.6660\n",
            "Epoch 10 Batch 100 Loss 0.4686\n",
            "Epoch 10 Batch 200 Loss 0.4059\n",
            "Epoch 10 Batch 300 Loss 0.4596\n",
            "Epoch 10 Loss 0.0771\n",
            "Time taken for 1 epoch 104.82675671577454 sec\n",
            "\n"
          ],
          "name": "stdout"
        }
      ]
    },
    {
      "cell_type": "markdown",
      "metadata": {
        "id": "XqEPD6PYI6P7",
        "colab_type": "text"
      },
      "source": [
        "## Twitter data"
      ]
    },
    {
      "cell_type": "code",
      "metadata": {
        "id": "fFw9tueJI5qS",
        "colab_type": "code",
        "colab": {
          "base_uri": "https://localhost:8080/",
          "height": 85
        },
        "outputId": "e6e223bc-b958-4a42-df40-1d40d4068863"
      },
      "source": [
        "! git clone https://github.com/Marsan-Ma/chat_corpus"
      ],
      "execution_count": 66,
      "outputs": [
        {
          "output_type": "stream",
          "text": [
            "Cloning into 'chat_corpus'...\n",
            "remote: Enumerating objects: 17, done.\u001b[K\n",
            "remote: Total 17 (delta 0), reused 0 (delta 0), pack-reused 17\u001b[K\n",
            "Unpacking objects: 100% (17/17), done.\n"
          ],
          "name": "stdout"
        }
      ]
    },
    {
      "cell_type": "code",
      "metadata": {
        "id": "KVvt57INJauf",
        "colab_type": "code",
        "colab": {}
      },
      "source": [
        "! mv chat_corpus/ data"
      ],
      "execution_count": 0,
      "outputs": []
    },
    {
      "cell_type": "code",
      "metadata": {
        "id": "t2CiImfEJ-eU",
        "colab_type": "code",
        "colab": {}
      },
      "source": [
        "! gzip -d data/chat_corpus/twitter_en.txt.gz"
      ],
      "execution_count": 0,
      "outputs": []
    },
    {
      "cell_type": "code",
      "metadata": {
        "id": "gHEkf5_iKGbC",
        "colab_type": "code",
        "colab": {
          "base_uri": "https://localhost:8080/",
          "height": 68
        },
        "outputId": "bb5ef7ea-6476-4f7d-f5c9-0d5f60b2a625"
      },
      "source": [
        "! ls data/chat_corpus/"
      ],
      "execution_count": 69,
      "outputs": [
        {
          "output_type": "stream",
          "text": [
            "lyrics_zh.txt.gz\t   README.md\t\t\t twitter_en.txt\n",
            "movie_subtitles_en.txt.gz  twitter_en_big.txt.gz.partaa\n",
            "open_subtitles.txt.gz\t   twitter_en_big.txt.gz.partab\n"
          ],
          "name": "stdout"
        }
      ]
    },
    {
      "cell_type": "code",
      "metadata": {
        "id": "K0AWOBZSKNqX",
        "colab_type": "code",
        "colab": {}
      },
      "source": [
        "# Try experimenting with the size of that dataset\n",
        "\n",
        "input_tensor, target_tensor, dict_index, max_length_inp, max_length_targ = load_dataset(dataset_name = 'twitter', max_sentence_length=20)\n",
        "\n",
        "# Creating training and validation sets using an 80-20 split\n",
        "input_tensor_train, input_tensor_val, target_tensor_train, target_tensor_val = train_test_split(input_tensor, target_tensor, test_size=0.2)\n",
        "\n",
        "dataset = tf.data.Dataset.from_tensor_slices((input_tensor_train, target_tensor_train)).shuffle(BUFFER_SIZE)\n",
        "dataset = dataset.batch(BATCH_SIZE, drop_remainder=True)"
      ],
      "execution_count": 0,
      "outputs": []
    },
    {
      "cell_type": "code",
      "metadata": {
        "id": "s-HrwWlYRTSc",
        "colab_type": "code",
        "colab": {
          "base_uri": "https://localhost:8080/",
          "height": 68
        },
        "outputId": "3c9ef8f7-d504-4c99-ed6d-792cfd38119d"
      },
      "source": [
        "input_tensor.shape, dataset, len(dict_index[0])"
      ],
      "execution_count": 128,
      "outputs": [
        {
          "output_type": "execute_result",
          "data": {
            "text/plain": [
              "((377265, 41),\n",
              " <DatasetV1Adapter shapes: ((64, 41), (64, 39)), types: (tf.int32, tf.int32)>,\n",
              " 15002)"
            ]
          },
          "metadata": {
            "tags": []
          },
          "execution_count": 128
        }
      ]
    },
    {
      "cell_type": "code",
      "metadata": {
        "id": "S8H-1S7GQt_W",
        "colab_type": "code",
        "colab": {
          "base_uri": "https://localhost:8080/",
          "height": 136
        },
        "outputId": "08bae83c-e1a1-43f7-8dc9-6a4e2e2a04a5"
      },
      "source": [
        "EPOCHS = 15\n",
        "\n",
        "for epoch in range(EPOCHS):\n",
        "    start = time.time()\n",
        "    \n",
        "    hidden = encoder.initialize_hidden_state()\n",
        "    total_loss = 0\n",
        "    \n",
        "    for (batch, (inp, targ)) in enumerate(dataset):\n",
        "        loss = 0\n",
        "        \n",
        "        with tf.GradientTape() as tape:\n",
        "            enc_output, enc_hidden = encoder(inp, hidden)\n",
        "            \n",
        "            dec_hidden = enc_hidden\n",
        "            \n",
        "            dec_input = tf.expand_dims([word_to_idx(word2idx, '<start>')] * BATCH_SIZE, 1)       \n",
        "            \n",
        "            # Teacher forcing - feeding the target as the next input\n",
        "            for t in range(1, targ.shape[1]):\n",
        "                # passing enc_output to the decoder\n",
        "                predictions, dec_hidden, _ = decoder(dec_input, dec_hidden, enc_output)\n",
        "                \n",
        "                loss += loss_function(targ[:, t], predictions)\n",
        "                \n",
        "                # using teacher forcing\n",
        "                dec_input = tf.expand_dims(targ[:, t], 1)\n",
        "        \n",
        "        batch_loss = (loss / int(targ.shape[1]))\n",
        "        \n",
        "        total_loss += batch_loss\n",
        "        \n",
        "        variables = encoder.variables + decoder.variables\n",
        "        \n",
        "        gradients = tape.gradient(loss, variables)\n",
        "        \n",
        "        optimizer.apply_gradients(zip(gradients, variables))\n",
        "        \n",
        "        if batch % 100 == 0:\n",
        "            print('Epoch {} Batch {} Loss {:.4f}'.format(epoch + 1,\n",
        "                                                         batch,\n",
        "                                                         batch_loss.numpy()))\n",
        "    # saving (checkpoint) the model every 2 epochs\n",
        "    if (epoch + 1) % 2 == 0:\n",
        "        checkpoint.save(file_prefix = checkpoint_prefix)\n",
        "    \n",
        "    print('Epoch {} Loss {:.4f}'.format(epoch + 1,\n",
        "                                        total_loss / N_BATCH))\n",
        "    print('Time taken for 1 epoch {} sec\\n'.format(time.time() - start))"
      ],
      "execution_count": 0,
      "outputs": [
        {
          "output_type": "stream",
          "text": [
            "Epoch 1 Batch 0 Loss 3.4326\n",
            "Epoch 1 Batch 100 Loss 2.2943\n",
            "Epoch 1 Batch 200 Loss 2.1855\n",
            "Epoch 1 Batch 300 Loss 2.0957\n",
            "Epoch 1 Batch 400 Loss 1.8933\n",
            "Epoch 1 Batch 500 Loss 1.8357\n",
            "Epoch 1 Batch 600 Loss 1.9868\n"
          ],
          "name": "stdout"
        }
      ]
    },
    {
      "cell_type": "markdown",
      "metadata": {
        "id": "MRd40gqNbBeu",
        "colab_type": "text"
      },
      "source": [
        "## Prediction \n",
        "* The evaluate function is similar to the training loop, except we don't use *teacher forcing* here. The input to the decoder at each time step is its previous predictions along with the hidden state and the encoder output.\n",
        "* Stop predicting when the model predicts the *end token*.\n",
        "* And store the *attention weights for every time step*.\n",
        "\n",
        "Note: The encoder output is calculated only once for one input."
      ]
    },
    {
      "cell_type": "code",
      "metadata": {
        "id": "8B3xajV6bBey",
        "colab_type": "code",
        "colab": {}
      },
      "source": [
        "def evaluate(sentence, encoder, decoder, dictionary_index,  max_length):\n",
        "    word2idx = dictionary_index[0]\n",
        "    idx2word = dictionary_index[1]\n",
        "    attention_plot = np.zeros((max_length, max_length))\n",
        "    \n",
        "    sentence = preprocess_sentence(sentence)\n",
        "\n",
        "    inputs = [word_to_idx(word2idx, i) for i in sentence.split(' ')]\n",
        "    inputs = tf.keras.preprocessing.sequence.pad_sequences([inputs], maxlen=max_length, padding='post')\n",
        "    inputs = tf.convert_to_tensor(inputs)\n",
        "    \n",
        "    result = ''\n",
        "\n",
        "    hidden = [tf.zeros((1, units))]\n",
        "    enc_out, enc_hidden = encoder(inputs, hidden)\n",
        "\n",
        "    dec_hidden = enc_hidden\n",
        "    dec_input = tf.expand_dims([word_to_idx(word2idx, '<start>')word2idx['<start>']], 0)\n",
        "\n",
        "    for t in range(max_length_targ):\n",
        "        predictions, dec_hidden, attention_weights = decoder(dec_input, dec_hidden, enc_out)\n",
        "        \n",
        "        # storing the attention weights to plot later on\n",
        "        attention_weights = tf.reshape(attention_weights, (-1, ))\n",
        "        attention_plot[t] = attention_weights.numpy()\n",
        "\n",
        "        predicted_id = tf.argmax(predictions[0]).numpy()\n",
        "\n",
        "        result += idx2word[predicted_id] + ' '\n",
        "\n",
        "        if idx2word[predicted_id] == '<end>':\n",
        "            return result, sentence, attention_plot\n",
        "        \n",
        "        # the predicted ID is fed back into the model\n",
        "        dec_input = tf.expand_dims([predicted_id], 0)\n",
        "\n",
        "    return result, sentence, attention_plot"
      ],
      "execution_count": 0,
      "outputs": []
    },
    {
      "cell_type": "code",
      "metadata": {
        "id": "tL0a5uQ0bBe0",
        "colab_type": "code",
        "colab": {}
      },
      "source": [
        "# function for plotting the attention weights\n",
        "def plot_attention(attention, sentence, predicted_sentence):\n",
        "    fig = plt.figure(figsize=(10,10))\n",
        "    ax = fig.add_subplot(1, 1, 1)\n",
        "    ax.matshow(attention, cmap='viridis')\n",
        "    \n",
        "    fontdict = {'fontsize': 14}\n",
        "    \n",
        "    ax.set_xticklabels([''] + sentence, fontdict=fontdict, rotation=90)\n",
        "    ax.set_yticklabels([''] + predicted_sentence, fontdict=fontdict)\n",
        "\n",
        "    plt.show()"
      ],
      "execution_count": 0,
      "outputs": []
    },
    {
      "cell_type": "code",
      "metadata": {
        "id": "3bFl4ihwbBe8",
        "colab_type": "code",
        "colab": {}
      },
      "source": [
        "def answer(sentence, encoder, decoder, dictionary_index, max_length):\n",
        "    result, sentence, attention_plot = evaluate(sentence, encoder, decoder, dictionary_index, max_length)\n",
        "        \n",
        "    print('Input: {}'.format(sentence))\n",
        "    print('Predicted translation: {}'.format(result))\n",
        "    \n",
        "    attention_plot = attention_plot[:len(result.split(' ')), :len(sentence.split(' '))]\n",
        "    plot_attention(attention_plot, sentence.split(' '), result.split(' '))"
      ],
      "execution_count": 0,
      "outputs": []
    },
    {
      "cell_type": "markdown",
      "metadata": {
        "id": "FESq_uq1bBe_",
        "colab_type": "text"
      },
      "source": [
        "## Testing "
      ]
    },
    {
      "cell_type": "code",
      "metadata": {
        "id": "66aL1DKVbBe_",
        "colab_type": "code",
        "colab": {}
      },
      "source": [
        "# restoring the latest checkpoint in checkpoint_dir\n",
        "checkpoint.restore(tf.train.latest_checkpoint(checkpoint_dir))"
      ],
      "execution_count": 0,
      "outputs": []
    },
    {
      "cell_type": "code",
      "metadata": {
        "id": "ZbUSSL-bMNKx",
        "colab_type": "code",
        "colab": {
          "base_uri": "https://localhost:8080/",
          "height": 34
        },
        "outputId": "f0f5de5a-0920-406d-c2b9-009d71e70a38"
      },
      "source": [
        "tf.train.latest_checkpoint(checkpoint_dir)"
      ],
      "execution_count": 26,
      "outputs": [
        {
          "output_type": "execute_result",
          "data": {
            "text/plain": [
              "'./training_checkpoints/ckpt-5'"
            ]
          },
          "metadata": {
            "tags": []
          },
          "execution_count": 26
        }
      ]
    },
    {
      "cell_type": "code",
      "metadata": {
        "id": "Z7n3KWeq9fx2",
        "colab_type": "code",
        "colab": {
          "base_uri": "https://localhost:8080/",
          "height": 34
        },
        "outputId": "3c240a5b-e4cc-46e5-a243-be9d0d8009cb"
      },
      "source": [
        "preprocess_sentence(qs[1])"
      ],
      "execution_count": 57,
      "outputs": [
        {
          "output_type": "execute_result",
          "data": {
            "text/plain": [
              "'<start> how are you doing <end>'"
            ]
          },
          "metadata": {
            "tags": []
          },
          "execution_count": 57
        }
      ]
    },
    {
      "cell_type": "code",
      "metadata": {
        "id": "0njLqHRv8-42",
        "colab_type": "code",
        "colab": {}
      },
      "source": [
        "qs = ['Hi', 'How are you doing?', \"What is your name?\",  \"What's your hobby?\", \"What is AI?\"]"
      ],
      "execution_count": 0,
      "outputs": []
    },
    {
      "cell_type": "code",
      "metadata": {
        "id": "L2kRgGfSbBfC",
        "colab_type": "code",
        "colab": {
          "base_uri": "https://localhost:8080/",
          "height": 307
        },
        "outputId": "4af21391-d03c-4b12-d8b0-8ee83abb0a26"
      },
      "source": [
        "answer(qs[4], encoder, decoder, dict_index, max_length_targ)"
      ],
      "execution_count": 62,
      "outputs": [
        {
          "output_type": "error",
          "ename": "KeyError",
          "evalue": "ignored",
          "traceback": [
            "\u001b[0;31m---------------------------------------------------------------------------\u001b[0m",
            "\u001b[0;31mKeyError\u001b[0m                                  Traceback (most recent call last)",
            "\u001b[0;32m<ipython-input-62-0686fd9d36ee>\u001b[0m in \u001b[0;36m<module>\u001b[0;34m()\u001b[0m\n\u001b[0;32m----> 1\u001b[0;31m \u001b[0manswer\u001b[0m\u001b[0;34m(\u001b[0m\u001b[0mqs\u001b[0m\u001b[0;34m[\u001b[0m\u001b[0;36m4\u001b[0m\u001b[0;34m]\u001b[0m\u001b[0;34m,\u001b[0m \u001b[0mencoder\u001b[0m\u001b[0;34m,\u001b[0m \u001b[0mdecoder\u001b[0m\u001b[0;34m,\u001b[0m \u001b[0mdict_index\u001b[0m\u001b[0;34m,\u001b[0m \u001b[0mmax_length_targ\u001b[0m\u001b[0;34m)\u001b[0m\u001b[0;34m\u001b[0m\u001b[0;34m\u001b[0m\u001b[0m\n\u001b[0m",
            "\u001b[0;32m<ipython-input-33-3cb71f05c261>\u001b[0m in \u001b[0;36manswer\u001b[0;34m(sentence, encoder, decoder, dictionary_index, max_length)\u001b[0m\n\u001b[1;32m      1\u001b[0m \u001b[0;32mdef\u001b[0m \u001b[0manswer\u001b[0m\u001b[0;34m(\u001b[0m\u001b[0msentence\u001b[0m\u001b[0;34m,\u001b[0m \u001b[0mencoder\u001b[0m\u001b[0;34m,\u001b[0m \u001b[0mdecoder\u001b[0m\u001b[0;34m,\u001b[0m \u001b[0mdictionary_index\u001b[0m\u001b[0;34m,\u001b[0m \u001b[0mmax_length\u001b[0m\u001b[0;34m)\u001b[0m\u001b[0;34m:\u001b[0m\u001b[0;34m\u001b[0m\u001b[0;34m\u001b[0m\u001b[0m\n\u001b[0;32m----> 2\u001b[0;31m     \u001b[0mresult\u001b[0m\u001b[0;34m,\u001b[0m \u001b[0msentence\u001b[0m\u001b[0;34m,\u001b[0m \u001b[0mattention_plot\u001b[0m \u001b[0;34m=\u001b[0m \u001b[0mevaluate\u001b[0m\u001b[0;34m(\u001b[0m\u001b[0msentence\u001b[0m\u001b[0;34m,\u001b[0m \u001b[0mencoder\u001b[0m\u001b[0;34m,\u001b[0m \u001b[0mdecoder\u001b[0m\u001b[0;34m,\u001b[0m \u001b[0mdictionary_index\u001b[0m\u001b[0;34m,\u001b[0m \u001b[0mmax_length\u001b[0m\u001b[0;34m)\u001b[0m\u001b[0;34m\u001b[0m\u001b[0;34m\u001b[0m\u001b[0m\n\u001b[0m\u001b[1;32m      3\u001b[0m \u001b[0;34m\u001b[0m\u001b[0m\n\u001b[1;32m      4\u001b[0m     \u001b[0mprint\u001b[0m\u001b[0;34m(\u001b[0m\u001b[0;34m'Input: {}'\u001b[0m\u001b[0;34m.\u001b[0m\u001b[0mformat\u001b[0m\u001b[0;34m(\u001b[0m\u001b[0msentence\u001b[0m\u001b[0;34m)\u001b[0m\u001b[0;34m)\u001b[0m\u001b[0;34m\u001b[0m\u001b[0;34m\u001b[0m\u001b[0m\n\u001b[1;32m      5\u001b[0m     \u001b[0mprint\u001b[0m\u001b[0;34m(\u001b[0m\u001b[0;34m'Predicted translation: {}'\u001b[0m\u001b[0;34m.\u001b[0m\u001b[0mformat\u001b[0m\u001b[0;34m(\u001b[0m\u001b[0mresult\u001b[0m\u001b[0;34m)\u001b[0m\u001b[0;34m)\u001b[0m\u001b[0;34m\u001b[0m\u001b[0;34m\u001b[0m\u001b[0m\n",
            "\u001b[0;32m<ipython-input-31-2bd6654a6883>\u001b[0m in \u001b[0;36mevaluate\u001b[0;34m(sentence, encoder, decoder, dictionary_index, max_length)\u001b[0m\n\u001b[1;32m      6\u001b[0m     \u001b[0msentence\u001b[0m \u001b[0;34m=\u001b[0m \u001b[0mpreprocess_sentence\u001b[0m\u001b[0;34m(\u001b[0m\u001b[0msentence\u001b[0m\u001b[0;34m)\u001b[0m\u001b[0;34m\u001b[0m\u001b[0;34m\u001b[0m\u001b[0m\n\u001b[1;32m      7\u001b[0m \u001b[0;34m\u001b[0m\u001b[0m\n\u001b[0;32m----> 8\u001b[0;31m     \u001b[0minputs\u001b[0m \u001b[0;34m=\u001b[0m \u001b[0;34m[\u001b[0m\u001b[0mword2idx\u001b[0m\u001b[0;34m[\u001b[0m\u001b[0mi\u001b[0m\u001b[0;34m]\u001b[0m \u001b[0;32mfor\u001b[0m \u001b[0mi\u001b[0m \u001b[0;32min\u001b[0m \u001b[0msentence\u001b[0m\u001b[0;34m.\u001b[0m\u001b[0msplit\u001b[0m\u001b[0;34m(\u001b[0m\u001b[0;34m' '\u001b[0m\u001b[0;34m)\u001b[0m\u001b[0;34m]\u001b[0m\u001b[0;34m\u001b[0m\u001b[0;34m\u001b[0m\u001b[0m\n\u001b[0m\u001b[1;32m      9\u001b[0m     \u001b[0minputs\u001b[0m \u001b[0;34m=\u001b[0m \u001b[0mtf\u001b[0m\u001b[0;34m.\u001b[0m\u001b[0mkeras\u001b[0m\u001b[0;34m.\u001b[0m\u001b[0mpreprocessing\u001b[0m\u001b[0;34m.\u001b[0m\u001b[0msequence\u001b[0m\u001b[0;34m.\u001b[0m\u001b[0mpad_sequences\u001b[0m\u001b[0;34m(\u001b[0m\u001b[0;34m[\u001b[0m\u001b[0minputs\u001b[0m\u001b[0;34m]\u001b[0m\u001b[0;34m,\u001b[0m \u001b[0mmaxlen\u001b[0m\u001b[0;34m=\u001b[0m\u001b[0mmax_length\u001b[0m\u001b[0;34m,\u001b[0m \u001b[0mpadding\u001b[0m\u001b[0;34m=\u001b[0m\u001b[0;34m'post'\u001b[0m\u001b[0;34m)\u001b[0m\u001b[0;34m\u001b[0m\u001b[0;34m\u001b[0m\u001b[0m\n\u001b[1;32m     10\u001b[0m     \u001b[0minputs\u001b[0m \u001b[0;34m=\u001b[0m \u001b[0mtf\u001b[0m\u001b[0;34m.\u001b[0m\u001b[0mconvert_to_tensor\u001b[0m\u001b[0;34m(\u001b[0m\u001b[0minputs\u001b[0m\u001b[0;34m)\u001b[0m\u001b[0;34m\u001b[0m\u001b[0;34m\u001b[0m\u001b[0m\n",
            "\u001b[0;32m<ipython-input-31-2bd6654a6883>\u001b[0m in \u001b[0;36m<listcomp>\u001b[0;34m(.0)\u001b[0m\n\u001b[1;32m      6\u001b[0m     \u001b[0msentence\u001b[0m \u001b[0;34m=\u001b[0m \u001b[0mpreprocess_sentence\u001b[0m\u001b[0;34m(\u001b[0m\u001b[0msentence\u001b[0m\u001b[0;34m)\u001b[0m\u001b[0;34m\u001b[0m\u001b[0;34m\u001b[0m\u001b[0m\n\u001b[1;32m      7\u001b[0m \u001b[0;34m\u001b[0m\u001b[0m\n\u001b[0;32m----> 8\u001b[0;31m     \u001b[0minputs\u001b[0m \u001b[0;34m=\u001b[0m \u001b[0;34m[\u001b[0m\u001b[0mword2idx\u001b[0m\u001b[0;34m[\u001b[0m\u001b[0mi\u001b[0m\u001b[0;34m]\u001b[0m \u001b[0;32mfor\u001b[0m \u001b[0mi\u001b[0m \u001b[0;32min\u001b[0m \u001b[0msentence\u001b[0m\u001b[0;34m.\u001b[0m\u001b[0msplit\u001b[0m\u001b[0;34m(\u001b[0m\u001b[0;34m' '\u001b[0m\u001b[0;34m)\u001b[0m\u001b[0;34m]\u001b[0m\u001b[0;34m\u001b[0m\u001b[0;34m\u001b[0m\u001b[0m\n\u001b[0m\u001b[1;32m      9\u001b[0m     \u001b[0minputs\u001b[0m \u001b[0;34m=\u001b[0m \u001b[0mtf\u001b[0m\u001b[0;34m.\u001b[0m\u001b[0mkeras\u001b[0m\u001b[0;34m.\u001b[0m\u001b[0mpreprocessing\u001b[0m\u001b[0;34m.\u001b[0m\u001b[0msequence\u001b[0m\u001b[0;34m.\u001b[0m\u001b[0mpad_sequences\u001b[0m\u001b[0;34m(\u001b[0m\u001b[0;34m[\u001b[0m\u001b[0minputs\u001b[0m\u001b[0;34m]\u001b[0m\u001b[0;34m,\u001b[0m \u001b[0mmaxlen\u001b[0m\u001b[0;34m=\u001b[0m\u001b[0mmax_length\u001b[0m\u001b[0;34m,\u001b[0m \u001b[0mpadding\u001b[0m\u001b[0;34m=\u001b[0m\u001b[0;34m'post'\u001b[0m\u001b[0;34m)\u001b[0m\u001b[0;34m\u001b[0m\u001b[0;34m\u001b[0m\u001b[0m\n\u001b[1;32m     10\u001b[0m     \u001b[0minputs\u001b[0m \u001b[0;34m=\u001b[0m \u001b[0mtf\u001b[0m\u001b[0;34m.\u001b[0m\u001b[0mconvert_to_tensor\u001b[0m\u001b[0;34m(\u001b[0m\u001b[0minputs\u001b[0m\u001b[0;34m)\u001b[0m\u001b[0;34m\u001b[0m\u001b[0;34m\u001b[0m\u001b[0m\n",
            "\u001b[0;31mKeyError\u001b[0m: 'ai'"
          ]
        }
      ]
    },
    {
      "cell_type": "code",
      "metadata": {
        "id": "-1RSYoYibBfG",
        "colab_type": "code",
        "colab": {
          "base_uri": "https://localhost:8080/",
          "height": 597
        },
        "outputId": "813451ac-5567-4202-bd7c-a709c8768392"
      },
      "source": [
        "answer('How are you doing', encoder, decoder, dict_index, max_length_targ)"
      ],
      "execution_count": 43,
      "outputs": [
        {
          "output_type": "stream",
          "text": [
            "Input: <start> how are you doing <end>\n",
            "Predicted translation: i dont know <end> \n"
          ],
          "name": "stdout"
        },
        {
          "output_type": "display_data",
          "data": {
            "image/png": "[encoded data removed]",
            "text/plain": [
              "<Figure size 720x720 with 1 Axes>"
            ]
          },
          "metadata": {
            "tags": []
          }
        }
      ]
    },
    {
      "cell_type": "code",
      "metadata": {
        "id": "exPDTfQxbBfJ",
        "colab_type": "code",
        "colab": {
          "base_uri": "https://localhost:8080/",
          "height": 416
        },
        "outputId": "a4a40ff4-6b65-469d-ef48-34d2a58c9df2"
      },
      "source": [
        "answer('Do you know anything', encoder, decoder, dict_index, max_length_targ)"
      ],
      "execution_count": 46,
      "outputs": [
        {
          "output_type": "stream",
          "text": [
            "Input: <start> do you know anything <end>\n",
            "Predicted translation: no <end> \n"
          ],
          "name": "stdout"
        },
        {
          "output_type": "display_data",
          "data": {
            "image/png": "[encoded data removed]",
            "text/plain": [
              "<Figure size 720x720 with 1 Axes>"
            ]
          },
          "metadata": {
            "tags": []
          }
        }
      ]
    },
    {
      "cell_type": "markdown",
      "metadata": {
        "id": "WatTBtGsbBfN",
        "colab_type": "text"
      },
      "source": [
        "## Scratchpad"
      ]
    },
    {
      "cell_type": "code",
      "metadata": {
        "id": "2cUrxXiObBfR",
        "colab_type": "code",
        "colab": {}
      },
      "source": [
        "max_length_inp, max_length_targ "
      ],
      "execution_count": 0,
      "outputs": []
    },
    {
      "cell_type": "code",
      "metadata": {
        "id": "NBMaqnXEbBfa",
        "colab_type": "code",
        "colab": {}
      },
      "source": [
        "target_tensor_train[0], 1 - np.equal(target_tensor_train[0], 0)"
      ],
      "execution_count": 0,
      "outputs": []
    },
    {
      "cell_type": "code",
      "metadata": {
        "id": "J36POnBsbBff",
        "colab_type": "code",
        "colab": {}
      },
      "source": [
        "input_tensor_train[0], target_tensor_train[0]"
      ],
      "execution_count": 0,
      "outputs": []
    },
    {
      "cell_type": "code",
      "metadata": {
        "id": "X7g9WRA7bBfo",
        "colab_type": "code",
        "colab": {}
      },
      "source": [
        "q_index = create_index([q for q, a in data])\n",
        "q_word2idx = q_index[0]\n",
        "len(q_word2idx)"
      ],
      "execution_count": 0,
      "outputs": []
    },
    {
      "cell_type": "code",
      "metadata": {
        "id": "gY2Hl6wSbBfu",
        "colab_type": "code",
        "colab": {}
      },
      "source": [
        "[[q_word2idx[w] for w in qs.split(' ')] for qs, a in data]"
      ],
      "execution_count": 0,
      "outputs": []
    },
    {
      "cell_type": "code",
      "metadata": {
        "scrolled": true,
        "id": "4XEt3oFJbBfx",
        "colab_type": "code",
        "colab": {}
      },
      "source": [
        "data[:100]"
      ],
      "execution_count": 0,
      "outputs": []
    },
    {
      "cell_type": "code",
      "metadata": {
        "id": "3AueKpR5bBf1",
        "colab_type": "code",
        "colab": {}
      },
      "source": [
        "create_index([a for a,b in data[:100]])"
      ],
      "execution_count": 0,
      "outputs": []
    }
  ]
}