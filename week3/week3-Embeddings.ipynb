{
 "cells": [
  {
   "cell_type": "markdown",
   "metadata": {},
   "source": [
    "# Find duplicate questions on StackOverflow by their embeddings\n",
    "\n",
    "In this assignment you will learn how to calculate a similarity for pieces of text. Using this approach you will know how to find duplicate questions from [StackOverflow](https://stackoverflow.com)."
   ]
  },
  {
   "cell_type": "markdown",
   "metadata": {},
   "source": [
    "### Libraries\n",
    "\n",
    "In this task you will you will need the following libraries:\n",
    "- [StarSpace](https://github.com/facebookresearch/StarSpace) — a general-purpose model for efficient learning of entity embeddings from Facebook\n",
    "- [Gensim](https://radimrehurek.com/gensim/) — a tool for solving various NLP-related tasks (topic modeling, text representation, ...)\n",
    "- [Numpy](http://www.numpy.org) — a package for scientific computing.\n",
    "- [scikit-learn](http://scikit-learn.org/stable/index.html) — a tool for data mining and data analysis.\n",
    "- [Nltk](http://www.nltk.org) — a platform to work with human language data."
   ]
  },
  {
   "cell_type": "markdown",
   "metadata": {},
   "source": [
    "### Data\n",
    "\n",
    "The following cell will download all data required for this assignment into the folder `week3/data`."
   ]
  },
  {
   "cell_type": "code",
   "execution_count": 1,
   "metadata": {},
   "outputs": [],
   "source": [
    "import sys\n",
    "sys.path.append(\"..\")\n",
    "from common.download_utils import download_week3_resources\n",
    "\n",
    "download_week3_resources()"
   ]
  },
  {
   "cell_type": "markdown",
   "metadata": {},
   "source": [
    "### Grading\n",
    "We will create a grader instace below and use it to collect your answers. Note that these outputs will be stored locally inside grader and will be uploaded to platform only after running submiting function in the last part of this assignment. If you want to make partial submission, you can run that cell any time you want."
   ]
  },
  {
   "cell_type": "code",
   "execution_count": 2,
   "metadata": {},
   "outputs": [],
   "source": [
    "from grader import Grader"
   ]
  },
  {
   "cell_type": "code",
   "execution_count": 3,
   "metadata": {},
   "outputs": [],
   "source": [
    "grader = Grader()"
   ]
  },
  {
   "cell_type": "markdown",
   "metadata": {},
   "source": [
    "## Word embedding\n",
    "\n",
    "To solve the problem, you will use two different models of embeddings:\n",
    "\n",
    " - [Pre-trained word vectors](https://code.google.com/archive/p/word2vec/) from Google which were trained on a part of Google News dataset (about 100 billion words). The model contains 300-dimensional vectors for 3 million words and phrases. `GoogleNews-vectors-negative300.bin.gz` will be downloaded in `download_week3_resources()`.\n",
    " - Representations using StarSpace on StackOverflow data sample. You will need to train them from scratch."
   ]
  },
  {
   "cell_type": "markdown",
   "metadata": {},
   "source": [
    "It's always easier to start with pre-trained embeddings. Unpack the pre-trained Goggle's vectors and upload them using the function [KeyedVectors.load_word2vec_format](https://radimrehurek.com/gensim/models/keyedvectors.html) from gensim library with the parameter *binary=True*. If the size of the embeddings is larger than the avaliable memory, you could load only a part of the embeddings by defining the parameter *limit* (recommended: 500000)."
   ]
  },
  {
   "cell_type": "code",
   "execution_count": 62,
   "metadata": {},
   "outputs": [],
   "source": [
    "import gensim\n",
    "from gensim.models import KeyedVectors"
   ]
  },
  {
   "cell_type": "code",
   "execution_count": 5,
   "metadata": {},
   "outputs": [],
   "source": [
    "wv_embeddings = KeyedVectors.load_word2vec_format(\"GoogleNews-vectors-negative300.bin.gz\", binary=True, limit=500000)"
   ]
  },
  {
   "cell_type": "code",
   "execution_count": 10,
   "metadata": {},
   "outputs": [
    {
     "data": {
      "text/plain": [
       "True"
      ]
     },
     "execution_count": 10,
     "metadata": {},
     "output_type": "execute_result"
    }
   ],
   "source": [
    "'dog' in wv_embeddings"
   ]
  },
  {
   "cell_type": "code",
   "execution_count": 18,
   "metadata": {
    "scrolled": true
   },
   "outputs": [
    {
     "data": {
      "text/plain": [
       "(300,)"
      ]
     },
     "execution_count": 18,
     "metadata": {},
     "output_type": "execute_result"
    }
   ],
   "source": [
    "wv_embeddings['dog'].shape"
   ]
  },
  {
   "cell_type": "code",
   "execution_count": 28,
   "metadata": {},
   "outputs": [],
   "source": [
    "from sklearn.metrics.pairwise import cosine_similarity\n",
    "import scipy.spatial.distance\n",
    "from sklearn.preprocessing import normalize"
   ]
  },
  {
   "cell_type": "code",
   "execution_count": 32,
   "metadata": {},
   "outputs": [
    {
     "data": {
      "text/plain": [
       "7.1418076"
      ]
     },
     "execution_count": 32,
     "metadata": {},
     "output_type": "execute_result"
    }
   ],
   "source": [
    "A = wv_embeddings['king'].reshape(300, 1)\n",
    "B = wv_embeddings['queen'].reshape(300, 1)\n",
    "((A * B )/(normalize(A) * normalize(B))).sum()\n",
    "#scipy.spatial.distance.cdist(A, B, 'cosine').reshape(-1).shape"
   ]
  },
  {
   "cell_type": "code",
   "execution_count": 36,
   "metadata": {},
   "outputs": [
    {
     "data": {
      "text/plain": [
       "6.338605"
      ]
     },
     "execution_count": 36,
     "metadata": {},
     "output_type": "execute_result"
    }
   ],
   "source": [
    "A = wv_embeddings['vacuum'].reshape(300, 1)\n",
    "B = wv_embeddings['pear'].reshape(300, 1)\n",
    "((A * B )/(normalize(A) * normalize(B))).sum()\n",
    "#scipy.spatial.distance.cdist(A, B, 'cosine').reshape(-1).shape"
   ]
  },
  {
   "cell_type": "code",
   "execution_count": 61,
   "metadata": {},
   "outputs": [
    {
     "data": {
      "text/plain": [
       "(75, 4, 1)"
      ]
     },
     "execution_count": 61,
     "metadata": {},
     "output_type": "execute_result"
    }
   ],
   "source": [
    " wv_embeddings['king'].reshape(-1, 1).shape"
   ]
  },
  {
   "cell_type": "code",
   "execution_count": 52,
   "metadata": {},
   "outputs": [
    {
     "data": {
      "text/plain": [
       "[('Warsaw', 0.7734050750732422),\n",
       " ('Prague', 0.6898577213287354),\n",
       " ('Budapest', 0.6714177131652832),\n",
       " ('Krakow', 0.6266399621963501),\n",
       " ('Poznań', 0.5991486310958862),\n",
       " ('Kraków', 0.5872530341148376),\n",
       " ('Bratislava', 0.5808364152908325),\n",
       " ('Moscow', 0.5766444206237793),\n",
       " ('Polish', 0.5763624310493469),\n",
       " ('Lodz', 0.5718404650688171)]"
      ]
     },
     "execution_count": 52,
     "metadata": {},
     "output_type": "execute_result"
    }
   ],
   "source": [
    "wv_embeddings.most_similar(positive=['Paris', 'Poland'], negative=['France'])"
   ]
  },
  {
   "cell_type": "code",
   "execution_count": 56,
   "metadata": {},
   "outputs": [
    {
     "data": {
      "text/plain": [
       "[('cat', 0.6209923028945923),\n",
       " ('golden_retriever', 0.6195635795593262),\n",
       " ('beagle', 0.6140106320381165),\n",
       " ('dogs', 0.6088037490844727),\n",
       " ('Sheltie', 0.5970920920372009),\n",
       " ('puppy', 0.589611291885376),\n",
       " ('miniature_dachshund', 0.588065505027771),\n",
       " ('pooch', 0.5869625210762024),\n",
       " ('miniature_poodle', 0.5859934091567993),\n",
       " ('calico_cat', 0.579086422920227)]"
      ]
     },
     "execution_count": 56,
     "metadata": {},
     "output_type": "execute_result"
    }
   ],
   "source": [
    "wv_embeddings.most_similar(positive=['dog', 'Siamese_cat'], negative=['rottweiler'])"
   ]
  },
  {
   "cell_type": "code",
   "execution_count": 40,
   "metadata": {},
   "outputs": [
    {
     "data": {
      "text/plain": [
       "'cereal'"
      ]
     },
     "execution_count": 40,
     "metadata": {},
     "output_type": "execute_result"
    }
   ],
   "source": [
    "wv_embeddings.doesnt_match(['breakfast', 'cereal', 'dinner', 'lunch'])"
   ]
  },
  {
   "cell_type": "code",
   "execution_count": 43,
   "metadata": {},
   "outputs": [
    {
     "data": {
      "text/plain": [
       "'lunch'"
      ]
     },
     "execution_count": 43,
     "metadata": {},
     "output_type": "execute_result"
    }
   ],
   "source": [
    "wv_embeddings.doesnt_match(['cat', 'dog', 'tiger', 'lunch'])"
   ]
  },
  {
   "cell_type": "markdown",
   "metadata": {},
   "source": [
    "### How to work with Google's word2vec embeddings?\n",
    "\n",
    "Once you have loaded the representations, make sure you can access them. First, you can check if the loaded embeddings contain a word:\n",
    "    \n",
    "    'word' in wv_embeddings\n",
    "    \n",
    "Second, to get the corresponding embedding you can use the square brackets:\n",
    "\n",
    "    wv_embeddings['word']\n",
    " \n",
    "### Checking that the embeddings are correct \n",
    " \n",
    "To prevent any errors during the first stage, we can check that the loaded embeddings are correct. You can call the function *check_embeddings*, implemented below, which runs 3 tests:\n",
    "1. Find the most similar word for provided \"positive\" and \"negative\" words.\n",
    "2. Find which word from the given list doesn’t go with the others.\n",
    "3. Find the most similar word for the provided one.\n",
    "\n",
    "In the right case the function will return the string *These embeddings look good*. Othervise, you need to validate the previous steps."
   ]
  },
  {
   "cell_type": "code",
   "execution_count": 6,
   "metadata": {},
   "outputs": [],
   "source": [
    "def check_embeddings(embeddings):\n",
    "    error_text = \"Something wrong with your embeddings ('%s test isn't correct).\"\n",
    "    most_similar = embeddings.most_similar(positive=['woman', 'king'], negative=['man'])\n",
    "    if len(most_similar) < 1 or most_similar[0][0] != 'queen':\n",
    "        return error_text % \"Most similar\"\n",
    "\n",
    "    doesnt_match = embeddings.doesnt_match(['breakfast', 'cereal', 'dinner', 'lunch'])\n",
    "    if doesnt_match != 'cereal':\n",
    "        return error_text % \"Doesn't match\"\n",
    "    \n",
    "    most_similar_to_given = embeddings.most_similar_to_given('music', ['water', 'sound', 'backpack', 'mouse'])\n",
    "    if most_similar_to_given != 'sound':\n",
    "        return error_text % \"Most similar to given\"\n",
    "    \n",
    "    return \"These embeddings look good.\""
   ]
  },
  {
   "cell_type": "code",
   "execution_count": 7,
   "metadata": {},
   "outputs": [
    {
     "name": "stdout",
     "output_type": "stream",
     "text": [
      "These embeddings look good.\n"
     ]
    },
    {
     "name": "stderr",
     "output_type": "stream",
     "text": [
      "/Users/cab/anaconda3/envs/py3.6/lib/python3.6/site-packages/gensim/models/keyedvectors.py:730: FutureWarning: arrays to stack must be passed as a \"sequence\" type such as list or tuple. Support for non-sequence iterables such as generators is deprecated as of NumPy 1.16 and will raise an error in the future.\n",
      "  vectors = vstack(self.word_vec(word, use_norm=True) for word in used_words).astype(REAL)\n"
     ]
    }
   ],
   "source": [
    "print(check_embeddings(wv_embeddings))"
   ]
  },
  {
   "cell_type": "code",
   "execution_count": null,
   "metadata": {},
   "outputs": [],
   "source": []
  },
  {
   "cell_type": "markdown",
   "metadata": {},
   "source": [
    "## From word to text embeddings\n",
    "\n",
    "**Task 1 (Question2Vec).** Usually, we have word-based embeddings, but for the task we need to create a representation for the whole question. It could be done in different ways. In our case we will use a **mean** of all word vectors in the question. Now you need to implement the function *question_to_vec*, which calculates the question representation described above. This function should work with the input text as is without any preprocessing.\n",
    "\n",
    "Note that there could be words without the corresponding embeddings. In this case, you can just skip these words and don't take them into account during calculating the result. If the question doesn't contain any known word with embedding, the function should return a zero vector."
   ]
  },
  {
   "cell_type": "code",
   "execution_count": 8,
   "metadata": {},
   "outputs": [],
   "source": [
    "import numpy as np"
   ]
  },
  {
   "cell_type": "code",
   "execution_count": 53,
   "metadata": {},
   "outputs": [],
   "source": [
    "def question_to_vec(question, embeddings, dim=300):\n",
    "    \"\"\"\n",
    "        question: a string\n",
    "        embeddings: dict where the key is a word and a value is its' embedding\n",
    "        dim: size of the representation\n",
    "\n",
    "        result: vector representation for the question\n",
    "    \"\"\"\n",
    "    vectors = [embeddings[w] for w in question.split(' ') if w in embeddings]\n",
    "    if len(vectors) > 0:\n",
    "        return np.mean(np.vstack(vectors), axis=0)\n",
    "    else:\n",
    "        return np.zeros((dim))"
   ]
  },
  {
   "cell_type": "markdown",
   "metadata": {},
   "source": [
    "To check the basic correctness of your implementation, run the function *question_to_vec_tests*."
   ]
  },
  {
   "cell_type": "code",
   "execution_count": 10,
   "metadata": {},
   "outputs": [],
   "source": [
    "def question_to_vec_tests():\n",
    "    if (np.zeros(300) != question_to_vec('', wv_embeddings)).any():\n",
    "        return \"You need to return zero vector for empty question.\"\n",
    "    if (np.zeros(300) != question_to_vec('thereisnosuchword', wv_embeddings)).any():\n",
    "        return \"You need to return zero vector for the question, which consists only unknown words.\"\n",
    "    if (wv_embeddings['word'] != question_to_vec('word', wv_embeddings)).any():\n",
    "        return \"You need to check the corectness of your function.\"\n",
    "    if ((wv_embeddings['I'] + wv_embeddings['am']) / 2 != question_to_vec('I am', wv_embeddings)).any():\n",
    "        return \"Your function should calculate a mean of word vectors.\"\n",
    "    if (wv_embeddings['word'] != question_to_vec('thereisnosuchword word', wv_embeddings)).any():\n",
    "        return \"You should not consider words which embeddings are unknown.\"\n",
    "    return \"Basic tests are passed.\""
   ]
  },
  {
   "cell_type": "code",
   "execution_count": 54,
   "metadata": {},
   "outputs": [
    {
     "name": "stdout",
     "output_type": "stream",
     "text": [
      "Basic tests are passed.\n"
     ]
    }
   ],
   "source": [
    "print(question_to_vec_tests())"
   ]
  },
  {
   "cell_type": "markdown",
   "metadata": {},
   "source": [
    "You can submit embeddings for the questions from the file *test_embeddings.tsv* to earn the points. In this task you don't need to transform the text of a question somehow."
   ]
  },
  {
   "cell_type": "code",
   "execution_count": 12,
   "metadata": {},
   "outputs": [],
   "source": [
    "import nltk\n",
    "nltk.download('stopwords')\n",
    "from util import array_to_string"
   ]
  },
  {
   "cell_type": "code",
   "execution_count": 13,
   "metadata": {},
   "outputs": [
    {
     "name": "stdout",
     "output_type": "stream",
     "text": [
      "Current answer for task Question2Vec is: 0.01929389126598835\n",
      "-0.02872721292078495\n",
      "0.0460561104118824\n",
      "0.0852593332529068\n",
      "0.0243055559694767\n",
      "-0...\n"
     ]
    }
   ],
   "source": [
    "question2vec_result = []\n",
    "for question in open('data/test_embeddings.tsv'):\n",
    "    question = question.strip()\n",
    "    answer = question_to_vec(question, wv_embeddings)\n",
    "    question2vec_result = np.append(question2vec_result, answer)\n",
    "\n",
    "grader.submit_tag('Question2Vec', array_to_string(question2vec_result))"
   ]
  },
  {
   "cell_type": "markdown",
   "metadata": {},
   "source": [
    "Now we have a method to create a representation of any sentence and we are ready for the first evaluation. So, let's check how well our solution (Google's vectors + *question_to_vec*) will work.\n",
    "\n",
    "## Evaluation of text similarity\n",
    "\n",
    "We can imagine that if we use good embeddings, the cosine similarity between the duplicate sentences should be less than for the random ones. Overall, for each pair of duplicate sentences we can generate *R* random negative examples and find out the position of the correct duplicate.  \n",
    "\n",
    "For example, we have the question *\"Exceptions What really happens\"* and we are sure that another question *\"How does the catch keyword determine the type of exception that was thrown\"* is a duplicate. But our model doesn't know it and tries to find out the best option also among questions like *\"How Can I Make These Links Rotate in PHP\"*, *\"NSLog array description not memory address\"* and *\"PECL_HTTP not recognised php ubuntu\"*. The goal of the model is to rank all these 4 questions (1 *positive* and *R* = 3 *negative*) in the way that the correct one is in the first place.\n",
    "\n",
    "However, it is unnatural to count on that the best candidate will be always in the first place. So let us consider the place of the best candidate in the sorted list of candidates and formulate a metric based on it. We can fix some *K* — a reasonalble number of top-ranked elements and *N* — a number of queries (size of the sample).\n",
    "\n",
    "### Hits@K\n",
    "\n",
    "The first simple metric will be a number of correct hits for some *K*:\n",
    "$$ \\text{Hits@K} = \\frac{1}{N}\\sum_{i=1}^N \\, [dup_i \\in topK(q_i)]$$\n",
    "\n",
    "where $q_i$ is the i-th query, $dup_i$ is its duplicate, $topK(q_i)$ is the top K elements of the ranked sentences provided by our model and the operation $[dup_i \\in topK(q_i)]$ equals 1 if the condition is true and 0 otherwise (more details about this operation could be found [here](https://en.wikipedia.org/wiki/Iverson_bracket)).\n",
    "\n",
    "\n",
    "### DCG@K\n",
    "The second one is a simplified [DCG metric](https://en.wikipedia.org/wiki/Discounted_cumulative_gain):\n",
    "\n",
    "$$ \\text{DCG@K} = \\frac{1}{N} \\sum_{i=1}^N\\frac{1}{\\log_2(1+rank_{dup_i})}\\cdot[rank_{dup_i} \\le K] $$\n",
    "\n",
    "where $rank_{dup_i}$ is a position of the duplicate in the sorted list of the nearest sentences for the query $q_i$. According to this metric, the model gets a higher reward for a higher position of the correct answer. If the answer does not appear in topK at all, the reward is zero. "
   ]
  },
  {
   "cell_type": "markdown",
   "metadata": {},
   "source": [
    "### Evaluation examples\n",
    "\n",
    "Let's calculate the described metrics for the toy example introduced above. In this case $N$ = 1 and the correct candidate for $q_1$ is *\"How does the catch keyword determine the type of exception that was thrown\"*. Consider the following ranking of the candidates:\n",
    "1. *\"How Can I Make These Links Rotate in PHP\"*\n",
    "2. *\"How does the catch keyword determine the type of exception that was thrown\"*\n",
    "3. *\"NSLog array description not memory address\"*\n",
    "4. *\"PECL_HTTP not recognised php ubuntu\"*\n",
    "\n",
    "Using the ranking above, calculate *Hits@K* metric for *K = 1, 2, 4*: \n",
    " \n",
    "- [K = 1] $\\text{Hits@1} = \\frac{1}{1}\\sum_{i=1}^1 \\, [dup_i \\in top1(q_i)] = [dup_1 \\in top1(q_1)] = 0$ because the correct answer doesn't appear in the *top1* list.\n",
    "- [K = 2] $\\text{Hits@2} = \\frac{1}{1}\\sum_{i=1}^1 \\, [dup_i \\in top2(q_i)] = [dup_1 \\in top2(q_1)] = 1$ because $rank_{dup_1} = 2$.\n",
    "- [K = 4] $\\text{Hits@4} = \\frac{1}{1}\\sum_{i=1}^1 \\, [dup_i \\in top4(q_i)] = [dup_1 \\in top4(q_1)] = 1$\n",
    "\n",
    "Using the ranking above, calculate *DCG@K* metric for *K = 1, 2, 4*:\n",
    "\n",
    "- [K = 1] $\\text{DCG@1} = \\frac{1}{1} \\sum_{i=1}^1\\frac{1}{\\log_2(1+rank_{dup_i})}\\cdot[rank_{dup_i} \\le 1] = \\frac{1}{\\log_2(1+rank_{dup_i})}\\cdot[rank_{dup_i} \\le 1] = 0$ because the correct answer doesn't appear in the top1 list.\n",
    "- [K = 2] $\\text{DCG@2} = \\frac{1}{1} \\sum_{i=1}^1\\frac{1}{\\log_2(1+rank_{dup_i})}\\cdot[rank_{dup_i} \\le 2] = \\frac{1}{\\log_2{3}}$, because $rank_{dup_1} = 2$.\n",
    "- [K = 4] $\\text{DCG@4} = \\frac{1}{1} \\sum_{i=1}^1\\frac{1}{\\log_2(1+rank_{dup_i})}\\cdot[rank_{dup_i} \\le 4] = \\frac{1}{\\log_2{3}}$.\n"
   ]
  },
  {
   "cell_type": "markdown",
   "metadata": {},
   "source": [
    "**Tasks 2 and 3 (HitsCount and DCGScore).** Implement the functions *hits_count* and *dcg_score* as described above. Each function has two arguments: *dup_ranks* and *k*. *dup_ranks* is a list which contains *values of ranks* of duplicates. For example, *dup_ranks* is *[2]* for the example provided above."
   ]
  },
  {
   "cell_type": "code",
   "execution_count": 14,
   "metadata": {},
   "outputs": [],
   "source": [
    "def hits_count(dup_ranks, k):\n",
    "    \"\"\"\n",
    "        dup_ranks: list of duplicates' ranks; one rank per question; \n",
    "                   length is a number of questions which we are looking for duplicates; \n",
    "                   rank is a number from 1 to len(candidates of the question); \n",
    "                   e.g. [2, 3] means that the first duplicate has the rank 2, the second one — 3.\n",
    "        k: number of top-ranked elements (k in Hits@k metric)\n",
    "\n",
    "        result: return Hits@k value for current ranking\n",
    "    \"\"\"\n",
    "    ######################################\n",
    "    ######### YOUR CODE HERE #############\n",
    "    ######################################\n",
    "    return np.sum([1 if r <= k else 0 for r in dup_ranks]) / len(dup_ranks)"
   ]
  },
  {
   "cell_type": "markdown",
   "metadata": {},
   "source": [
    "Test your code on the tiny examples:"
   ]
  },
  {
   "cell_type": "code",
   "execution_count": 15,
   "metadata": {},
   "outputs": [],
   "source": [
    "def test_hits():\n",
    "    # *Evaluation example*\n",
    "    # answers — dup_i\n",
    "    answers = [\"How does the catch keyword determine the type of exception that was thrown\"]\n",
    "    \n",
    "    # candidates_ranking — the ranked sentences provided by our model\n",
    "    candidates_ranking = [[\"How Can I Make These Links Rotate in PHP\", \n",
    "                           \"How does the catch keyword determine the type of exception that was thrown\",\n",
    "                           \"NSLog array description not memory address\",\n",
    "                           \"PECL_HTTP not recognised php ubuntu\"]]\n",
    "    # dup_ranks — position of the dup_i in the list of ranks +1\n",
    "    dup_ranks = [candidates_ranking[i].index(answers[i]) + 1 for i in range(len(answers))]\n",
    "    \n",
    "    # correct_answers — the expected values of the result for each k from 1 to 4\n",
    "    correct_answers = [0, 1, 1, 1]\n",
    "    for k, correct in enumerate(correct_answers, 1):\n",
    "        if not np.isclose(hits_count(dup_ranks, k), correct):\n",
    "            return \"Check the function.\"\n",
    "    \n",
    "    # Other tests\n",
    "    answers = [\"How does the catch keyword determine the type of exception that was thrown\", \n",
    "               \"Convert Google results object (pure js) to Python object\"]\n",
    "    \n",
    "    # The first test: both duplicates on the first position in ranked list\n",
    "    candidates_ranking = [[\"How does the catch keyword determine the type of exception that was thrown\",\n",
    "                           \"How Can I Make These Links Rotate in PHP\"], \n",
    "                          [\"Convert Google results object (pure js) to Python object\",\n",
    "                           \"WPF- How to update the changes in list item of a list\"]]\n",
    "    dup_ranks = [candidates_ranking[i].index(answers[i]) + 1 for i in range(len(answers))]\n",
    "    correct_answers = [1, 1]\n",
    "    for k, correct in enumerate(correct_answers, 1):\n",
    "        if not np.isclose(hits_count(dup_ranks, k), correct):\n",
    "            return \"Check the function (test: both duplicates on the first position in ranked list).\"\n",
    "        \n",
    "    # The second test: one candidate on the first position, another — on the second\n",
    "    candidates_ranking = [[\"How Can I Make These Links Rotate in PHP\", \n",
    "                           \"How does the catch keyword determine the type of exception that was thrown\"], \n",
    "                          [\"Convert Google results object (pure js) to Python object\",\n",
    "                           \"WPF- How to update the changes in list item of a list\"]]\n",
    "    dup_ranks = [candidates_ranking[i].index(answers[i]) + 1 for i in range(len(answers))]\n",
    "    correct_answers = [0.5, 1]\n",
    "    for k, correct in enumerate(correct_answers, 1):\n",
    "        if not np.isclose(hits_count(dup_ranks, k), correct):\n",
    "            return \"Check the function (test: one candidate on the first position, another — on the second).\"\n",
    "\n",
    "    # The third test: both candidates on the second position\n",
    "    candidates_ranking = [[\"How Can I Make These Links Rotate in PHP\", \n",
    "                           \"How does the catch keyword determine the type of exception that was thrown\"], \n",
    "                          [\"WPF- How to update the changes in list item of a list\",\n",
    "                           \"Convert Google results object (pure js) to Python object\"]]\n",
    "    dup_ranks = [candidates_ranking[i].index(answers[i]) + 1 for i in range(len(answers))]\n",
    "    correct_answers = [0, 1]\n",
    "    for k, correct in enumerate(correct_answers, 1):\n",
    "        if not np.isclose(hits_count(dup_ranks, k), correct):\n",
    "            return \"Check the function (test: both candidates on the second position).\"\n",
    "\n",
    "    return \"Basic test are passed.\""
   ]
  },
  {
   "cell_type": "code",
   "execution_count": 16,
   "metadata": {},
   "outputs": [
    {
     "name": "stdout",
     "output_type": "stream",
     "text": [
      "Basic test are passed.\n"
     ]
    }
   ],
   "source": [
    "print(test_hits())"
   ]
  },
  {
   "cell_type": "code",
   "execution_count": 17,
   "metadata": {},
   "outputs": [],
   "source": [
    "def dcg_score(dup_ranks, k):\n",
    "    \"\"\"\n",
    "        dup_ranks: list of duplicates' ranks; one rank per question; \n",
    "                   length is a number of questions which we are looking for duplicates; \n",
    "                   rank is a number from 1 to len(candidates of the question); \n",
    "                   e.g. [2, 3] means that the first duplicate has the rank 2, the second one — 3.\n",
    "        k: number of top-ranked elements (k in DCG@k metric)\n",
    "\n",
    "        result: return DCG@k value for current ranking\n",
    "    \"\"\"\n",
    "    ######################################\n",
    "    ######### YOUR CODE HERE #############\n",
    "    ######################################\n",
    "    return np.sum([ (1 if r <= k else 0)/np.log2(r+1) for r in dup_ranks]) / len(dup_ranks)"
   ]
  },
  {
   "cell_type": "code",
   "execution_count": 18,
   "metadata": {},
   "outputs": [],
   "source": [
    "def test_dcg():\n",
    "    # *Evaluation example*\n",
    "    # answers — dup_i\n",
    "    answers = [\"How does the catch keyword determine the type of exception that was thrown\"]\n",
    "    \n",
    "    # candidates_ranking — the ranked sentences provided by our model\n",
    "    candidates_ranking = [[\"How Can I Make These Links Rotate in PHP\", \n",
    "                           \"How does the catch keyword determine the type of exception that was thrown\",\n",
    "                           \"NSLog array description not memory address\",\n",
    "                           \"PECL_HTTP not recognised php ubuntu\"]]\n",
    "    # dup_ranks — position of the dup_i in the list of ranks +1\n",
    "    dup_ranks = [candidates_ranking[i].index(answers[i]) + 1 for i in range(len(answers))]\n",
    "    \n",
    "    # correct_answers — the expected values of the result for each k from 1 to 4\n",
    "    correct_answers = [0, 1 / (np.log2(3)), 1 / (np.log2(3)), 1 / (np.log2(3))]\n",
    "    for k, correct in enumerate(correct_answers, 1):\n",
    "        if not np.isclose(dcg_score(dup_ranks, k), correct):\n",
    "            return \"Check the function.\"\n",
    "    \n",
    "    # Other tests\n",
    "    answers = [\"How does the catch keyword determine the type of exception that was thrown\", \n",
    "               \"Convert Google results object (pure js) to Python object\"]\n",
    "\n",
    "    # The first test: both duplicates on the first position in ranked list\n",
    "    candidates_ranking = [[\"How does the catch keyword determine the type of exception that was thrown\",\n",
    "                           \"How Can I Make These Links Rotate in PHP\"], \n",
    "                          [\"Convert Google results object (pure js) to Python object\",\n",
    "                           \"WPF- How to update the changes in list item of a list\"]]\n",
    "    dup_ranks = [candidates_ranking[i].index(answers[i]) + 1 for i in range(len(answers))]\n",
    "    correct_answers = [1, 1]\n",
    "    for k, correct in enumerate(correct_answers, 1):\n",
    "        if not np.isclose(dcg_score(dup_ranks, k), correct):\n",
    "            return \"Check the function (test: both duplicates on the first position in ranked list).\"\n",
    "        \n",
    "    # The second test: one candidate on the first position, another — on the second\n",
    "    candidates_ranking = [[\"How Can I Make These Links Rotate in PHP\", \n",
    "                           \"How does the catch keyword determine the type of exception that was thrown\"], \n",
    "                          [\"Convert Google results object (pure js) to Python object\",\n",
    "                           \"WPF- How to update the changes in list item of a list\"]]\n",
    "    dup_ranks = [candidates_ranking[i].index(answers[i]) + 1 for i in range(len(answers))]\n",
    "    correct_answers = [0.5, (1 + (1 / (np.log2(3)))) / 2]\n",
    "    for k, correct in enumerate(correct_answers, 1):\n",
    "        if not np.isclose(dcg_score(dup_ranks, k), correct):\n",
    "            return \"Check the function (test: one candidate on the first position, another — on the second).\"\n",
    "        \n",
    "    # The third test: both candidates on the second position\n",
    "    candidates_ranking = [[\"How Can I Make These Links Rotate in PHP\",\n",
    "                           \"How does the catch keyword determine the type of exception that was thrown\"], \n",
    "                          [\"WPF- How to update the changes in list item of a list\",\n",
    "                           \"Convert Google results object (pure js) to Python object\"]]\n",
    "    dup_ranks = [candidates_ranking[i].index(answers[i]) + 1 for i in range(len(answers))]\n",
    "    correct_answers = [0, 1 / (np.log2(3))]\n",
    "    for k, correct in enumerate(correct_answers, 1):\n",
    "        if not np.isclose(dcg_score(dup_ranks, k), correct):\n",
    "            return \"Check the function (test: both candidates on the second position).\"\n",
    "\n",
    "    return \"Basic test are passed.\""
   ]
  },
  {
   "cell_type": "code",
   "execution_count": 19,
   "metadata": {},
   "outputs": [
    {
     "name": "stdout",
     "output_type": "stream",
     "text": [
      "Basic test are passed.\n"
     ]
    }
   ],
   "source": [
    "print(test_dcg())"
   ]
  },
  {
   "cell_type": "markdown",
   "metadata": {},
   "source": [
    "Submit results of the functions *hits_count* and *dcg_score* for the following examples to earn the points."
   ]
  },
  {
   "cell_type": "code",
   "execution_count": 20,
   "metadata": {},
   "outputs": [],
   "source": [
    "test_examples = [\n",
    "    [1],\n",
    "    [1, 2],\n",
    "    [2, 1],\n",
    "    [1, 2, 3],\n",
    "    [1, 2, 3, 4, 5, 6, 7, 8, 9, 10],\n",
    "    [9, 5, 4, 2, 8, 10, 7, 6, 1, 3],\n",
    "    [4, 3, 5, 1, 9, 10, 7, 8, 2, 6],\n",
    "    [5, 1, 7, 6, 2, 3, 8, 9, 10, 4],\n",
    "    [6, 3, 1, 4, 7, 2, 9, 8, 10, 5],\n",
    "    [10, 9, 8, 7, 6, 5, 4, 3, 2, 1],\n",
    "]"
   ]
  },
  {
   "cell_type": "code",
   "execution_count": 21,
   "metadata": {},
   "outputs": [
    {
     "name": "stdout",
     "output_type": "stream",
     "text": [
      "Current answer for task HitsCount is: 1.0\n",
      "0.5\n",
      "1.0\n",
      "0.5\n",
      "1.0\n",
      "0.3333333333333333\n",
      "0.6666666666666666\n",
      "1.0\n",
      "0.1\n",
      "0.2\n",
      "0.3\n",
      "0.4\n",
      "0.5\n",
      "0.6\n",
      "0.7\n",
      "0.8\n",
      "0.9\n",
      "1....\n"
     ]
    }
   ],
   "source": [
    "hits_results = []\n",
    "for example in test_examples:\n",
    "    for k in range(len(example)):\n",
    "        hits_results.append(hits_count(example, k + 1))\n",
    "grader.submit_tag('HitsCount', array_to_string(hits_results))"
   ]
  },
  {
   "cell_type": "code",
   "execution_count": 22,
   "metadata": {},
   "outputs": [
    {
     "name": "stdout",
     "output_type": "stream",
     "text": [
      "Current answer for task DCGScore is: 1.0\n",
      "0.5\n",
      "0.8154648767857288\n",
      "0.5\n",
      "0.8154648767857288\n",
      "0.3333333333333333\n",
      "0.5436432511904858\n",
      "0.7103099178...\n"
     ]
    }
   ],
   "source": [
    "dcg_results = []\n",
    "for example in test_examples:\n",
    "    for k in range(len(example)):\n",
    "        dcg_results.append(dcg_score(example, k + 1))\n",
    "grader.submit_tag('DCGScore', array_to_string(dcg_results))"
   ]
  },
  {
   "cell_type": "markdown",
   "metadata": {},
   "source": [
    "##  First solution: pre-trained embeddings"
   ]
  },
  {
   "cell_type": "markdown",
   "metadata": {},
   "source": [
    "We will work with predefined train, validation and test corpora. All the files are tab-separated, but have a different format:\n",
    " - *train* corpus contains similar sentences at the same row.\n",
    " - *validation* corpus contains the following columns: *question*, *similar question*, *negative example 1*, *negative example 2*, ... \n",
    " - *test* corpus contains the following columns: *question*, *example 1*, *example 2*, ...\n",
    "\n",
    "Validation corpus will be used for the intermediate validation of models. The test data will be necessary for submitting the quality of your model in the system."
   ]
  },
  {
   "cell_type": "markdown",
   "metadata": {},
   "source": [
    "Now you should read *validation* corpus, located at `data/validation.tsv`. You will use it later to evaluate current solution."
   ]
  },
  {
   "cell_type": "code",
   "execution_count": 23,
   "metadata": {},
   "outputs": [],
   "source": [
    "def read_corpus(filename):\n",
    "    data = []\n",
    "    for line in open(filename, encoding='utf-8'):\n",
    "        data.append(line.strip().split('\\t'))\n",
    "    return data"
   ]
  },
  {
   "cell_type": "code",
   "execution_count": 24,
   "metadata": {},
   "outputs": [],
   "source": [
    "validation = read_corpus('data/validation.tsv')"
   ]
  },
  {
   "cell_type": "code",
   "execution_count": 25,
   "metadata": {},
   "outputs": [],
   "source": [
    "from sklearn.metrics.pairwise import cosine_similarity"
   ]
  },
  {
   "cell_type": "markdown",
   "metadata": {},
   "source": [
    "We will use cosine distance to rank candidate questions which you need to implement in the function *rank_candidates*. The function should return a sorted list of pairs *(initial position in candidates list, candidate)*. Index of some pair corresponds to its rank (the first is the best). For example, if the list of candidates was *[a, b, c]* and the most similar is *c*, then *a* and *b*, the function should return a list *[(2, c), (0, a), (1, b)]*.\n",
    "\n",
    "Pay attention, if you use the function *cosine_similarity* from *sklearn.metrics.pairwise* to calculate similarity because it works in a different way: most similar objects has greatest similarity. It's preferable to use a vectorized version of *cosine_similarity* function. Try to compute similarity at once and not use list comprehension. It should speed up your computations significantly."
   ]
  },
  {
   "cell_type": "code",
   "execution_count": 26,
   "metadata": {},
   "outputs": [],
   "source": [
    "def rank_candidates(question, candidates, embeddings, dim=300):\n",
    "    \"\"\"\n",
    "        question: a string\n",
    "        candidates: a list of strings (candidates) which we want to rank\n",
    "        embeddings: some embeddings\n",
    "        dim: dimension of the current embeddings\n",
    "        \n",
    "        result: a list of pairs (initial position in the list, question)\n",
    "    \"\"\"\n",
    "    q_vector = question_to_vec(question, embeddings, dim)\n",
    "    cand_vectors = [question_to_vec(c, embeddings, dim) for c in candidates]\n",
    "    \n",
    "    \n",
    "    ######################################\n",
    "    ######### YOUR CODE HERE #############\n",
    "    ######################################\n",
    "    q_vector = question_to_vec(question, embeddings, dim)\n",
    "\n",
    "    cand_vectors = np.vstack([question_to_vec(c, embeddings, dim) for c in candidates])\n",
    "\n",
    "    canditate_similarities = cosine_similarity(q_vector.reshape(1, -1), cand_vectors)[0]\n",
    "    sorted_candidates = sorted([(i, candidates[i], s) for (i, s) in enumerate(canditate_similarities)], key=lambda k: k[2], reverse=True)\n",
    "    return [(i,q) for (i, q, s) in sorted_candidates]"
   ]
  },
  {
   "cell_type": "markdown",
   "metadata": {},
   "source": [
    "Test your code on the tiny examples:"
   ]
  },
  {
   "cell_type": "code",
   "execution_count": 27,
   "metadata": {},
   "outputs": [],
   "source": [
    "def test_rank_candidates():\n",
    "    questions = ['converting string to list', 'Sending array via Ajax fails']\n",
    "    candidates = [['Convert Google results object (pure js) to Python object', \n",
    "                   'C# create cookie from string and send it',\n",
    "                   'How to use jQuery AJAX for an outside domain?'], \n",
    "                  ['Getting all list items of an unordered list in PHP', \n",
    "                   'WPF- How to update the changes in list item of a list', \n",
    "                   'select2 not displaying search results']]\n",
    "    results = [[(1, 'C# create cookie from string and send it'), \n",
    "                (0, 'Convert Google results object (pure js) to Python object'), \n",
    "                (2, 'How to use jQuery AJAX for an outside domain?')],\n",
    "               [(0, 'Getting all list items of an unordered list in PHP'), \n",
    "                (2, 'select2 not displaying search results'), \n",
    "                (1, 'WPF- How to update the changes in list item of a list')]]\n",
    "    for question, q_candidates, result in zip(questions, candidates, results):\n",
    "        ranks = rank_candidates(question, q_candidates, wv_embeddings, 300)\n",
    "        if not np.all(ranks == result):\n",
    "            return \"Check the function.\"\n",
    "    return \"Basic tests are passed.\""
   ]
  },
  {
   "cell_type": "code",
   "execution_count": 28,
   "metadata": {},
   "outputs": [
    {
     "name": "stdout",
     "output_type": "stream",
     "text": [
      "Basic tests are passed.\n"
     ]
    }
   ],
   "source": [
    "print(test_rank_candidates())"
   ]
  },
  {
   "cell_type": "markdown",
   "metadata": {},
   "source": [
    "Now we can test the quality of the current approach. Run the next two cells to get the results. Pay attention that calculation of similarity between vectors takes time and this calculation is computed approximately in 10 minutes."
   ]
  },
  {
   "cell_type": "code",
   "execution_count": 208,
   "metadata": {},
   "outputs": [],
   "source": [
    "wv_ranking = []\n",
    "for line in validation:\n",
    "    q, *ex = line\n",
    "    ranks = rank_candidates(q, ex, wv_embeddings)\n",
    "    wv_ranking.append([r[0] for r in ranks].index(0) + 1)"
   ]
  },
  {
   "cell_type": "code",
   "execution_count": 209,
   "metadata": {},
   "outputs": [
    {
     "name": "stdout",
     "output_type": "stream",
     "text": [
      "DCG@   1: 0.212 | Hits@   1: 0.212\n",
      "DCG@   5: 0.267 | Hits@   5: 0.315\n",
      "DCG@  10: 0.282 | Hits@  10: 0.363\n",
      "DCG@ 100: 0.320 | Hits@ 100: 0.552\n",
      "DCG@ 500: 0.353 | Hits@ 500: 0.811\n",
      "DCG@1000: 0.373 | Hits@1000: 1.000\n"
     ]
    }
   ],
   "source": [
    "for k in [1, 5, 10, 100, 500, 1000]:\n",
    "    print(\"DCG@%4d: %.3f | Hits@%4d: %.3f\" % (k, dcg_score(wv_ranking, k), k, hits_count(wv_ranking, k)))"
   ]
  },
  {
   "cell_type": "markdown",
   "metadata": {},
   "source": [
    "If you did all the steps correctly, you should be frustrated by the received results. Let's try to understand why the quality is so low. First of all, when you work with some data it is necessary to have an idea how the data looks like. Print several questions from the data:"
   ]
  },
  {
   "cell_type": "code",
   "execution_count": 29,
   "metadata": {},
   "outputs": [
    {
     "name": "stdout",
     "output_type": "stream",
     "text": [
      "How to print a binary heap tree without recursion? How do you best convert a recursive function to an iterative one? How can i use ng-model with directive in angular js flash: drawing and erasing\n",
      "How to start PhoneStateListener programmatically? PhoneStateListener and service Java cast object[] to model WCF and What does this mean?\n",
      "jQuery: Show a div2 when mousenter over div1 is over when hover on div1 depenting on if it is on div2 or not it should act differently How to run selenium in google app engine/cloud? Python Comparing two lists of strings for similarities\n"
     ]
    }
   ],
   "source": [
    "for line in validation[:3]:\n",
    "    q, *examples = line\n",
    "    print(q, *examples[:3])"
   ]
  },
  {
   "cell_type": "markdown",
   "metadata": {},
   "source": [
    "As you can see, we deal with the raw data. It means that we have many punctuation marks, special characters and unlowercased letters. In our case, it could lead to the situation where we can't find some embeddings, e.g. for the word \"grid?\". \n",
    "\n",
    "To solve this problem you should use the functions *text_prepare* from the previous assignments to prepare the data."
   ]
  },
  {
   "cell_type": "code",
   "execution_count": 30,
   "metadata": {},
   "outputs": [],
   "source": [
    "from util import text_prepare"
   ]
  },
  {
   "cell_type": "markdown",
   "metadata": {},
   "source": [
    "Now transform all the questions from the validation set:"
   ]
  },
  {
   "cell_type": "code",
   "execution_count": 48,
   "metadata": {},
   "outputs": [],
   "source": [
    "prepared_validation = [list(map(text_prepare, line)) for line in validation]"
   ]
  },
  {
   "cell_type": "code",
   "execution_count": 49,
   "metadata": {},
   "outputs": [
    {
     "name": "stdout",
     "output_type": "stream",
     "text": [
      "print binary heap tree without recursion best convert recursive function iterative one use ngmodel directive angular js flash drawing erasing\n",
      "start phonestatelistener programmatically phonestatelistener service java cast object model wcf mean\n",
      "jquery show div2 mousenter div1 hover div1 depenting div2 act differently run selenium google app engine cloud python comparing two lists strings similarities\n"
     ]
    }
   ],
   "source": [
    "for line in prepared_validation[:3]:\n",
    "    q, *examples = line\n",
    "    print(q, *examples[:3])"
   ]
  },
  {
   "cell_type": "markdown",
   "metadata": {},
   "source": [
    "Let's evaluate the approach again after the preparation:"
   ]
  },
  {
   "cell_type": "code",
   "execution_count": 60,
   "metadata": {},
   "outputs": [],
   "source": [
    "wv_prepared_ranking = []\n",
    "for line in prepared_validation:\n",
    "    q, *ex = line\n",
    "    ranks = rank_candidates(q, ex, wv_embeddings)\n",
    "    wv_prepared_ranking.append([r[0] for r in ranks].index(0) + 1)"
   ]
  },
  {
   "cell_type": "code",
   "execution_count": 61,
   "metadata": {},
   "outputs": [
    {
     "name": "stdout",
     "output_type": "stream",
     "text": [
      "DCG@   1: 0.310 | Hits@   1: 0.310\n",
      "DCG@   5: 0.380 | Hits@   5: 0.443\n",
      "DCG@  10: 0.397 | Hits@  10: 0.494\n",
      "DCG@ 100: 0.430 | Hits@ 100: 0.661\n",
      "DCG@ 500: 0.453 | Hits@ 500: 0.835\n",
      "DCG@1000: 0.470 | Hits@1000: 1.000\n"
     ]
    }
   ],
   "source": [
    "for k in [1, 5, 10, 100, 500, 1000]:\n",
    "    print(\"DCG@%4d: %.3f | Hits@%4d: %.3f\" % (k, dcg_score(wv_prepared_ranking, k), \n",
    "                                              k, hits_count(wv_prepared_ranking, k)))"
   ]
  },
  {
   "cell_type": "markdown",
   "metadata": {},
   "source": [
    "Now, prepare also train and test data, because you will need it in the future:"
   ]
  },
  {
   "cell_type": "code",
   "execution_count": 230,
   "metadata": {},
   "outputs": [],
   "source": [
    "def prepare_file(in_, out_):\n",
    "    out = open(out_, 'w')\n",
    "    for line in open(in_, encoding='utf8'):\n",
    "        line = line.strip().split('\\t')\n",
    "        new_line = [text_prepare(q) for q in line]\n",
    "        print(*new_line, sep='\\t', file=out)\n",
    "    out.close()"
   ]
  },
  {
   "cell_type": "code",
   "execution_count": 231,
   "metadata": {},
   "outputs": [],
   "source": [
    "prepare_file ('data/test.tsv', 'data/test_prepared.tsv')\n",
    "prepare_file ('data/train.tsv', 'data/train_prepared.tsv')"
   ]
  },
  {
   "cell_type": "markdown",
   "metadata": {},
   "source": [
    "**Task 4 (W2VTokenizedRanks).** For each question from prepared *test.tsv* submit the ranks of the candidates to earn the points. The calculations should take about 3-5 minutes. Pay attention that the function *rank_candidates* returns a ranking, while in this case you should find a position in this ranking. Ranks should start with 1."
   ]
  },
  {
   "cell_type": "code",
   "execution_count": 33,
   "metadata": {},
   "outputs": [],
   "source": [
    "from util import matrix_to_string"
   ]
  },
  {
   "cell_type": "code",
   "execution_count": 34,
   "metadata": {},
   "outputs": [
    {
     "name": "stdout",
     "output_type": "stream",
     "text": [
      "Current answer for task W2VTokenizedRanks is: 95\t94\t7\t9\t64\t36\t31\t93\t23\t100\t99\t20\t60\t6\t97\t48\t70\t37\t41\t96\t29\t56\t2\t65\t68\t44\t27\t25\t57\t62\t11\t87\t50\t66\t7...\n"
     ]
    }
   ],
   "source": [
    "w2v_ranks_results = []\n",
    "prepared_test_data = 'data/test_prepared.tsv'\n",
    "for line in open(prepared_test_data):\n",
    "    q, *ex = line.strip().split('\\t')\n",
    "    ranks = rank_candidates(q, ex, wv_embeddings, 300)\n",
    "    ranked_candidates = [r[0] for r in ranks]\n",
    "    w2v_ranks_results.append([ranked_candidates.index(i) + 1 for i in range(len(ranked_candidates))])\n",
    "    \n",
    "grader.submit_tag('W2VTokenizedRanks', matrix_to_string(w2v_ranks_results))"
   ]
  },
  {
   "cell_type": "markdown",
   "metadata": {},
   "source": [
    "## Advanced solution: StarSpace embeddings\n",
    "\n",
    "Now you are ready to train your own word embeddings! In particular, you need to train embeddings specially for our task of duplicates detection. Unfortunately, StarSpace cannot be run on Windows and we recommend to use provided\n",
    "[docker container](https://github.com/hse-aml/natural-language-processing/blob/master/Docker-tutorial.md) or other alternatives. Don't delete results of this task because you will need it in the final project.\n",
    "\n",
    "### How it works and what's the main difference with word2vec?\n",
    "The main point in this section is that StarSpace can be trained specifically for some tasks. In contrast to word2vec model, which tries to train similar embeddings for words in similar contexts, StarSpace uses embeddings for the whole sentence (just as a sum of embeddings of words and phrases). Despite the fact that in both cases we get word embeddings as a result of the training, StarSpace embeddings are trained using some supervised data, e.g. a set of similar sentence pairs, and thus they can better suit the task.\n",
    "\n",
    "In our case, StarSpace should use two types of sentence pairs for training: \"positive\" and \"negative\". \"Positive\" examples are extracted from the train sample (duplicates, high similarity) and the \"negative\" examples are generated randomly (low similarity assumed). \n",
    "\n",
    "### How to choose the best params for the model?\n",
    "Normally, you would start with some default choice and then run extensive experiments to compare different strategies. However, we have some recommendations ready for you to save your time:\n",
    "- Be careful with choosing the suitable training mode. In this task we want to explore texts similarity which corresponds to *trainMode = 3*.\n",
    "- Use adagrad optimization (parameter *adagrad = true*).\n",
    "- Set the length of phrase equal to 1 (parameter *ngrams*), because we need embeddings only for words.\n",
    "- Don't use a large number of *epochs* (we think that 5 should be enough).\n",
    "- Try dimension *dim* equal to 100.\n",
    "- To compare embeddings usually *cosine* *similarity* is used.\n",
    "- Set *minCount* greater than 1 (for example, 2) if you don't want to get embeddings for extremely rare words.\n",
    "- Parameter *verbose = true* could show you the progress of the training process.\n",
    "- Set parameter *fileFormat* equals *labelDoc*.\n",
    "- Parameter *negSearchLimit* is responsible for a number of negative examples which is used during the training. We think that 10 will be enought for this task.\n",
    "- To increase a speed of training we recommend to set *learning rate* to 0.05."
   ]
  },
  {
   "cell_type": "markdown",
   "metadata": {},
   "source": [
    "Train StarSpace embeddings for unigrams on the train dataset. You don't need to change the format of the input data. Just don't forget to use prepared version of the training data. \n",
    "\n",
    "If you follow the instruction, the training process will take about 1 hour. The size of the embeddings' dictionary should be approximately 100 000 (number of lines in the result file). If you got significantly more than this number, try to check all the instructions above."
   ]
  },
  {
   "cell_type": "code",
   "execution_count": 239,
   "metadata": {},
   "outputs": [
    {
     "name": "stdout",
     "output_type": "stream",
     "text": [
      "Arguments: \n",
      "lr: 0.05\n",
      "dim: 100\n",
      "epoch: 5\n",
      "maxTrainTime: 8640000\n",
      "validationPatience: 10\n",
      "saveEveryEpoch: 0\n",
      "loss: hinge\n",
      "margin: 0.05\n",
      "similarity: cosine\n",
      "maxNegSamples: 10\n",
      "negSearchLimit: 10\n",
      "batchSize: 5\n",
      "thread: 10\n",
      "minCount: 3\n",
      "minCountLabel: 1\n",
      "label: __label__\n",
      "label: __label__\n",
      "ngrams: 1\n",
      "bucket: 2000000\n",
      "adagrad: 1\n",
      "trainMode: 3\n",
      "fileFormat: labelDoc\n",
      "normalizeText: 0\n",
      "dropoutLHS: 0\n",
      "dropoutRHS: 0\n",
      "useWeight: 0\n",
      "weightSep: :\n",
      "Start to initialize starspace model.\n",
      "Build dict from input file : data/train_prepared.tsv\n",
      "Read 12M words\n",
      "Number of words in dictionary:  65505\n",
      "Number of labels in dictionary: 0\n",
      "Loading data from file : data/train_prepared.tsv\n",
      "Total number of examples loaded : 999606\n",
      "Initialized model weights. Model size :\n",
      "matrix : 65505 100\n",
      "Training epoch 0: 0.05 0.01\n",
      "Epoch: 100.0%  lr: 0.040010  loss: 0.043787  eta: 0h10m  tot: 0h2m38s  (20.0%)4s  (0.6%)12m  tot: 0h0m5s  (0.7%)4.5%  lr: 0.049560  loss: 0.139418  eta: 0h13m  tot: 0h0m7s  (0.9%)0h0m10s  (1.2%)m  tot: 0h0m10s  (1.3%)m  tot: 0h0m12s  (1.5%)m  tot: 0h0m13s  (1.7%)h0m18s  (2.3%)0h0m20s  (2.5%)0h0m21s  (2.7%)%  lr: 0.048499  loss: 0.084576  eta: 0h12m  tot: 0h0m26s  (3.2%)18.5%  lr: 0.048338  loss: 0.080823  eta: 0h13m  tot: 0h0m30s  (3.7%)20.3%  lr: 0.048068  loss: 0.078411  eta: 0h12m  tot: 0h0m32s  (4.1%)20.5%  lr: 0.048038  loss: 0.078131  eta: 0h12m  tot: 0h0m33s  (4.1%)22.1%  lr: 0.047938  loss: 0.075596  eta: 0h12m  tot: 0h0m35s  (4.4%)m  tot: 0h0m36s  (4.5%)23.2%  lr: 0.047818  loss: 0.074107  eta: 0h12m  tot: 0h0m37s  (4.6%)m  tot: 0h0m37s  (4.7%)23.9%  lr: 0.047748  loss: 0.073612  eta: 0h12m  tot: 0h0m38s  (4.8%)38s  (4.8%)0h12m  tot: 0h0m39s  (4.9%)  tot: 0h0m43s  (5.4%)  tot: 0h0m45s  (5.6%)28.6%  lr: 0.047237  loss: 0.069069  eta: 0h12m  tot: 0h0m45s  (5.7%)  tot: 0h0m49s  (6.2%)11m  tot: 0h0m54s  (7.1%)0h0m57s  (7.5%)h1m0s  (7.8%)0h1m10s  (9.0%)49.7%  lr: 0.045135  loss: 0.056389  eta: 0h11m  tot: 0h1m17s  (9.9%)m19s  (10.2%)m  tot: 0h1m23s  (10.6%)  tot: 0h1m23s  (10.7%)54.4%  lr: 0.044795  loss: 0.054615  eta: 0h11m  tot: 0h1m24s  (10.9%)0h11m  tot: 0h1m27s  (11.3%)58.8%  lr: 0.044374  loss: 0.053132  eta: 0h11m  tot: 0h1m31s  (11.8%)m  tot: 0h1m31s  (11.8%)61.9%  lr: 0.044094  loss: 0.052249  eta: 0h11m  tot: 0h1m37s  (12.4%)0h1m41s  (12.8%)64.5%  lr: 0.043734  loss: 0.051448  eta: 0h11m  tot: 0h1m43s  (12.9%)1m43s  (12.9%)m  tot: 0h1m44s  (13.0%)72.4%  lr: 0.042993  loss: 0.049223  eta: 0h11m  tot: 0h1m56s  (14.5%)  tot: 0h1m57s  (14.5%)  tot: 0h2m1s  (15.0%)15.2%)0h2m2s  (15.3%)76.8%  lr: 0.042573  loss: 0.048334  eta: 0h11m  tot: 0h2m3s  (15.4%)11m  tot: 0h2m7s  (15.9%)  loss: 0.046738  eta: 0h11m  tot: 0h2m14s  (16.9%)0h2m14s  (16.9%)11m  tot: 0h2m15s  (17.0%)m  tot: 0h2m16s  (17.1%)0.041572  loss: 0.046131  eta: 0h10m  tot: 0h2m18s  (17.4%)0.046109  eta: 0h10m  tot: 0h2m18s  (17.5%)90.6%  lr: 0.041131  loss: 0.045489  eta: 0h10m  tot: 0h2m23s  (18.1%)10m  tot: 0h2m26s  (18.5%)96.3%  lr: 0.040491  loss: 0.044407  eta: 0h10m  tot: 0h2m31s  (19.3%)0.040351  loss: 0.044270  eta: 0h10m  tot: 0h2m33s  (19.4%)98.6%  lr: 0.040190  loss: 0.044032  eta: 0h10m  tot: 0h2m35s  (19.7%)\n",
      " ---+++                Epoch    0 Train error : 0.04415410 +++--- ☃\n",
      "Training epoch 1: 0.04 0.01\n",
      "Epoch: 100.0%  lr: 0.030010  loss: 0.013919  eta: 0h9m  tot: 0h5m44s  (40.0%) tot: 0h2m39s  (20.0%)1.0%  lr: 0.039900  loss: 0.012635  eta: 0h10m  tot: 0h2m40s  (20.2%)0h2m44s  (20.6%)2m46s  (20.9%)0h2m46s  (21.0%)0h2m49s  (21.3%)10m  tot: 0h2m49s  (21.4%)  eta: 0h10m  tot: 0h2m52s  (21.8%)h2m58s  (22.5%)m  tot: 0h3m5s  (23.4%)  tot: 0h3m8s  (23.8%)  lr: 0.038068  loss: 0.013505  eta: 0h9m  tot: 0h3m12s  (24.4%)h3m12s  (24.4%)0h3m13s  (24.5%)m  tot: 0h3m16s  (24.8%)m  tot: 0h3m18s  (25.1%)h3m19s  (25.3%)0.037538  loss: 0.013760  eta: 0h9m  tot: 0h3m22s  (25.5%)m  tot: 0h3m46s  (27.3%)3m47s  (27.4%)0h3m50s  (27.6%)0h3m51s  (27.6%)%  lr: 0.036567  loss: 0.013661  eta: 0h11m  tot: 0h3m54s  (27.8%)  tot: 0h4m5s  (28.8%)0.013725  eta: 0h11m  tot: 0h4m7s  (29.1%)11m  tot: 0h4m8s  (29.2%)46.5%  lr: 0.035766  loss: 0.013693  eta: 0h11m  tot: 0h4m8s  (29.3%)m  tot: 0h4m11s  (29.7%)m  tot: 0h4m15s  (30.2%)0h4m16s  (30.3%)17s  (30.5%)54.5%  lr: 0.035065  loss: 0.013869  eta: 0h10m  tot: 0h4m21s  (30.9%)h4m24s  (31.3%)58.5%  lr: 0.034735  loss: 0.014033  eta: 0h10m  tot: 0h4m28s  (31.7%)59.4%  lr: 0.034615  loss: 0.014061  eta: 0h10m  tot: 0h4m29s  (31.9%)0h10m  tot: 0h4m39s  (33.2%)0h4m41s  (33.4%)0h10m  tot: 0h4m42s  (33.5%)  lr: 0.033544  loss: 0.014103  eta: 0h10m  tot: 0h4m43s  (33.7%)  tot: 0h4m45s  (34.0%)4m46s  (34.1%)0h4m46s  (34.1%)71.4%  lr: 0.033183  loss: 0.014061  eta: 0h9m  tot: 0h4m48s  (34.3%)4m49s  (34.4%)m  tot: 0h4m51s  (34.7%)m  tot: 0h4m53s  (35.0%)m  tot: 0h4m53s  (35.1%)9m  tot: 0h4m56s  (35.3%)78.1%  lr: 0.032433  loss: 0.014157  eta: 0h9m  tot: 0h4m59s  (35.6%)79.6%  lr: 0.032262  loss: 0.014143  eta: 0h9m  tot: 0h5m2s  (35.9%)  tot: 0h5m3s  (36.0%)h5m10s  (36.8%)  eta: 0h9m  tot: 0h5m14s  (37.1%)9m  tot: 0h5m17s  (37.5%)96.4%  lr: 0.030421  loss: 0.013956  eta: 0h9m  tot: 0h5m39s  (39.3%)0h5m40s  (39.5%)  tot: 0h5m43s  (39.9%)\n",
      " ---+++                Epoch    1 Train error : 0.01413596 +++--- ☃\n",
      "Training epoch 2: 0.03 0.01\n",
      "Epoch: 100.0%  lr: 0.020000  loss: 0.010194  eta: 0h5m  tot: 0h8m18s  (60.0%)4%  lr: 0.029930  loss: 0.007802  eta: 0h5m  tot: 0h5m45s  (40.1%)h6m  tot: 0h5m46s  (40.2%)  tot: 0h5m47s  (40.3%)h5m47s  (40.4%)3.0%  lr: 0.029710  loss: 0.011067  eta: 0h7m  tot: 0h5m49s  (40.6%)5.4%  lr: 0.029540  loss: 0.010053  eta: 0h7m  tot: 0h5m52s  (41.1%)0h5m53s  (41.2%)6.1%  lr: 0.029369  loss: 0.009873  eta: 0h7m  tot: 0h5m53s  (41.2%)7.9%  lr: 0.029149  loss: 0.010276  eta: 0h7m  tot: 0h5m56s  (41.6%)41.9%)%  lr: 0.028739  loss: 0.010293  eta: 0h7m  tot: 0h6m2s  (42.3%)0h6m5s  (42.7%)43.2%)0h6m10s  (43.3%) (43.4%)17.3%  lr: 0.028248  loss: 0.010417  eta: 0h7m  tot: 0h6m12s  (43.5%)  eta: 0h7m  tot: 0h6m13s  (43.6%)18.9%  lr: 0.028108  loss: 0.010298  eta: 0h7m  tot: 0h6m15s  (43.8%)22.4%  lr: 0.027728  loss: 0.010338  eta: 0h7m  tot: 0h6m21s  (44.5%)22.7%  lr: 0.027718  loss: 0.010357  eta: 0h7m  tot: 0h6m21s  (44.5%)23.0%  lr: 0.027688  loss: 0.010350  eta: 0h7m  tot: 0h6m22s  (44.6%)  tot: 0h6m27s  (45.1%)h7m  tot: 0h6m27s  (45.2%)0h6m27s  (45.2%)  tot: 0h6m28s  (45.4%)m  tot: 0h6m36s  (46.5%)  tot: 0h6m37s  (46.6%)  lr: 0.026336  loss: 0.010066  eta: 0h7m  tot: 0h6m42s  (47.1%)6m43s  (47.3%)36.8%  lr: 0.026226  loss: 0.010051  eta: 0h7m  tot: 0h6m44s  (47.4%)m  tot: 0h6m44s  (47.4%)38.4%  lr: 0.026016  loss: 0.010119  eta: 0h7m  tot: 0h6m46s  (47.7%)38.7%  lr: 0.025976  loss: 0.010121  eta: 0h7m  tot: 0h6m47s  (47.7%)40.6%  lr: 0.025846  loss: 0.010117  eta: 0h7m  tot: 0h6m51s  (48.1%)h6m57s  (49.0%)6m58s  (49.1%)58.2%  lr: 0.024104  loss: 0.010104  eta: 0h6m  tot: 0h7m21s  (51.6%)h6m  tot: 0h7m22s  (51.8%)60.6%  lr: 0.023904  loss: 0.010114  eta: 0h6m  tot: 0h7m25s  (52.1%)0h6m  tot: 0h7m27s  (52.5%)0h7m27s  (52.5%)m31s  (53.1%)66.6%  lr: 0.023343  loss: 0.010083  eta: 0h6m  tot: 0h7m33s  (53.3%)6m  tot: 0h7m34s  (53.5%)m  tot: 0h7m34s  (53.6%)69.4%  lr: 0.023043  loss: 0.010160  eta: 0h6m  tot: 0h7m36s  (53.9%)7m40s  (54.4%)73.3%  lr: 0.022613  loss: 0.010182  eta: 0h6m  tot: 0h7m41s  (54.7%)h7m43s  (54.8%)%  lr: 0.022523  loss: 0.010212  eta: 0h5m  tot: 0h7m43s  (54.9%)  tot: 0h7m47s  (55.2%)0h7m53s  (55.8%)80.2%  lr: 0.021902  loss: 0.010188  eta: 0h5m  tot: 0h7m54s  (56.0%)0h5m  tot: 0h7m57s  (56.5%)m  tot: 0h8m0s  (56.9%)m  tot: 0h8m1s  (57.1%)85.7%  lr: 0.021472  loss: 0.010220  eta: 0h5m  tot: 0h8m1s  (57.1%)h5m  tot: 0h8m5s  (57.7%)  tot: 0h8m6s  (57.9%)58.3%)0h8m9s  (58.4%)0h8m12s  (59.0%)h8m13s  (59.0%)  tot: 0h8m16s  (59.5%)h8m16s  (59.5%)8m16s  (59.6%)h8m18s  (59.9%)\n",
      " ---+++                Epoch    2 Train error : 0.01014682 +++--- ☃\n",
      "Training epoch 3: 0.02 0.01\n",
      "Epoch: 100.0%  lr: 0.010000  loss: 0.008311  eta: 0h2m  tot: 0h10m32s  (80.0%)m  tot: 0h8m22s  (60.7%)4.4%  lr: 0.019570  loss: 0.008987  eta: 0h3m  tot: 0h8m23s  (60.9%)m  tot: 0h8m25s  (61.2%)m  tot: 0h8m27s  (61.4%)0h8m29s  (61.8%)m  tot: 0h8m31s  (62.2%)  tot: 0h8m33s  (62.4%)m  tot: 0h8m34s  (62.6%)m  tot: 0h8m35s  (62.7%)h8m40s  (63.5%)17.8%  lr: 0.018058  loss: 0.008233  eta: 0h3m  tot: 0h8m40s  (63.6%)3m  tot: 0h8m40s  (63.6%)m42s  (63.9%)20.3%  lr: 0.017808  loss: 0.008211  eta: 0h3m  tot: 0h8m43s  (64.1%)3m  tot: 0h8m44s  (64.2%)53s  (65.2%)0h8m56s  (65.6%)3m  tot: 0h8m58s  (65.9%)29.8%  lr: 0.016827  loss: 0.008307  eta: 0h3m  tot: 0h8m58s  (66.0%)0h3m  tot: 0h8m58s  (66.0%)h8m59s  (66.2%)31.8%  lr: 0.016617  loss: 0.008240  eta: 0h3m  tot: 0h9m0s  (66.4%)32.1%  lr: 0.016587  loss: 0.008240  eta: 0h3m  tot: 0h9m1s  (66.4%)33.5%  lr: 0.016426  loss: 0.008226  eta: 0h3m  tot: 0h9m2s  (66.7%)0h9m8s  (67.6%)0h3m  tot: 0h9m13s  (68.4%)43.4%  lr: 0.015576  loss: 0.008203  eta: 0h3m  tot: 0h9m15s  (68.7%)h3m  tot: 0h9m18s  (69.1%)h9m19s  (69.2%)  tot: 0h9m21s  (69.4%)3m  tot: 0h9m22s  (69.5%)0.008226  eta: 0h3m  tot: 0h9m22s  (69.6%)48.3%  lr: 0.015155  loss: 0.008214  eta: 0h3m  tot: 0h9m23s  (69.7%)36s  (71.3%)m  tot: 0h9m37s  (71.5%)3m  tot: 0h9m40s  (72.0%)3m  tot: 0h9m43s  (72.4%)  tot: 0h9m44s  (72.6%)  tot: 0h9m48s  (73.1%)m  tot: 0h9m50s  (73.5%)67.9%  lr: 0.013173  loss: 0.008312  eta: 0h2m  tot: 0h9m51s  (73.6%)68.8%  lr: 0.013103  loss: 0.008333  eta: 0h2m  tot: 0h9m52s  (73.8%)m  tot: 0h9m53s  (73.8%)0h9m55s  (74.2%)71.1%  lr: 0.012863  loss: 0.008323  eta: 0h2m  tot: 0h9m55s  (74.2%)0h9m56s  (74.3%)m  tot: 0h9m56s  (74.3%)m  tot: 0h9m58s  (74.6%)2m  tot: 0h10m1s  (75.2%)10m3s  (75.5%)  tot: 0h10m4s  (75.7%)79.3%  lr: 0.011982  loss: 0.008285  eta: 0h2m  tot: 0h10m5s  (75.9%)86.3%  lr: 0.011271  loss: 0.008315  eta: 0h2m  tot: 0h10m15s  (77.3%)10m16s  (77.4%)10m16s  (77.4%)87.0%  lr: 0.011211  loss: 0.008323  eta: 0h2m  tot: 0h10m16s  (77.4%)m  tot: 0h10m17s  (77.6%)0h2m  tot: 0h10m21s  (78.3%)h2m  tot: 0h10m24s  (78.8%)h2m  tot: 0h10m25s  (78.9%)m  tot: 0h10m25s  (79.0%)m26s  (79.1%)m  tot: 0h10m29s  (79.5%)h10m29s  (79.5%)\n",
      " ---+++                Epoch    3 Train error : 0.00834034 +++--- ☃\n",
      "Training epoch 4: 0.01 0.01\n",
      "Epoch: 100.0%  lr: 0.000020  loss: 0.007342  eta: <1min   tot: 0h13m0s  (100.0%)  lr: 0.009760  loss: 0.008260  eta: 0h1m  tot: 0h10m34s  (80.4%)m  tot: 0h10m34s  (80.4%)0.009369  loss: 0.007621  eta: 0h1m  tot: 0h10m39s  (81.2%)7.9%  lr: 0.009129  loss: 0.007579  eta: 0h1m  tot: 0h10m41s  (81.6%)h1m  tot: 0h10m41s  (81.6%)43s  (81.9%)h1m  tot: 0h10m43s  (82.0%)h10m45s  (82.4%)h1m  tot: 0h10m46s  (82.5%)0h10m48s  (82.8%)1m  tot: 0h10m52s  (83.4%)17.4%  lr: 0.008138  loss: 0.007439  eta: 0h1m  tot: 0h10m53s  (83.5%)24.9%  lr: 0.007357  loss: 0.007310  eta: 0h1m  tot: 0h11m3s  (85.0%)1m  tot: 0h11m4s  (85.1%)26.9%  lr: 0.007217  loss: 0.007249  eta: 0h1m  tot: 0h11m6s  (85.4%)27.5%  lr: 0.007097  loss: 0.007307  eta: 0h1m  tot: 0h11m7s  (85.5%)27.6%  lr: 0.007077  loss: 0.007313  eta: 0h1m  tot: 0h11m7s  (85.5%)s  (85.8%)h11m9s  (85.8%)0h11m11s  (86.0%)  loss: 0.007343  eta: 0h1m  tot: 0h11m15s  (86.6%)0h1m  tot: 0h11m17s  (86.9%)h1m  tot: 0h11m18s  (87.1%)37.4%  lr: 0.005986  loss: 0.007311  eta: 0h1m  tot: 0h11m21s  (87.5%)37.8%  lr: 0.005956  loss: 0.007318  eta: 0h1m  tot: 0h11m22s  (87.6%)38.7%  lr: 0.005866  loss: 0.007313  eta: 0h1m  tot: 0h11m23s  (87.7%)0.005526  loss: 0.007345  eta: 0h1m  tot: 0h11m28s  (88.4%)44.0%  lr: 0.005335  loss: 0.007392  eta: 0h1m  tot: 0h11m31s  (88.8%)38s  (89.5%)  tot: 0h11m38s  (89.6%)48.7%  lr: 0.004915  loss: 0.007376  eta: 0h1m  tot: 0h11m39s  (89.7%)h11m40s  (89.8%)53.7%  lr: 0.004344  loss: 0.007372  eta: 0h1m  tot: 0h11m47s  (90.7%)53.8%  lr: 0.004324  loss: 0.007368  eta: 0h1m  tot: 0h11m48s  (90.8%)  eta: 0h1m  tot: 0h11m49s  (91.0%)55.6%  lr: 0.004064  loss: 0.007382  eta: 0h1m  tot: 0h11m51s  (91.1%)m  tot: 0h11m54s  (91.5%)%  lr: 0.003784  loss: 0.007388  eta: <1min   tot: 0h11m56s  (91.8%)62.4%  lr: 0.003383  loss: 0.007374  eta: <1min   tot: 0h12m2s  (92.5%)%)h12m4s  (92.6%)  tot: 0h12m4s  (92.7%)12m7s  (93.0%) (93.4%)17s  (94.2%)94.9%)%  lr: 0.001762  loss: 0.007383  eta: <1min   tot: 0h12m34s  (96.2%)36s  (96.5%)84.5%  lr: 0.001371  loss: 0.007365  eta: <1min   tot: 0h12m39s  (96.9%)12m40s  (97.0%)m42s  (97.3%)m47s  (98.0%)s  (98.1%)93.2%  lr: 0.000711  loss: 0.007354  eta: <1min   tot: 0h12m51s  (98.6%)m56s  (99.2%)12m57s  (99.3%)0h12m57s  (99.4%)  eta: <1min   tot: 0h12m57s  (99.4%)98.7%  lr: 0.000120  loss: 0.007365  eta: <1min   tot: 0h12m59s  (99.7%)\n",
      " ---+++                Epoch    4 Train error : 0.00736211 +++--- ☃\n",
      "Saving model to file : starSpaceEmbeddings.tsv\n",
      "Saving model in tsv format : starSpaceEmbeddings.tsv.tsv\n"
     ]
    }
   ],
   "source": [
    "######### TRAINING HAPPENING HERE #############\n",
    "! ./../StarSpace/starspace train -trainFile data/train_prepared.tsv -model starSpaceEmbeddings.tsv -trainMode 3  -adagrad true -ngrams 1 -epoch 5 -dim 100 -similarity cosine -minCount 3 -verbose true -fileFormat labelDoc -negSearchLimit 10 -lr 0.05"
   ]
  },
  {
   "cell_type": "markdown",
   "metadata": {
    "collapsed": true
   },
   "source": [
    "And now we can compare the new embeddings with the previous ones. You can find trained word vectors in the file *[model_file_name].tsv*. Upload the embeddings from StarSpace into a dict. "
   ]
  },
  {
   "cell_type": "code",
   "execution_count": 46,
   "metadata": {},
   "outputs": [],
   "source": [
    "starspace_embeddings = {}\n",
    "for line in open('starSpaceEmbeddings.tsv.tsv', 'r'):\n",
    "    word, *embs = line.strip().split('\\t')\n",
    "    starspace_embeddings[word] = np.array(list(map(float, embs)))"
   ]
  },
  {
   "cell_type": "code",
   "execution_count": 55,
   "metadata": {},
   "outputs": [],
   "source": [
    "ss_prepared_ranking = []\n",
    "for line in prepared_validation:\n",
    "    q, *ex = line\n",
    "    ranks = rank_candidates(q, ex, starspace_embeddings, 100)\n",
    "    ss_prepared_ranking.append([r[0] for r in ranks].index(0) + 1)"
   ]
  },
  {
   "cell_type": "code",
   "execution_count": 56,
   "metadata": {},
   "outputs": [
    {
     "name": "stdout",
     "output_type": "stream",
     "text": [
      "DCG@   1: 0.519 | Hits@   1: 0.519\n",
      "DCG@   5: 0.615 | Hits@   5: 0.698\n",
      "DCG@  10: 0.634 | Hits@  10: 0.756\n",
      "DCG@ 100: 0.665 | Hits@ 100: 0.906\n",
      "DCG@ 500: 0.675 | Hits@ 500: 0.982\n",
      "DCG@1000: 0.677 | Hits@1000: 1.000\n"
     ]
    }
   ],
   "source": [
    "for k in [1, 5, 10, 100, 500, 1000]:\n",
    "    print(\"DCG@%4d: %.3f | Hits@%4d: %.3f\" % (k, dcg_score(ss_prepared_ranking, k), \n",
    "                                               k, hits_count(ss_prepared_ranking, k)))"
   ]
  },
  {
   "cell_type": "markdown",
   "metadata": {},
   "source": [
    "Due to training for the particular task with the supervised data, you should expect to obtain a higher quality than for the previous approach. In additiion, despite the fact that StarSpace's trained vectors have a smaller dimension than word2vec's, it provides better results in this task."
   ]
  },
  {
   "cell_type": "markdown",
   "metadata": {},
   "source": [
    "**Task 5 (StarSpaceRanks).** For each question from prepared *test.tsv* submit the ranks of the candidates for trained representation."
   ]
  },
  {
   "cell_type": "code",
   "execution_count": 57,
   "metadata": {},
   "outputs": [
    {
     "name": "stdout",
     "output_type": "stream",
     "text": [
      "Current answer for task StarSpaceRanks is: 99\t84\t34\t15\t14\t48\t91\t42\t60\t43\t20\t17\t12\t3\t100\t86\t26\t22\t61\t82\t89\t70\t8\t67\t94\t51\t64\t52\t95\t6\t75\t49\t83\t37\t...\n"
     ]
    }
   ],
   "source": [
    "starspace_ranks_results = []\n",
    "prepared_test_data = 'data/test_prepared.tsv'\n",
    "for line in open(prepared_test_data):\n",
    "    q, *ex = line.strip().split('\\t')\n",
    "    ranks = rank_candidates(q, ex, starspace_embeddings, 100)\n",
    "    ranked_candidates = [r[0] for r in ranks]\n",
    "    starspace_ranks_results.append([ranked_candidates.index(i) + 1 for i in range(len(ranked_candidates))])\n",
    "    \n",
    "grader.submit_tag('StarSpaceRanks', matrix_to_string(starspace_ranks_results))"
   ]
  },
  {
   "cell_type": "markdown",
   "metadata": {},
   "source": [
    "Please, **don't remove** the file with these embeddings because you will need them in the final project."
   ]
  },
  {
   "cell_type": "markdown",
   "metadata": {},
   "source": [
    "### Authorization & Submission\n",
    "To submit assignment parts to Cousera platform, please, enter your e-mail and token into variables below. You can generate token on this programming assignment page. <b>Note:</b> Token expires 30 minutes after generation."
   ]
  },
  {
   "cell_type": "code",
   "execution_count": 58,
   "metadata": {},
   "outputs": [
    {
     "name": "stdout",
     "output_type": "stream",
     "text": [
      "You want to submit these parts:\n",
      "Task Question2Vec: 0.01929389126598835\n",
      "-0.02872721292078495\n",
      "0.0460561104118824\n",
      "0.0852593332529068\n",
      "0.0243055559694767\n",
      "-0...\n",
      "Task HitsCount: 1.0\n",
      "0.5\n",
      "1.0\n",
      "0.5\n",
      "1.0\n",
      "0.3333333333333333\n",
      "0.6666666666666666\n",
      "1.0\n",
      "0.1\n",
      "0.2\n",
      "0.3\n",
      "0.4\n",
      "0.5\n",
      "0.6\n",
      "0.7\n",
      "0.8\n",
      "0.9\n",
      "1....\n",
      "Task DCGScore: 1.0\n",
      "0.5\n",
      "0.8154648767857288\n",
      "0.5\n",
      "0.8154648767857288\n",
      "0.3333333333333333\n",
      "0.5436432511904858\n",
      "0.7103099178...\n",
      "Task W2VTokenizedRanks: 95\t94\t7\t9\t64\t36\t31\t93\t23\t100\t99\t20\t60\t6\t97\t48\t70\t37\t41\t96\t29\t56\t2\t65\t68\t44\t27\t25\t57\t62\t11\t87\t50\t66\t7...\n",
      "Task StarSpaceRanks: 99\t84\t34\t15\t14\t48\t91\t42\t60\t43\t20\t17\t12\t3\t100\t86\t26\t22\t61\t82\t89\t70\t8\t67\t94\t51\t64\t52\t95\t6\t75\t49\t83\t37\t...\n"
     ]
    }
   ],
   "source": [
    "STUDENT_EMAIL = 'grzegorz.caban@gmail.com'\n",
    "STUDENT_TOKEN = 'VugDDV5OrUYVNqAS'\n",
    "grader.status()"
   ]
  },
  {
   "cell_type": "markdown",
   "metadata": {},
   "source": [
    "If you want to submit these answers, run cell below"
   ]
  },
  {
   "cell_type": "code",
   "execution_count": 59,
   "metadata": {},
   "outputs": [
    {
     "name": "stdout",
     "output_type": "stream",
     "text": [
      "Submitted to Coursera platform. See results on assignment page!\n"
     ]
    }
   ],
   "source": [
    "grader.submit(STUDENT_EMAIL, STUDENT_TOKEN)"
   ]
  }
 ],
 "metadata": {
  "kernelspec": {
   "display_name": "Python 3",
   "language": "python",
   "name": "python3"
  },
  "language_info": {
   "codemirror_mode": {
    "name": "ipython",
    "version": 3
   },
   "file_extension": ".py",
   "mimetype": "text/x-python",
   "name": "python",
   "nbconvert_exporter": "python",
   "pygments_lexer": "ipython3",
   "version": "3.6.7"
  }
 },
 "nbformat": 4,
 "nbformat_minor": 2
}
