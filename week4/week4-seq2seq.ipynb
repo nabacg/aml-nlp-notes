{
 "cells": [
  {
   "cell_type": "markdown",
   "metadata": {},
   "source": [
    "# Learn to calculate with seq2seq model\n",
    "\n",
    "In this assignment, you will learn how to use neural networks to solve sequence-to-sequence prediction tasks. Seq2Seq models are very popular these days because they achieve great results in Machine Translation, Text Summarization, Conversational Modeling and more.\n",
    "\n",
    "Using sequence-to-sequence modeling you are going to build a calculator for evaluating arithmetic expressions, by taking an equation as an input to the neural network and producing an answer as it's output.\n",
    "\n",
    "The resulting solution for this problem will be based on state-of-the-art approaches for sequence-to-sequence learning and you should be able to easily adapt it to solve other tasks. However, if you want to train your own machine translation system or intellectual chat bot, it would be useful to have access to compute resources like GPU, and be patient, because training of such systems is usually time consuming. \n",
    "\n",
    "### Libraries\n",
    "\n",
    "For this task you will need the following libraries:\n",
    " - [TensorFlow](https://www.tensorflow.org) — an open-source software library for Machine Intelligence.\n",
    " - [scikit-learn](http://scikit-learn.org/stable/index.html) — a tool for data mining and data analysis.\n",
    " \n",
    "If you have never worked with TensorFlow, you will probably want to read some tutorials during your work on this assignment, e.g. [Neural Machine Translation](https://www.tensorflow.org/tutorials/seq2seq) tutorial deals with very similar task and can explain some concepts to you. "
   ]
  },
  {
   "cell_type": "markdown",
   "metadata": {},
   "source": [
    "### Data\n",
    "\n",
    "One benefit of this task is that you don't need to download any data — you will generate it on your own! We will use two operators (addition and subtraction) and work with positive integer numbers in some range. Here are examples of correct inputs and outputs:\n",
    "\n",
    "    Input: '1+2'\n",
    "    Output: '3'\n",
    "    \n",
    "    Input: '0-99'\n",
    "    Output: '-99'\n",
    "\n",
    "*Note, that there are no spaces between operators and operands.*\n",
    "\n",
    "\n",
    "Now you need to implement the function *generate_equations*, which will be used to generate the data."
   ]
  },
  {
   "cell_type": "code",
   "execution_count": 2,
   "metadata": {},
   "outputs": [],
   "source": [
    "import random"
   ]
  },
  {
   "cell_type": "code",
   "execution_count": 3,
   "metadata": {},
   "outputs": [],
   "source": [
    "def generate_equations(allowed_operators, dataset_size, min_value, max_value):\n",
    "    \"\"\"Generates pairs of equations and solutions to them.\n",
    "    \n",
    "       Each equation has a form of two integers with an operator in between.\n",
    "       Each solution is an integer with the result of the operaion.\n",
    "    \n",
    "        allowed_operators: list of strings, allowed operators.\n",
    "        dataset_size: an integer, number of equations to be generated.\n",
    "        min_value: an integer, min value of each operand.\n",
    "        max_value: an integer, max value of each operand.\n",
    "\n",
    "        result: a list of tuples of strings (equation, solution).\n",
    "    \"\"\"\n",
    "    sample = []\n",
    "    for _ in range(dataset_size):\n",
    "        a1 = random.randint(min_value, max_value)\n",
    "        a2 = random.randint(min_value, max_value)\n",
    "        op = allowed_operators[random.randrange(0, len(allowed_operators))]\n",
    "        eq = '{}{}{}'.format(a1, op,a2)\n",
    "        res = eval(eq)\n",
    "        sample.append((eq, str(res)))\n",
    "        ######################################\n",
    "        ######### YOUR CODE HERE #############\n",
    "        ######################################\n",
    "    return sample"
   ]
  },
  {
   "cell_type": "markdown",
   "metadata": {},
   "source": [
    "To check the correctness of your implementation, use *test_generate_equations* function:"
   ]
  },
  {
   "cell_type": "code",
   "execution_count": 4,
   "metadata": {},
   "outputs": [],
   "source": [
    "def test_generate_equations():\n",
    "    allowed_operators = ['+', '-']\n",
    "    dataset_size = 10\n",
    "    for (input_, output_) in generate_equations(allowed_operators, dataset_size, 0, 100):\n",
    "        if not (type(input_) is str and type(output_) is str):\n",
    "            return \"Both parts should be strings.\"\n",
    "        if eval(input_) != int(output_):\n",
    "            return \"The (equation: {!r}, solution: {!r}) pair is incorrect.\".format(input_, output_)\n",
    "    return \"Tests passed.\""
   ]
  },
  {
   "cell_type": "code",
   "execution_count": 5,
   "metadata": {},
   "outputs": [
    {
     "name": "stdout",
     "output_type": "stream",
     "text": [
      "Tests passed.\n"
     ]
    }
   ],
   "source": [
    "print(test_generate_equations())"
   ]
  },
  {
   "cell_type": "markdown",
   "metadata": {},
   "source": [
    "Finally, we are ready to generate the train and test data for the neural network:"
   ]
  },
  {
   "cell_type": "code",
   "execution_count": 6,
   "metadata": {},
   "outputs": [],
   "source": [
    "from sklearn.model_selection import train_test_split"
   ]
  },
  {
   "cell_type": "code",
   "execution_count": 7,
   "metadata": {},
   "outputs": [],
   "source": [
    "allowed_operators = ['+', '-']\n",
    "dataset_size = 100000\n",
    "data = generate_equations(allowed_operators, dataset_size, min_value=0, max_value=9999)\n",
    "\n",
    "train_set, test_set = train_test_split(data, test_size=0.2, random_state=42)"
   ]
  },
  {
   "cell_type": "markdown",
   "metadata": {},
   "source": [
    "## Prepare data for the neural network\n",
    "\n",
    "The next stage of data preparation is creating mappings of the characters to their indices in some vocabulary. Since in our task we already know which symbols will appear in the inputs and outputs, generating the vocabulary is a simple step.\n",
    "\n",
    "#### How to create dictionaries for other task\n",
    "\n",
    "First of all, you need to understand what is the basic unit of the sequence in your task. In our case, we operate on symbols and the basic unit is a symbol. The number of symbols is small, so we don't need to think about filtering/normalization steps. However, in other tasks, the basic unit is often a word, and in this case the mapping would be *word $\\to$ integer*. The number of words might be huge, so it would be reasonable to filter them, for example, by frequency and leave only the frequent ones. Other strategies that your should consider are: data normalization (lowercasing, tokenization, how to consider punctuation marks), separate vocabulary for input and for output (e.g. for machine translation), some specifics of the task."
   ]
  },
  {
   "cell_type": "code",
   "execution_count": 8,
   "metadata": {},
   "outputs": [],
   "source": [
    "word2id = {symbol:i for i, symbol in enumerate('#^$+-1234567890')}\n",
    "id2word = {i:symbol for symbol, i in word2id.items()}"
   ]
  },
  {
   "cell_type": "markdown",
   "metadata": {},
   "source": [
    "#### Special symbols"
   ]
  },
  {
   "cell_type": "code",
   "execution_count": 9,
   "metadata": {},
   "outputs": [],
   "source": [
    "start_symbol = '^'\n",
    "end_symbol = '$'\n",
    "padding_symbol = '#'"
   ]
  },
  {
   "cell_type": "markdown",
   "metadata": {},
   "source": [
    "You could notice that we have added 3 special symbols: '^', '\\$' and '#':\n",
    "- '^' symbol will be passed to the network to indicate the beginning of the decoding procedure. We will discuss this one later in more details.\n",
    "- '\\$' symbol will be used to indicate the *end of a string*, both for input and output sequences. \n",
    "- '#' symbol will be used as a *padding* character to make lengths of all strings equal within one training batch.\n",
    "\n",
    "People have a bit different habits when it comes to special symbols in encoder-decoder networks, so don't get too much confused if you come across other variants in tutorials you read. "
   ]
  },
  {
   "cell_type": "markdown",
   "metadata": {},
   "source": [
    "#### Padding"
   ]
  },
  {
   "cell_type": "markdown",
   "metadata": {},
   "source": [
    "When vocabularies are ready, we need to be able to convert a sentence to a list of vocabulary word indices and back. At the same time, let's care about padding. We are going to preprocess each sequence from the input (and output ground truth) in such a way that:\n",
    "- it has a predefined length *padded_len*\n",
    "- it is probably cut off or padded with the *padding symbol* '#'\n",
    "- it *always* ends with the *end symbol* '$'\n",
    "\n",
    "We will treat the original characters of the sequence **and the end symbol** as the valid part of the input. We will store *the actual length* of the sequence, which includes the end symbol, but does not include the padding symbols. "
   ]
  },
  {
   "cell_type": "markdown",
   "metadata": {},
   "source": [
    " Now you need to implement the function *sentence_to_ids* that does the described job. "
   ]
  },
  {
   "cell_type": "code",
   "execution_count": 10,
   "metadata": {},
   "outputs": [
    {
     "data": {
      "text/plain": [
       "([5, 6, 7, 3, 5, 6, 7, 2, 0, 0], 8)"
      ]
     },
     "execution_count": 10,
     "metadata": {},
     "output_type": "execute_result"
    }
   ],
   "source": [
    "sentence = \"123+123\"\n",
    "padded_len = 10\n",
    "symbs = [sentence[i] for i in range(min(padded_len-1, len(sentence)))] + ['$'] \n",
    "padded_symbs = symbs + ['#' for _ in range(padded_len - len(symbs))]\n",
    "[word2id[s] for s in padded_symbs], len(symbs)\n",
    "# [word2id[s] for s in [sentence[i] if i < len(sentence) else \"#\" for i in range(padded_len)-1] + ['$']]"
   ]
  },
  {
   "cell_type": "code",
   "execution_count": 11,
   "metadata": {},
   "outputs": [],
   "source": [
    "def sentence_to_ids(sentence, word2id, padded_len):\n",
    "    \"\"\" Converts a sequence of symbols to a padded sequence of their ids.\n",
    "    \n",
    "      sentence: a string, input/output sequence of symbols.\n",
    "      word2id: a dict, a mapping from original symbols to ids.\n",
    "      padded_len: an integer, a desirable length of the sequence.\n",
    "\n",
    "      result: a tuple of (a list of ids, an actual length of sentence).\n",
    "    \"\"\"\n",
    "    \n",
    "    symbs = [sentence[i] for i in range(min(padded_len-1, len(sentence)))] + ['$'] \n",
    "    padded_symbs = symbs + ['#' for _ in range(padded_len - len(symbs))]\n",
    "    sent_ids = [word2id[s] for s in padded_symbs]\n",
    "    sent_len = len(symbs)\n",
    "    \n",
    "    return sent_ids, sent_len"
   ]
  },
  {
   "cell_type": "markdown",
   "metadata": {},
   "source": [
    "Check that your implementation is correct:"
   ]
  },
  {
   "cell_type": "code",
   "execution_count": 12,
   "metadata": {},
   "outputs": [],
   "source": [
    "def test_sentence_to_ids():\n",
    "    sentences = [(\"123+123\", 7), (\"123+123\", 8), (\"123+123\", 10)]\n",
    "    expected_output = [([5, 6, 7, 3, 5, 6, 2], 7), \n",
    "                       ([5, 6, 7, 3, 5, 6, 7, 2], 8), \n",
    "                       ([5, 6, 7, 3, 5, 6, 7, 2, 0, 0], 8)] \n",
    "    for (sentence, padded_len), (sentence_ids, expected_length) in zip(sentences, expected_output):\n",
    "        output, length = sentence_to_ids(sentence, word2id, padded_len)\n",
    "        if output != sentence_ids:\n",
    "            return(\"Convertion of '{}' for padded_len={} to {} is incorrect.\".format(\n",
    "                sentence, padded_len, output))\n",
    "        if length != expected_length:\n",
    "            return(\"Convertion of '{}' for padded_len={} has incorrect actual length {}.\".format(\n",
    "                sentence, padded_len, length))\n",
    "    return(\"Tests passed.\")"
   ]
  },
  {
   "cell_type": "code",
   "execution_count": 13,
   "metadata": {},
   "outputs": [
    {
     "name": "stdout",
     "output_type": "stream",
     "text": [
      "Tests passed.\n"
     ]
    }
   ],
   "source": [
    "print(test_sentence_to_ids())"
   ]
  },
  {
   "cell_type": "markdown",
   "metadata": {},
   "source": [
    "We also need to be able to get back from indices to symbols:"
   ]
  },
  {
   "cell_type": "code",
   "execution_count": 14,
   "metadata": {},
   "outputs": [],
   "source": [
    "def ids_to_sentence(ids, id2word):\n",
    "    \"\"\" Converts a sequence of ids to a sequence of symbols.\n",
    "    \n",
    "          ids: a list, indices for the padded sequence.\n",
    "          id2word:  a dict, a mapping from ids to original symbols.\n",
    "\n",
    "          result: a list of symbols.\n",
    "    \"\"\"\n",
    " \n",
    "    return [id2word[i] for i in ids] "
   ]
  },
  {
   "cell_type": "markdown",
   "metadata": {},
   "source": [
    "#### Generating batches"
   ]
  },
  {
   "cell_type": "markdown",
   "metadata": {},
   "source": [
    "The final step of data preparation is a function that transforms a batch of sentences to a list of lists of indices. "
   ]
  },
  {
   "cell_type": "code",
   "execution_count": 15,
   "metadata": {},
   "outputs": [],
   "source": [
    "def batch_to_ids(sentences, word2id, max_len):\n",
    "    \"\"\"Prepares batches of indices. \n",
    "    \n",
    "       Sequences are padded to match the longest sequence in the batch,\n",
    "       if it's longer than max_len, then max_len is used instead.\n",
    "\n",
    "        sentences: a list of strings, original sequences.\n",
    "        word2id: a dict, a mapping from original symbols to ids.\n",
    "        max_len: an integer, max len of sequences allowed.\n",
    "\n",
    "        result: a list of lists of ids, a list of actual lengths.\n",
    "    \"\"\"\n",
    "    \n",
    "    max_len_in_batch = min(max(len(s) for s in sentences) + 1, max_len)\n",
    "    batch_ids, batch_ids_len = [], []\n",
    "    for sentence in sentences:\n",
    "        ids, ids_len = sentence_to_ids(sentence, word2id, max_len_in_batch)\n",
    "        batch_ids.append(ids)\n",
    "        batch_ids_len.append(ids_len)\n",
    "    return batch_ids, batch_ids_len"
   ]
  },
  {
   "cell_type": "markdown",
   "metadata": {},
   "source": [
    "The function *generate_batches* will help to generate batches with defined size from given samples."
   ]
  },
  {
   "cell_type": "code",
   "execution_count": 16,
   "metadata": {},
   "outputs": [],
   "source": [
    "def generate_batches(samples, batch_size=64):\n",
    "    X, Y = [], []\n",
    "    for i, (x, y) in enumerate(samples, 1):\n",
    "        X.append(x)\n",
    "        Y.append(y)\n",
    "        if i % batch_size == 0:\n",
    "            yield X, Y\n",
    "            X, Y = [], []\n",
    "    if X and Y:\n",
    "        yield X, Y"
   ]
  },
  {
   "cell_type": "markdown",
   "metadata": {},
   "source": [
    "To illustrate the result of the implemented functions, run the following cell:"
   ]
  },
  {
   "cell_type": "code",
   "execution_count": 17,
   "metadata": {},
   "outputs": [
    {
     "name": "stdout",
     "output_type": "stream",
     "text": [
      "Input: ('6784-2669', '4115')\n",
      "Ids: [[10, 11, 12, 8, 4, 6, 10, 10, 13, 2], [8, 5, 5, 9, 2, 0, 0, 0, 0, 0]]\n",
      "Sentences lengths: [10, 5]\n"
     ]
    }
   ],
   "source": [
    "sentences = train_set[0]\n",
    "ids, sent_lens = batch_to_ids(sentences, word2id, max_len=10)\n",
    "print('Input:', sentences)\n",
    "print('Ids: {}\\nSentences lengths: {}'.format(ids, sent_lens))"
   ]
  },
  {
   "cell_type": "markdown",
   "metadata": {},
   "source": [
    "## Encoder-Decoder architecture\n",
    "\n",
    "Encoder-Decoder is a successful architecture for Seq2Seq tasks with different lengths of input and output sequences. The main idea is to use two recurrent neural networks, where the first neural network *encodes* the input sequence into a real-valued vector and then the second neural network *decodes* this vector into the output sequence. While building the neural network, we will specify some particular characteristics of this architecture."
   ]
  },
  {
   "cell_type": "code",
   "execution_count": 18,
   "metadata": {},
   "outputs": [],
   "source": [
    "import tensorflow as tf"
   ]
  },
  {
   "cell_type": "markdown",
   "metadata": {},
   "source": [
    "Let us use TensorFlow building blocks to specify the network architecture."
   ]
  },
  {
   "cell_type": "code",
   "execution_count": 19,
   "metadata": {},
   "outputs": [],
   "source": [
    "class Seq2SeqModel(object):\n",
    "    pass"
   ]
  },
  {
   "cell_type": "markdown",
   "metadata": {},
   "source": [
    "First, we need to create [placeholders](https://www.tensorflow.org/api_guides/python/io_ops#Placeholders) to specify what data we are going to feed into the network during the execution time. For this task we will need:\n",
    " - *input_batch* — sequences of sentences (the shape will equal to [batch_size, max_sequence_len_in_batch]);\n",
    " - *input_batch_lengths* — lengths of not padded sequences (the shape equals to [batch_size]);\n",
    " - *ground_truth* — sequences of groundtruth (the shape will equal to [batch_size, max_sequence_len_in_batch]);\n",
    " - *ground_truth_lengths* — lengths of not padded groundtruth sequences (the shape equals to [batch_size]);\n",
    " - *dropout_ph* — dropout keep probability; this placeholder has a predifined value 1;\n",
    " - *learning_rate_ph* — learning rate."
   ]
  },
  {
   "cell_type": "code",
   "execution_count": 20,
   "metadata": {},
   "outputs": [],
   "source": [
    "def declare_placeholders(self):\n",
    "    \"\"\"Specifies placeholders for the model.\"\"\"\n",
    "    \n",
    "    # Placeholders for input and its actual lengths.\n",
    "    self.input_batch = tf.placeholder(shape=(None, None), dtype=tf.int32, name='input_batch')\n",
    "    self.input_batch_lengths = tf.placeholder(shape=(None, ), dtype=tf.int32, name='input_batch_lengths')\n",
    "    \n",
    "    # Placeholders for groundtruth and its actual lengths.\n",
    "    self.ground_truth = tf.placeholder(shape=(None, None), dtype=tf.int32, name = 'ground_truth')\n",
    "    self.ground_truth_lengths = tf.placeholder(shape=(None, ), dtype=tf.int32, name='ground_truth_lengths')\n",
    "        \n",
    "    self.dropout_ph = tf.placeholder_with_default(tf.cast(1.0, tf.float32), shape=[])\n",
    "    self.learning_rate_ph = tf.placeholder_with_default(tf.cast(0.01, tf.float32), shape=[])"
   ]
  },
  {
   "cell_type": "code",
   "execution_count": 21,
   "metadata": {},
   "outputs": [],
   "source": [
    "Seq2SeqModel.__declare_placeholders = classmethod(declare_placeholders)"
   ]
  },
  {
   "cell_type": "markdown",
   "metadata": {},
   "source": [
    "Now, let us specify the layers of the neural network. First, we need to prepare an embedding matrix. Since we use the same vocabulary for input and output, we need only one such matrix. For tasks with different vocabularies there would be multiple embedding layers.\n",
    "- Create embeddings matrix with [tf.Variable](https://www.tensorflow.org/api_docs/python/tf/Variable). Specify its name, type (tf.float32), and initialize with random values.\n",
    "- Perform [embeddings lookup](https://www.tensorflow.org/api_docs/python/tf/nn/embedding_lookup) for a given input batch."
   ]
  },
  {
   "cell_type": "code",
   "execution_count": 22,
   "metadata": {},
   "outputs": [],
   "source": [
    "def create_embeddings(self, vocab_size, embeddings_size):\n",
    "    \"\"\"Specifies embeddings layer and embeds an input batch.\"\"\"\n",
    "     \n",
    "    random_initializer = tf.random_uniform((vocab_size, embeddings_size), -1.0, 1.0)\n",
    "    self.embeddings = tf.Variable(random_initializer, dtype=tf.float32, name='embeddings')\n",
    "    \n",
    "    # Perform embeddings lookup for self.input_batch. \n",
    "    self.input_batch_embedded = tf.nn.embedding_lookup(self.embeddings, self.input_batch)"
   ]
  },
  {
   "cell_type": "code",
   "execution_count": 23,
   "metadata": {},
   "outputs": [],
   "source": [
    "Seq2SeqModel.__create_embeddings = classmethod(create_embeddings)"
   ]
  },
  {
   "cell_type": "markdown",
   "metadata": {},
   "source": [
    "#### Encoder\n",
    "\n",
    "The first RNN of the current architecture is called an *encoder* and serves for encoding an input sequence to a real-valued vector. Input of this RNN is an embedded input batch. Since sentences in the same batch could have different actual lengths, we also provide input lengths to avoid unnecessary computations. The final encoder state will be passed to the second RNN (decoder), which we will create soon. \n",
    "\n",
    "- TensorFlow provides a number of [RNN cells](https://www.tensorflow.org/api_guides/python/contrib.rnn#Core_RNN_Cells_for_use_with_TensorFlow_s_core_RNN_methods) ready for use. We suggest that you use [GRU cell](https://www.tensorflow.org/api_docs/python/tf/contrib/rnn/GRUCell), but you can also experiment with other types. \n",
    "- Wrap your cells with [DropoutWrapper](https://www.tensorflow.org/api_docs/python/tf/contrib/rnn/DropoutWrapper). Dropout is an important regularization technique for neural networks. Specify input keep probability using the dropout placeholder that we created before.\n",
    "- Combine the defined encoder cells with [Dynamic RNN](https://www.tensorflow.org/api_docs/python/tf/nn/dynamic_rnn). Use the embedded input batches and their lengths here.\n",
    "- Use *dtype=tf.float32* everywhere."
   ]
  },
  {
   "cell_type": "code",
   "execution_count": 24,
   "metadata": {},
   "outputs": [],
   "source": [
    "def build_encoder(self, hidden_size):\n",
    "    \"\"\"Specifies encoder architecture and computes its output.\"\"\"\n",
    "    \n",
    "    # Create GRUCell with dropout.\n",
    "    encoder_cell = tf.nn.rnn_cell.DropoutWrapper( tf.contrib.rnn.GRUCell(hidden_size), \n",
    "                                                 input_keep_prob=self.dropout_ph)\n",
    "    \n",
    "    # Create RNN with the predefined cell.\n",
    "    _, self.final_encoder_state = tf.nn.dynamic_rnn(encoder_cell, \n",
    "                                                    inputs = self.input_batch_embedded, \n",
    "                                                    sequence_length=self.input_batch_lengths,\n",
    "                                   dtype=tf.float32)"
   ]
  },
  {
   "cell_type": "code",
   "execution_count": 25,
   "metadata": {},
   "outputs": [],
   "source": [
    "Seq2SeqModel.__build_encoder = classmethod(build_encoder)"
   ]
  },
  {
   "cell_type": "markdown",
   "metadata": {},
   "source": [
    "#### Decoder\n",
    "\n",
    "The second RNN is called a *decoder* and serves for generating the output sequence. In the simple seq2seq arcitecture, the input sequence is provided to the decoder only as the final state of the encoder. Obviously, it is a bottleneck and [Attention techniques](https://www.tensorflow.org/tutorials/seq2seq#background_on_the_attention_mechanism) can help to overcome it. So far, we do not need them to make our calculator work, but this would be a necessary ingredient for more advanced tasks. \n",
    "\n",
    "During training, decoder also uses information about the true output. It is feeded in as input symbol by symbol. However, during the prediction stage (which is called *inference* in this architecture), the decoder can only use its own generated output from the previous step to feed it in at the next step. Because of this difference (*training* vs *inference*), we will create two distinct instances, which will serve for the described scenarios.\n",
    "\n",
    "The picture below illustrates the point. It also shows our work with the special characters, e.g. look how the start symbol `^` is used. The transparent parts are ignored. In decoder, it is masked out in the loss computation. In encoder, the green state is considered as final and passed to the decoder. "
   ]
  },
  {
   "cell_type": "markdown",
   "metadata": {},
   "source": [
    "<img src=\"encoder-decoder-pic.png\" style=\"width: 500px;\">"
   ]
  },
  {
   "cell_type": "markdown",
   "metadata": {},
   "source": [
    "Now, it's time to implement the decoder:\n",
    " - First, we should create two [helpers](https://www.tensorflow.org/api_guides/python/contrib.seq2seq#Dynamic_Decoding). These classes help to determine the behaviour of the decoder. During the training time, we will use [TrainingHelper](https://www.tensorflow.org/api_docs/python/tf/contrib/seq2seq/TrainingHelper). For the inference we recommend to use [GreedyEmbeddingHelper](https://www.tensorflow.org/api_docs/python/tf/contrib/seq2seq/GreedyEmbeddingHelper).\n",
    " - To share all parameters during training and inference, we use one scope and set the flag 'reuse' to True at inference time. You might be interested to know more about how [variable scopes](https://www.tensorflow.org/programmers_guide/variables) work in TF. \n",
    " - To create the decoder itself, we will use [BasicDecoder](https://www.tensorflow.org/api_docs/python/tf/contrib/seq2seq/BasicDecoder) class. As previously, you should choose some RNN cell, e.g. GRU cell. To turn hidden states into logits, we will need a projection layer. One of the simple solutions is using [OutputProjectionWrapper](https://www.tensorflow.org/api_docs/python/tf/contrib/rnn/OutputProjectionWrapper).\n",
    " - For getting the predictions, it will be convinient to use [dynamic_decode](https://www.tensorflow.org/api_docs/python/tf/contrib/seq2seq/dynamic_decode). This function uses the provided decoder to perform decoding."
   ]
  },
  {
   "cell_type": "code",
   "execution_count": 26,
   "metadata": {},
   "outputs": [],
   "source": [
    "def build_decoder(self, hidden_size, vocab_size, max_iter, start_symbol_id, end_symbol_id):\n",
    "    \"\"\"Specifies decoder architecture and computes the output.\n",
    "    \n",
    "        Uses different helpers:\n",
    "          - for train: feeding ground truth\n",
    "          - for inference: feeding generated output\n",
    "\n",
    "        As a result, self.train_outputs and self.infer_outputs are created. \n",
    "        Each of them contains two fields:\n",
    "          rnn_output (predicted logits)\n",
    "          sample_id (predictions).\n",
    "\n",
    "    \"\"\"\n",
    "    \n",
    "    # Use start symbols as the decoder inputs at the first time step.\n",
    "    batch_size = tf.shape(self.input_batch)[0]\n",
    "    start_tokens = tf.fill([batch_size], start_symbol_id)\n",
    "    ground_truth_as_input = tf.concat([tf.expand_dims(start_tokens, 1), self.ground_truth], 1)\n",
    "    \n",
    "    # Use the embedding layer defined before to lookup embedings for ground_truth_as_input. \n",
    "    self.ground_truth_embedded = tf.nn.embedding_lookup(self.embeddings, ground_truth_as_input)\n",
    "     \n",
    "    # Create TrainingHelper for the train stage.\n",
    "    train_helper = tf.contrib.seq2seq.TrainingHelper(self.ground_truth_embedded, \n",
    "                                                     self.ground_truth_lengths)\n",
    "    \n",
    "    # Create GreedyEmbeddingHelper for the inference stage.\n",
    "    # You should provide the embedding layer, start_tokens and index of the end symbol.\n",
    "    infer_helper = tf.contrib.seq2seq.GreedyEmbeddingHelper(self.embeddings, \n",
    "                                                            start_tokens, \n",
    "                                                            end_symbol_id)\n",
    "    \n",
    "    def decode(helper, scope, reuse=None):\n",
    "        \"\"\"Creates decoder and return the results of the decoding with a given helper.\"\"\"\n",
    "        \n",
    "        with tf.variable_scope(scope, reuse=reuse):\n",
    "            # Create GRUCell with dropout. Do not forget to set the reuse flag properly.\n",
    "            decoder_cell = tf.nn.rnn_cell.DropoutWrapper(\n",
    "                    tf.contrib.rnn.GRUCell(hidden_size, reuse=reuse, name='Decoder_cell'), \n",
    "                input_keep_prob=self.dropout_ph)\n",
    "            \n",
    "            # Create a projection wrapper.\n",
    "            decoder_cell = tf.contrib.rnn.OutputProjectionWrapper(decoder_cell, \n",
    "                                                                  vocab_size, reuse=reuse)\n",
    "            \n",
    "            # Create BasicDecoder, pass the defined cell, a helper, and initial state.\n",
    "            # The initial state should be equal to the final state of the encoder!\n",
    "            decoder = tf.contrib.seq2seq.BasicDecoder(decoder_cell, \n",
    "                                                      helper=helper, \n",
    "                                                      initial_state=self.final_encoder_state)\n",
    "#             Input 0 of layer gru_cell_3 is incompatible with the layer: \n",
    "#              expected ndim=2, found ndim=3. Full shape received: [None, None, 20]\n",
    "            \n",
    "            # The first returning argument of dynamic_decode contains two fields:\n",
    "            #   rnn_output (predicted logits)\n",
    "            #   sample_id (predictions)\n",
    "            outputs, _, _ = tf.contrib.seq2seq.dynamic_decode(decoder=decoder, maximum_iterations=max_iter, \n",
    "                                                              output_time_major=False, impute_finished=True)\n",
    "\n",
    "            return outputs\n",
    "        \n",
    "    self.train_outputs = decode(train_helper, 'decode')\n",
    "    self.infer_outputs = decode(infer_helper, 'decode', reuse=True)"
   ]
  },
  {
   "cell_type": "code",
   "execution_count": 27,
   "metadata": {},
   "outputs": [],
   "source": [
    "Seq2SeqModel.__build_decoder = classmethod(build_decoder)"
   ]
  },
  {
   "cell_type": "markdown",
   "metadata": {},
   "source": [
    "In this task we will use [sequence_loss](https://www.tensorflow.org/api_docs/python/tf/contrib/seq2seq/sequence_loss), which is a weighted cross-entropy loss for a sequence of logits. Take a moment to understand, what is your train logits and targets. Also note, that we do not want to take into account loss terms coming from padding symbols, so we will mask them out using weights.  "
   ]
  },
  {
   "cell_type": "code",
   "execution_count": 28,
   "metadata": {},
   "outputs": [],
   "source": [
    "def compute_loss(self):\n",
    "    \"\"\"Computes sequence loss (masked cross-entopy loss with logits).\"\"\"\n",
    "    \n",
    "    weights = tf.cast(tf.sequence_mask(self.ground_truth_lengths), dtype=tf.float32)\n",
    "    \n",
    "    self.loss = tf.contrib.seq2seq.sequence_loss(\n",
    "            logits  = self.train_outputs.rnn_output,\n",
    "            targets = self.ground_truth,\n",
    "            weights = weights\n",
    "        )"
   ]
  },
  {
   "cell_type": "code",
   "execution_count": 29,
   "metadata": {},
   "outputs": [],
   "source": [
    "Seq2SeqModel.__compute_loss = classmethod(compute_loss)"
   ]
  },
  {
   "cell_type": "markdown",
   "metadata": {},
   "source": [
    "The last thing to specify is the optimization of the defined loss. \n",
    "We suggest that you use [optimize_loss](https://www.tensorflow.org/api_docs/python/tf/contrib/layers/optimize_loss) with Adam optimizer and a learning rate from the corresponding placeholder. You might also need to pass global step (e.g. as tf.train.get_global_step()) and clip gradients by 1.0."
   ]
  },
  {
   "cell_type": "code",
   "execution_count": 30,
   "metadata": {},
   "outputs": [],
   "source": [
    "def perform_optimization(self):\n",
    "    \"\"\"Specifies train_op that optimizes self.loss.\"\"\"\n",
    "    \n",
    "    self.train_op = tf.contrib.layers.optimize_loss(\n",
    "    loss = self.loss,\n",
    "    global_step = tf.train.get_global_step(),\n",
    "    learning_rate = self.learning_rate_ph,\n",
    "    optimizer = 'Adam',\n",
    "    clip_gradients=1.0\n",
    ")"
   ]
  },
  {
   "cell_type": "code",
   "execution_count": 31,
   "metadata": {},
   "outputs": [],
   "source": [
    "Seq2SeqModel.__perform_optimization = classmethod(perform_optimization)"
   ]
  },
  {
   "cell_type": "markdown",
   "metadata": {},
   "source": [
    "Congratulations! You have specified all the parts of your network. You may have noticed, that we didn't deal with any real data yet, so what you have written is just recipies on how the network should function.\n",
    "Now we will put them to the constructor of our Seq2SeqModel class to use it in the next section. "
   ]
  },
  {
   "cell_type": "code",
   "execution_count": 32,
   "metadata": {},
   "outputs": [],
   "source": [
    "def init_model(self, vocab_size, embeddings_size, hidden_size, \n",
    "               max_iter, start_symbol_id, end_symbol_id, padding_symbol_id):\n",
    "    \n",
    "    self.__declare_placeholders()\n",
    "    self.__create_embeddings(vocab_size, embeddings_size)\n",
    "    self.__build_encoder(hidden_size)\n",
    "    self.__build_decoder(hidden_size, vocab_size, max_iter, start_symbol_id, end_symbol_id)\n",
    "    \n",
    "    # Compute loss and back-propagate.\n",
    "    self.__compute_loss()\n",
    "    self.__perform_optimization()\n",
    "    \n",
    "    # Get predictions for evaluation.\n",
    "    self.train_predictions = self.train_outputs.sample_id\n",
    "    self.infer_predictions = self.infer_outputs.sample_id"
   ]
  },
  {
   "cell_type": "code",
   "execution_count": 33,
   "metadata": {},
   "outputs": [],
   "source": [
    "Seq2SeqModel.__init__ = classmethod(init_model)"
   ]
  },
  {
   "cell_type": "markdown",
   "metadata": {},
   "source": [
    "## Train the network and predict output\n",
    "\n",
    "[Session.run](https://www.tensorflow.org/api_docs/python/tf/Session#run) is a point which initiates computations in the graph that we have defined. To train the network, we need to compute *self.train_op*. To predict output, we just need to compute *self.infer_predictions*. In any case, we need to feed actual data through the placeholders that we defined above. "
   ]
  },
  {
   "cell_type": "code",
   "execution_count": 34,
   "metadata": {},
   "outputs": [],
   "source": [
    "def train_on_batch(self, session, X, X_seq_len, Y, Y_seq_len, learning_rate, dropout_keep_probability):\n",
    "    feed_dict = {\n",
    "            self.input_batch: X,\n",
    "            self.input_batch_lengths: X_seq_len,\n",
    "            self.ground_truth: Y,\n",
    "            self.ground_truth_lengths: Y_seq_len,\n",
    "            self.learning_rate_ph: learning_rate,\n",
    "            self.dropout_ph: dropout_keep_probability\n",
    "        }\n",
    "    pred, loss, _ = session.run([\n",
    "            self.train_predictions,\n",
    "            self.loss,\n",
    "            self.train_op], feed_dict=feed_dict)\n",
    "    return pred, loss"
   ]
  },
  {
   "cell_type": "code",
   "execution_count": 35,
   "metadata": {},
   "outputs": [],
   "source": [
    "Seq2SeqModel.train_on_batch = classmethod(train_on_batch)"
   ]
  },
  {
   "cell_type": "markdown",
   "metadata": {},
   "source": [
    "We implemented two prediction functions: *predict_for_batch* and *predict_for_batch_with_loss*. The first one allows only to predict output for some input sequence, while the second one could compute loss because we provide also ground truth values. Both these functions might be useful since the first one could be used for predicting only, and the second one is helpful for validating results on not-training data during the training."
   ]
  },
  {
   "cell_type": "code",
   "execution_count": 36,
   "metadata": {},
   "outputs": [],
   "source": [
    "def predict_for_batch(self, session, X, X_seq_len):\n",
    "    feed_dict = {\n",
    "        self.input_batch: X,\n",
    "        self.input_batch_lengths: X_seq_len,\n",
    "    }\n",
    "    pred = session.run([\n",
    "            self.infer_predictions\n",
    "        ], feed_dict=feed_dict)[0]\n",
    "    return pred\n",
    "\n",
    "def predict_for_batch_with_loss(self, session, X, X_seq_len, Y, Y_seq_len):\n",
    "    feed_dict = {\n",
    "        self.input_batch: X,\n",
    "        self.input_batch_lengths: X_seq_len,\n",
    "        self.ground_truth: Y,\n",
    "        self.ground_truth_lengths: Y_seq_len\n",
    "    }\n",
    "    pred, loss = session.run([\n",
    "            self.infer_predictions,\n",
    "            self.loss,\n",
    "        ], feed_dict=feed_dict)\n",
    "    return pred, loss"
   ]
  },
  {
   "cell_type": "code",
   "execution_count": 37,
   "metadata": {},
   "outputs": [],
   "source": [
    "Seq2SeqModel.predict_for_batch = classmethod(predict_for_batch)\n",
    "Seq2SeqModel.predict_for_batch_with_loss = classmethod(predict_for_batch_with_loss)"
   ]
  },
  {
   "cell_type": "markdown",
   "metadata": {},
   "source": [
    "## Run your experiment\n",
    "\n",
    "Create *Seq2SeqModel* model with the following parameters:\n",
    " - *vocab_size* — number of tokens;\n",
    " - *embeddings_size* — dimension of embeddings, recommended value: 20;\n",
    " - *max_iter* — maximum number of steps in decoder, recommended value: 7;\n",
    " - *hidden_size* — size of hidden layers for RNN, recommended value: 512;\n",
    " - *start_symbol_id* — an index of the start token (`^`).\n",
    " - *end_symbol_id* — an index of the end token (`$`).\n",
    " - *padding_symbol_id* — an index of the padding token (`#`).\n",
    "\n",
    "Set hyperparameters. You might want to start with the following values and see how it works:\n",
    "- *batch_size*: 128;\n",
    "- at least 10 epochs;\n",
    "- value of *learning_rate*: 0.001\n",
    "- *dropout_keep_probability* equals to 0.5 for training (typical values for dropout probability are ranging from 0.1 to 1.0); larger values correspond smaler number of dropout units;\n",
    "- *max_len*: 20."
   ]
  },
  {
   "cell_type": "code",
   "execution_count": 38,
   "metadata": {},
   "outputs": [],
   "source": [
    "vocab_size = len(word2id)"
   ]
  },
  {
   "cell_type": "markdown",
   "metadata": {},
   "source": [
    "## Suggested Hyperparameters"
   ]
  },
  {
   "cell_type": "code",
   "execution_count": 52,
   "metadata": {},
   "outputs": [],
   "source": [
    "tf.reset_default_graph()\n",
    "\n",
    "model = Seq2SeqModel(vocab_size, \n",
    "                     embeddings_size   = 20, \n",
    "                     max_iter          = 7, \n",
    "                     hidden_size       = 512,\n",
    "                     start_symbol_id   = word2id['^'],\n",
    "                     end_symbol_id     = word2id['$'],\n",
    "                     padding_symbol_id = word2id['#'])\n",
    "\n",
    "batch_size = 128\n",
    "n_epochs = 10\n",
    "learning_rate = 0.001\n",
    "dropout_keep_probability = 0.5\n",
    "max_len = 20\n",
    "\n",
    "n_step = int(len(train_set) / batch_size)"
   ]
  },
  {
   "cell_type": "markdown",
   "metadata": {},
   "source": [
    "Finally, we are ready to run the training! A good indicator that everything works fine is decreasing loss during the training. You should account on the loss value equal to approximately 2.7 at the beginning of the training and near 1 after the 10th epoch."
   ]
  },
  {
   "cell_type": "code",
   "execution_count": 53,
   "metadata": {
    "scrolled": true
   },
   "outputs": [
    {
     "name": "stdout",
     "output_type": "stream",
     "text": [
      "Start training... \n",
      "\n",
      "Train: epoch 1\n",
      "Epoch: [1/10], step: [1/625], loss: 2.709487\n",
      "Epoch: [1/10], step: [201/625], loss: 1.813829\n",
      "Epoch: [1/10], step: [401/625], loss: 1.760775\n",
      "Epoch: [1/10], step: [601/625], loss: 1.722759\n",
      "Test: epoch 1 loss: 1.6119817\n",
      "X: 7525+4967$\n",
      "Y: 12492$\n",
      "O: 13339$\n",
      "\n",
      "X: 8277+6181$\n",
      "Y: 14458$\n",
      "O: 16139$\n",
      "\n",
      "X: 5438-7353$\n",
      "Y: -1915$\n",
      "O: -1333$\n",
      "\n",
      "Train: epoch 2\n",
      "Epoch: [2/10], step: [1/625], loss: 1.645124\n",
      "Epoch: [2/10], step: [201/625], loss: 1.553990\n",
      "Epoch: [2/10], step: [401/625], loss: 1.526307\n",
      "Epoch: [2/10], step: [601/625], loss: 1.511654\n",
      "Test: epoch 2 loss: 1.4420843\n",
      "X: 3242-7517$\n",
      "Y: -4275$\n",
      "O: -3902$\n",
      "\n",
      "X: 1890+1700$\n",
      "Y: 3590$#\n",
      "O: 3000$#\n",
      "\n",
      "X: 656-7088$#\n",
      "Y: -6432$\n",
      "O: -6328$\n",
      "\n",
      "Train: epoch 3\n",
      "Epoch: [3/10], step: [1/625], loss: 1.447304\n",
      "Epoch: [3/10], step: [201/625], loss: 1.442866\n",
      "Epoch: [3/10], step: [401/625], loss: 1.382611\n",
      "Epoch: [3/10], step: [601/625], loss: 1.437352\n",
      "Test: epoch 3 loss: 1.3417668\n",
      "X: 346-4728$#\n",
      "Y: -4382$\n",
      "O: -4600$\n",
      "\n",
      "X: 9471-9948$\n",
      "Y: -477$#\n",
      "O: -111$#\n",
      "\n",
      "X: 720-8636$#\n",
      "Y: -7916$\n",
      "O: -8000$\n",
      "\n",
      "Train: epoch 4\n",
      "Epoch: [4/10], step: [1/625], loss: 1.387629\n",
      "Epoch: [4/10], step: [201/625], loss: 1.380310\n",
      "Epoch: [4/10], step: [401/625], loss: 1.387877\n",
      "Epoch: [4/10], step: [601/625], loss: 1.297754\n",
      "Test: epoch 4 loss: 1.2958194\n",
      "X: 6829+5712$\n",
      "Y: 12541$\n",
      "O: 12566$\n",
      "\n",
      "X: 8567+5660$\n",
      "Y: 14227$\n",
      "O: 14026$\n",
      "\n",
      "X: 4402-7260$\n",
      "Y: -2858$\n",
      "O: -2666$\n",
      "\n",
      "Train: epoch 5\n",
      "Epoch: [5/10], step: [1/625], loss: 1.327968\n",
      "Epoch: [5/10], step: [201/625], loss: 1.308235\n",
      "Epoch: [5/10], step: [401/625], loss: 1.289628\n",
      "Epoch: [5/10], step: [601/625], loss: 1.284129\n",
      "Test: epoch 5 loss: 1.2386532\n",
      "X: 8453-8797$\n",
      "Y: -344$#\n",
      "O: -665$#\n",
      "\n",
      "X: 8841+171$#\n",
      "Y: 9012$#\n",
      "O: 8588$#\n",
      "\n",
      "X: 2548+5576$\n",
      "Y: 8124$#\n",
      "O: 8004$#\n",
      "\n",
      "Train: epoch 6\n",
      "Epoch: [6/10], step: [1/625], loss: 1.292028\n",
      "Epoch: [6/10], step: [201/625], loss: 1.201643\n",
      "Epoch: [6/10], step: [401/625], loss: 1.166991\n",
      "Epoch: [6/10], step: [601/625], loss: 1.111548\n",
      "Test: epoch 6 loss: 1.055036\n",
      "X: 7363+2643$\n",
      "Y: 10006$\n",
      "O: 10055$\n",
      "\n",
      "X: 7577-846$#\n",
      "Y: 6731$#\n",
      "O: 6841$#\n",
      "\n",
      "X: 7195+1033$\n",
      "Y: 8228$#\n",
      "O: 8205$#\n",
      "\n",
      "Train: epoch 7\n",
      "Epoch: [7/10], step: [1/625], loss: 1.102911\n",
      "Epoch: [7/10], step: [201/625], loss: 1.025193\n",
      "Epoch: [7/10], step: [401/625], loss: 1.059061\n",
      "Epoch: [7/10], step: [601/625], loss: 1.028905\n",
      "Test: epoch 7 loss: 0.9845771\n",
      "X: 995-5068$#\n",
      "Y: -4073$\n",
      "O: -4091$\n",
      "\n",
      "X: 8422-8099$\n",
      "Y: 323$##\n",
      "O: 455$##\n",
      "\n",
      "X: 3075+8759$\n",
      "Y: 11834$\n",
      "O: 11805$\n",
      "\n",
      "Train: epoch 8\n",
      "Epoch: [8/10], step: [1/625], loss: 1.008233\n",
      "Epoch: [8/10], step: [201/625], loss: 1.032640\n",
      "Epoch: [8/10], step: [401/625], loss: 1.028471\n",
      "Epoch: [8/10], step: [601/625], loss: 0.966667\n",
      "Test: epoch 8 loss: 0.8989388\n",
      "X: 931-6879$#\n",
      "Y: -5948$\n",
      "O: -5944$\n",
      "\n",
      "X: 2231-8671$\n",
      "Y: -6440$\n",
      "O: -6461$\n",
      "\n",
      "X: 864-8326$#\n",
      "Y: -7462$\n",
      "O: -7511$\n",
      "\n",
      "Train: epoch 9\n",
      "Epoch: [9/10], step: [1/625], loss: 0.939921\n",
      "Epoch: [9/10], step: [201/625], loss: 0.931360\n",
      "Epoch: [9/10], step: [401/625], loss: 0.971380\n",
      "Epoch: [9/10], step: [601/625], loss: 0.948089\n",
      "Test: epoch 9 loss: 0.90423644\n",
      "X: 3108+3781$\n",
      "Y: 6889$#\n",
      "O: 6888$#\n",
      "\n",
      "X: 2606-5474$\n",
      "Y: -2868$\n",
      "O: -2827$\n",
      "\n",
      "X: 1189-3938$\n",
      "Y: -2749$\n",
      "O: -2755$\n",
      "\n",
      "Train: epoch 10\n",
      "Epoch: [10/10], step: [1/625], loss: 0.954581\n",
      "Epoch: [10/10], step: [201/625], loss: 0.942625\n",
      "Epoch: [10/10], step: [401/625], loss: 0.933703\n",
      "Epoch: [10/10], step: [601/625], loss: 0.881598\n",
      "Test: epoch 10 loss: 0.88919336\n",
      "X: 3118-7396$\n",
      "Y: -4278$\n",
      "O: -4288$\n",
      "\n",
      "X: 8150+1022$\n",
      "Y: 9172$#\n",
      "O: 9166$#\n",
      "\n",
      "X: 8563+9014$\n",
      "Y: 17577$\n",
      "O: 17590$\n",
      "\n",
      "\n",
      "...training finished.\n"
     ]
    }
   ],
   "source": [
    "session = tf.Session()\n",
    "session.run(tf.global_variables_initializer())\n",
    "            \n",
    "invalid_number_prediction_counts = []\n",
    "all_model_predictions = []\n",
    "all_ground_truth = []\n",
    "\n",
    "# train_set = train_set[:10]\n",
    "# test_set  = test_set[:5]\n",
    "\n",
    "print('Start training... \\n')\n",
    "for epoch in range(n_epochs):  \n",
    "    random.shuffle(train_set)\n",
    "    random.shuffle(test_set)\n",
    "    \n",
    "    print('Train: epoch', epoch + 1)\n",
    "    for n_iter, (X_batch, Y_batch) in enumerate(generate_batches(train_set, batch_size=batch_size)):\n",
    "        ######################################\n",
    "        ######### YOUR CODE HERE #############\n",
    "        ######################################\n",
    "        # prepare the data (X_batch and Y_batch) for training\n",
    "        # using function batch_to_ids\n",
    "        X_batch_ids, X_batch_ids_len = batch_to_ids(X_batch, word2id, max_len)\n",
    "        Y_batch_ids, Y_batch_ids_len = batch_to_ids(Y_batch, word2id, max_len)\n",
    "        predictions, loss = model.train_on_batch(session, \n",
    "                                           X_batch_ids, \n",
    "                                           X_batch_ids_len, \n",
    "                                           Y_batch_ids, \n",
    "                                           Y_batch_ids_len, \n",
    "                                           learning_rate, \n",
    "                                           dropout_keep_probability\n",
    "                                  )\n",
    "        \n",
    "        if n_iter % 200 == 0:\n",
    "            print(\"Epoch: [%d/%d], step: [%d/%d], loss: %f\" % (epoch + 1, n_epochs, n_iter + 1, n_step, loss))\n",
    "                \n",
    "    X_sent, Y_sent = next(generate_batches(test_set, batch_size=batch_size))\n",
    "    ######################################\n",
    "    ######### YOUR CODE HERE #############\n",
    "    ######################################\n",
    "    # prepare test data (X_sent and Y_sent) for predicting \n",
    "    # quality and computing value of the loss function\n",
    "    # using function batch_to_ids\n",
    "    \n",
    "    X_sent_ids, X_sent_ids_len = batch_to_ids(X_sent, word2id, max_len)\n",
    "    Y_sent_ids, Y_sent_ids_len = batch_to_ids(Y_sent, word2id, max_len)\n",
    "    predictions, loss = model.predict_for_batch_with_loss(session, \n",
    "                                                          X_sent_ids,\n",
    "                                                          X_sent_ids_len, \n",
    "                                                          Y_sent_ids, \n",
    "                                                          Y_sent_ids_len)\n",
    "    print('Test: epoch', epoch + 1, 'loss:', loss,)\n",
    "    for x, y, p  in list(zip(X_sent_ids, Y_sent_ids, predictions))[:3]:\n",
    "        print('X:',''.join(ids_to_sentence(x, id2word)))\n",
    "        print('Y:',''.join(ids_to_sentence(y, id2word)))\n",
    "        print('O:',''.join(ids_to_sentence(p, id2word)))\n",
    "        print('')\n",
    "\n",
    "    model_predictions = []\n",
    "    ground_truth = []\n",
    "    invalid_number_prediction_count = 0\n",
    "    # For the whole test set calculate ground-truth values (as integer numbers)\n",
    "    # and prediction values (also as integers) to calculate metrics.\n",
    "    # If generated by model number is not correct (e.g. '1-1'), \n",
    "    # increase invalid_number_prediction_count and don't append this and corresponding\n",
    "    # ground-truth value to the arrays.\n",
    "    for X_batch, Y_batch in generate_batches(test_set, batch_size=batch_size):\n",
    "        ######################################\n",
    "        ######### YOUR CODE HERE #############\n",
    "        ######################################\n",
    "        X_ids, X_sent_lens = batch_to_ids(X_batch, word2id, max_len=max_len)\n",
    "#         Y_ids, Y_sent_lens = batch_to_ids(Y_batch, word2id, max_len=max_len)\n",
    "        predictions = model.predict_for_batch(session, X_ids, X_sent_lens)\n",
    "        for p,y in zip(predictions, Y_batch):\n",
    "            pred_sent = ''.join(ids_to_sentence(p, id2word)).replace('#', '').replace('$', '')\n",
    "            if pred_sent.isdigit() or (pred_sent.startswith('-') and pred_sent[1:].isdigit()):\n",
    "                ground_truth.append(int(y))\n",
    "                model_predictions.append(int(pred_sent))\n",
    "            else:\n",
    "                invalid_number_prediction_count += 1\n",
    "    \n",
    "    all_model_predictions.append(model_predictions)\n",
    "    all_ground_truth.append(ground_truth)\n",
    "    invalid_number_prediction_counts.append(invalid_number_prediction_count)\n",
    "            \n",
    "print('\\n...training finished.')"
   ]
  },
  {
   "cell_type": "markdown",
   "metadata": {},
   "source": [
    "## Evaluate results\n",
    "\n",
    "Because our task is simple and the output is straight-forward, we will use [MAE](https://en.wikipedia.org/wiki/Mean_absolute_error) metric to evaluate the trained model during the epochs. Compute the value of the metric for the output from each epoch."
   ]
  },
  {
   "cell_type": "code",
   "execution_count": 54,
   "metadata": {},
   "outputs": [
    {
     "name": "stdout",
     "output_type": "stream",
     "text": [
      "Epoch: 1, MAE: 1053.432400, Invalid numbers: 0\n",
      "Epoch: 2, MAE: 362.910150, Invalid numbers: 0\n",
      "Epoch: 3, MAE: 253.271000, Invalid numbers: 0\n",
      "Epoch: 4, MAE: 262.271450, Invalid numbers: 0\n",
      "Epoch: 5, MAE: 139.828600, Invalid numbers: 0\n",
      "Epoch: 6, MAE: 70.260500, Invalid numbers: 0\n",
      "Epoch: 7, MAE: 47.682350, Invalid numbers: 0\n",
      "Epoch: 8, MAE: 30.697300, Invalid numbers: 0\n",
      "Epoch: 9, MAE: 47.627100, Invalid numbers: 0\n",
      "Epoch: 10, MAE: 37.710000, Invalid numbers: 0\n"
     ]
    }
   ],
   "source": [
    "for i, (gts, predictions, invalid_number_prediction_count) in enumerate(zip(all_ground_truth,\n",
    "                                                                            all_model_predictions,\n",
    "                                                                            invalid_number_prediction_counts), 1):\n",
    "    mae = mean_absolute_error(gts, predictions)\n",
    "    print(\"Epoch: %i, MAE: %f, Invalid numbers: %i\" % (i, mae, invalid_number_prediction_count))"
   ]
  },
  {
   "cell_type": "markdown",
   "metadata": {},
   "source": [
    "### Experiment 1 - Increase  Learning Rate to 0.01"
   ]
  },
  {
   "cell_type": "code",
   "execution_count": 55,
   "metadata": {},
   "outputs": [],
   "source": [
    "tf.reset_default_graph()\n",
    "\n",
    "model = Seq2SeqModel(vocab_size, \n",
    "                     embeddings_size   = 20, \n",
    "                     max_iter          = 7, \n",
    "                     hidden_size       = 512,\n",
    "                     start_symbol_id   = word2id['^'],\n",
    "                     end_symbol_id     = word2id['$'],\n",
    "                     padding_symbol_id = word2id['#'])\n",
    "\n",
    "batch_size = 128\n",
    "n_epochs = 10\n",
    "learning_rate = 0.01\n",
    "dropout_keep_probability = 0.5\n",
    "max_len = 20\n",
    "\n",
    "n_step = int(len(train_set) / batch_size)"
   ]
  },
  {
   "cell_type": "markdown",
   "metadata": {},
   "source": [
    "Train for 5 epochs"
   ]
  },
  {
   "cell_type": "code",
   "execution_count": 56,
   "metadata": {
    "scrolled": true
   },
   "outputs": [
    {
     "name": "stdout",
     "output_type": "stream",
     "text": [
      "Start training... \n",
      "\n",
      "Train: epoch 1\n",
      "Epoch: [1/5], step: [1/625], loss: 2.692591\n",
      "Epoch: [1/5], step: [201/625], loss: 1.714912\n",
      "Epoch: [1/5], step: [401/625], loss: 1.525409\n",
      "Epoch: [1/5], step: [601/625], loss: 1.481038\n",
      "Test: epoch 1 loss: 1.4225775\n",
      "X: 6711+1501$\n",
      "Y: 8212$#\n",
      "O: 8277$#\n",
      "\n",
      "X: 2851+2324$\n",
      "Y: 5175$#\n",
      "O: 4867$#\n",
      "\n",
      "X: 1226-3548$\n",
      "Y: -2322$\n",
      "O: -1865$\n",
      "\n",
      "Train: epoch 2\n",
      "Epoch: [2/5], step: [1/625], loss: 1.473070\n",
      "Epoch: [2/5], step: [201/625], loss: 1.415935\n",
      "Epoch: [2/5], step: [401/625], loss: 1.388214\n",
      "Epoch: [2/5], step: [601/625], loss: 1.392625\n",
      "Test: epoch 2 loss: 1.3614136\n",
      "X: 2530-2920$\n",
      "Y: -390$#\n",
      "O: -50$##\n",
      "\n",
      "X: 5646+5379$\n",
      "Y: 11025$\n",
      "O: 10983$\n",
      "\n",
      "X: 9553-1990$\n",
      "Y: 7563$#\n",
      "O: 7777$#\n",
      "\n",
      "Train: epoch 3\n",
      "Epoch: [3/5], step: [1/625], loss: 1.380111\n",
      "Epoch: [3/5], step: [201/625], loss: 1.369643\n",
      "Epoch: [3/5], step: [401/625], loss: 1.336212\n",
      "Epoch: [3/5], step: [601/625], loss: 1.390756\n",
      "Test: epoch 3 loss: 1.2772942\n",
      "X: 7729+8134$\n",
      "Y: 15863$\n",
      "O: 16119$\n",
      "\n",
      "X: 4012-8423$\n",
      "Y: -4411$\n",
      "O: -4344$\n",
      "\n",
      "X: 9134-2931$\n",
      "Y: 6203$#\n",
      "O: 6277$#\n",
      "\n",
      "Train: epoch 4\n",
      "Epoch: [4/5], step: [1/625], loss: 1.322472\n",
      "Epoch: [4/5], step: [201/625], loss: 1.317989\n",
      "Epoch: [4/5], step: [401/625], loss: 1.259474\n",
      "Epoch: [4/5], step: [601/625], loss: 1.215890\n",
      "Test: epoch 4 loss: 1.1599249\n",
      "X: 9005-9173$\n",
      "Y: -168$#\n",
      "O: -119$#\n",
      "\n",
      "X: 9935+805$#\n",
      "Y: 10740$\n",
      "O: 10818$\n",
      "\n",
      "X: 2873-4099$\n",
      "Y: -1226$\n",
      "O: -1417$\n",
      "\n",
      "Train: epoch 5\n",
      "Epoch: [5/5], step: [1/625], loss: 1.203443\n",
      "Epoch: [5/5], step: [201/625], loss: 1.157960\n",
      "Epoch: [5/5], step: [401/625], loss: 1.196206\n",
      "Epoch: [5/5], step: [601/625], loss: 1.146309\n",
      "Test: epoch 5 loss: 1.0935856\n",
      "X: 4316-3618$\n",
      "Y: 698$##\n",
      "O: 623$##\n",
      "\n",
      "X: 3748+2353$\n",
      "Y: 6101$#\n",
      "O: 6133$#\n",
      "\n",
      "X: 7409+7897$\n",
      "Y: 15306$\n",
      "O: 15313$\n",
      "\n",
      "\n",
      "...training finished.\n"
     ]
    }
   ],
   "source": [
    "session = tf.Session()\n",
    "session.run(tf.global_variables_initializer())\n",
    "            \n",
    "invalid_number_prediction_counts = []\n",
    "all_model_predictions = []\n",
    "all_ground_truth = []\n",
    "\n",
    "# train_set = train_set[:10]\n",
    "# test_set  = test_set[:5]\n",
    "\n",
    "print('Start training... \\n')\n",
    "for epoch in range(n_epochs):  \n",
    "    random.shuffle(train_set)\n",
    "    random.shuffle(test_set)\n",
    "    \n",
    "    print('Train: epoch', epoch + 1)\n",
    "    for n_iter, (X_batch, Y_batch) in enumerate(generate_batches(train_set, batch_size=batch_size)):\n",
    "        ######################################\n",
    "        ######### YOUR CODE HERE #############\n",
    "        ######################################\n",
    "        # prepare the data (X_batch and Y_batch) for training\n",
    "        # using function batch_to_ids\n",
    "        X_batch_ids, X_batch_ids_len = batch_to_ids(X_batch, word2id, max_len)\n",
    "        Y_batch_ids, Y_batch_ids_len = batch_to_ids(Y_batch, word2id, max_len)\n",
    "        predictions, loss = model.train_on_batch(session, \n",
    "                                           X_batch_ids, \n",
    "                                           X_batch_ids_len, \n",
    "                                           Y_batch_ids, \n",
    "                                           Y_batch_ids_len, \n",
    "                                           learning_rate, \n",
    "                                           dropout_keep_probability\n",
    "                                  )\n",
    "        \n",
    "        if n_iter % 200 == 0:\n",
    "            print(\"Epoch: [%d/%d], step: [%d/%d], loss: %f\" % (epoch + 1, n_epochs, n_iter + 1, n_step, loss))\n",
    "                \n",
    "    X_sent, Y_sent = next(generate_batches(test_set, batch_size=batch_size))\n",
    "    ######################################\n",
    "    ######### YOUR CODE HERE #############\n",
    "    ######################################\n",
    "    # prepare test data (X_sent and Y_sent) for predicting \n",
    "    # quality and computing value of the loss function\n",
    "    # using function batch_to_ids\n",
    "    \n",
    "    X_sent_ids, X_sent_ids_len = batch_to_ids(X_sent, word2id, max_len)\n",
    "    Y_sent_ids, Y_sent_ids_len = batch_to_ids(Y_sent, word2id, max_len)\n",
    "    predictions, loss = model.predict_for_batch_with_loss(session, \n",
    "                                                          X_sent_ids,\n",
    "                                                          X_sent_ids_len, \n",
    "                                                          Y_sent_ids, \n",
    "                                                          Y_sent_ids_len)\n",
    "    print('Test: epoch', epoch + 1, 'loss:', loss,)\n",
    "    for x, y, p  in list(zip(X_sent_ids, Y_sent_ids, predictions))[:3]:\n",
    "        print('X:',''.join(ids_to_sentence(x, id2word)))\n",
    "        print('Y:',''.join(ids_to_sentence(y, id2word)))\n",
    "        print('O:',''.join(ids_to_sentence(p, id2word)))\n",
    "        print('')\n",
    "\n",
    "    model_predictions = []\n",
    "    ground_truth = []\n",
    "    invalid_number_prediction_count = 0\n",
    "    # For the whole test set calculate ground-truth values (as integer numbers)\n",
    "    # and prediction values (also as integers) to calculate metrics.\n",
    "    # If generated by model number is not correct (e.g. '1-1'), \n",
    "    # increase invalid_number_prediction_count and don't append this and corresponding\n",
    "    # ground-truth value to the arrays.\n",
    "    for X_batch, Y_batch in generate_batches(test_set, batch_size=batch_size):\n",
    "        ######################################\n",
    "        ######### YOUR CODE HERE #############\n",
    "        ######################################\n",
    "        X_ids, X_sent_lens = batch_to_ids(X_batch, word2id, max_len=max_len)\n",
    "#         Y_ids, Y_sent_lens = batch_to_ids(Y_batch, word2id, max_len=max_len)\n",
    "        predictions = model.predict_for_batch(session, X_ids, X_sent_lens)\n",
    "        for p,y in zip(predictions, Y_batch):\n",
    "            pred_sent = ''.join(ids_to_sentence(p, id2word)).replace('#', '').replace('$', '')\n",
    "            if pred_sent.isdigit() or (pred_sent.startswith('-') and pred_sent[1:].isdigit()):\n",
    "                ground_truth.append(int(y))\n",
    "                model_predictions.append(int(pred_sent))\n",
    "            else:\n",
    "                invalid_number_prediction_count += 1\n",
    "    \n",
    "    all_model_predictions.append(model_predictions)\n",
    "    all_ground_truth.append(ground_truth)\n",
    "    invalid_number_prediction_counts.append(invalid_number_prediction_count)\n",
    "            \n",
    "print('\\n...training finished.')"
   ]
  },
  {
   "cell_type": "markdown",
   "metadata": {},
   "source": [
    "and 5 more"
   ]
  },
  {
   "cell_type": "code",
   "execution_count": 57,
   "metadata": {
    "scrolled": true
   },
   "outputs": [
    {
     "name": "stdout",
     "output_type": "stream",
     "text": [
      "Train: epoch 1\n",
      "Epoch: [1/5], step: [1/625], loss: 1.192318\n",
      "Epoch: [1/5], step: [201/625], loss: 1.173608\n",
      "Epoch: [1/5], step: [401/625], loss: 1.159012\n",
      "Epoch: [1/5], step: [601/625], loss: 1.145819\n",
      "Test: epoch 1 loss: 1.0608453\n",
      "X: 2541-8268$\n",
      "Y: -5727$\n",
      "O: -5666$\n",
      "\n",
      "X: 829+8753$#\n",
      "Y: 9582$#\n",
      "O: 9641$#\n",
      "\n",
      "X: 1650-650$#\n",
      "Y: 1000$#\n",
      "O: 1090$#\n",
      "\n",
      "Train: epoch 2\n",
      "Epoch: [2/5], step: [1/625], loss: 1.103244\n",
      "Epoch: [2/5], step: [201/625], loss: 1.125246\n",
      "Epoch: [2/5], step: [401/625], loss: 1.104242\n",
      "Epoch: [2/5], step: [601/625], loss: 1.100041\n",
      "Test: epoch 2 loss: 1.0101968\n",
      "X: 4403+6924$\n",
      "Y: 11327$\n",
      "O: 11262$\n",
      "\n",
      "X: 6270-2942$\n",
      "Y: 3328$#\n",
      "O: 3255$#\n",
      "\n",
      "X: 7560+140$#\n",
      "Y: 7700$#\n",
      "O: 7800$#\n",
      "\n",
      "Train: epoch 3\n",
      "Epoch: [3/5], step: [1/625], loss: 1.052340\n",
      "Epoch: [3/5], step: [201/625], loss: 1.090676\n",
      "Epoch: [3/5], step: [401/625], loss: 1.058665\n",
      "Epoch: [3/5], step: [601/625], loss: 1.115812\n",
      "Test: epoch 3 loss: 1.0244464\n",
      "X: 8623+5999$\n",
      "Y: 14622$\n",
      "O: 14652$#\n",
      "\n",
      "X: 5907+2827$\n",
      "Y: 8734$#\n",
      "O: 8744$##\n",
      "\n",
      "X: 6455+3167$\n",
      "Y: 9622$#\n",
      "O: 9699$##\n",
      "\n",
      "Train: epoch 4\n",
      "Epoch: [4/5], step: [1/625], loss: 1.057494\n",
      "Epoch: [4/5], step: [201/625], loss: 1.076071\n",
      "Epoch: [4/5], step: [401/625], loss: 1.051917\n",
      "Epoch: [4/5], step: [601/625], loss: 1.028990\n",
      "Test: epoch 4 loss: 1.0393289\n",
      "X: 4232+3972$\n",
      "Y: 8204$#\n",
      "O: 7220$#\n",
      "\n",
      "X: 9590-732$#\n",
      "Y: 8858$#\n",
      "O: 8888$#\n",
      "\n",
      "X: 1505+8923$\n",
      "Y: 10428$\n",
      "O: 10300$\n",
      "\n",
      "Train: epoch 5\n",
      "Epoch: [5/5], step: [1/625], loss: 1.104132\n",
      "Epoch: [5/5], step: [201/625], loss: 1.113743\n",
      "Epoch: [5/5], step: [401/625], loss: 1.073808\n",
      "Epoch: [5/5], step: [601/625], loss: 1.056900\n",
      "Test: epoch 5 loss: 1.0069256\n",
      "X: 3925-4749$\n",
      "Y: -824$#\n",
      "O: -855$#\n",
      "\n",
      "X: 6340+9921$\n",
      "Y: 16261$\n",
      "O: 16265$\n",
      "\n",
      "X: 7381-962$#\n",
      "Y: 6419$#\n",
      "O: 6416$#\n",
      "\n",
      "\n",
      "...training finished.\n"
     ]
    }
   ],
   "source": [
    "n_epochs = 5\n",
    "for epoch in range(n_epochs):  \n",
    "    random.shuffle(train_set)\n",
    "    random.shuffle(test_set)\n",
    "    \n",
    "    print('Train: epoch', epoch + 1)\n",
    "    for n_iter, (X_batch, Y_batch) in enumerate(generate_batches(train_set, batch_size=batch_size)):\n",
    "        ######################################\n",
    "        ######### YOUR CODE HERE #############\n",
    "        ######################################\n",
    "        # prepare the data (X_batch and Y_batch) for training\n",
    "        # using function batch_to_ids\n",
    "        X_batch_ids, X_batch_ids_len = batch_to_ids(X_batch, word2id, max_len)\n",
    "        Y_batch_ids, Y_batch_ids_len = batch_to_ids(Y_batch, word2id, max_len)\n",
    "        predictions, loss = model.train_on_batch(session, \n",
    "                                           X_batch_ids, \n",
    "                                           X_batch_ids_len, \n",
    "                                           Y_batch_ids, \n",
    "                                           Y_batch_ids_len, \n",
    "                                           learning_rate, \n",
    "                                           dropout_keep_probability\n",
    "                                  )\n",
    "        \n",
    "        if n_iter % 200 == 0:\n",
    "            print(\"Epoch: [%d/%d], step: [%d/%d], loss: %f\" % (epoch + 1, n_epochs, n_iter + 1, n_step, loss))\n",
    "                \n",
    "    X_sent, Y_sent = next(generate_batches(test_set, batch_size=batch_size))\n",
    "    ######################################\n",
    "    ######### YOUR CODE HERE #############\n",
    "    ######################################\n",
    "    # prepare test data (X_sent and Y_sent) for predicting \n",
    "    # quality and computing value of the loss function\n",
    "    # using function batch_to_ids\n",
    "    \n",
    "    X_sent_ids, X_sent_ids_len = batch_to_ids(X_sent, word2id, max_len)\n",
    "    Y_sent_ids, Y_sent_ids_len = batch_to_ids(Y_sent, word2id, max_len)\n",
    "    predictions, loss = model.predict_for_batch_with_loss(session, \n",
    "                                                          X_sent_ids,\n",
    "                                                          X_sent_ids_len, \n",
    "                                                          Y_sent_ids, \n",
    "                                                          Y_sent_ids_len)\n",
    "    print('Test: epoch', epoch + 1, 'loss:', loss,)\n",
    "    for x, y, p  in list(zip(X_sent_ids, Y_sent_ids, predictions))[:3]:\n",
    "        print('X:',''.join(ids_to_sentence(x, id2word)))\n",
    "        print('Y:',''.join(ids_to_sentence(y, id2word)))\n",
    "        print('O:',''.join(ids_to_sentence(p, id2word)))\n",
    "        print('')\n",
    "\n",
    "    model_predictions = []\n",
    "    ground_truth = []\n",
    "    invalid_number_prediction_count = 0\n",
    "    # For the whole test set calculate ground-truth values (as integer numbers)\n",
    "    # and prediction values (also as integers) to calculate metrics.\n",
    "    # If generated by model number is not correct (e.g. '1-1'), \n",
    "    # increase invalid_number_prediction_count and don't append this and corresponding\n",
    "    # ground-truth value to the arrays.\n",
    "    for X_batch, Y_batch in generate_batches(test_set, batch_size=batch_size):\n",
    "        ######################################\n",
    "        ######### YOUR CODE HERE #############\n",
    "        ######################################\n",
    "        X_ids, X_sent_lens = batch_to_ids(X_batch, word2id, max_len=max_len)\n",
    "#         Y_ids, Y_sent_lens = batch_to_ids(Y_batch, word2id, max_len=max_len)\n",
    "        predictions = model.predict_for_batch(session, X_ids, X_sent_lens)\n",
    "        for p,y in zip(predictions, Y_batch):\n",
    "            pred_sent = ''.join(ids_to_sentence(p, id2word)).replace('#', '').replace('$', '')\n",
    "            if pred_sent.isdigit() or (pred_sent.startswith('-') and pred_sent[1:].isdigit()):\n",
    "                ground_truth.append(int(y))\n",
    "                model_predictions.append(int(pred_sent))\n",
    "            else:\n",
    "                invalid_number_prediction_count += 1\n",
    "    \n",
    "    all_model_predictions.append(model_predictions)\n",
    "    all_ground_truth.append(ground_truth)\n",
    "    invalid_number_prediction_counts.append(invalid_number_prediction_count)\n",
    "            \n",
    "print('\\n...training finished.')"
   ]
  },
  {
   "cell_type": "markdown",
   "metadata": {},
   "source": [
    "## Evaluate results - experiment 1"
   ]
  },
  {
   "cell_type": "code",
   "execution_count": 59,
   "metadata": {},
   "outputs": [
    {
     "name": "stdout",
     "output_type": "stream",
     "text": [
      "Epoch: 1, MAE: 354.480550, Invalid numbers: 0\n",
      "Epoch: 2, MAE: 240.641800, Invalid numbers: 0\n",
      "Epoch: 3, MAE: 178.668850, Invalid numbers: 0\n",
      "Epoch: 4, MAE: 129.713450, Invalid numbers: 0\n",
      "Epoch: 5, MAE: 80.240500, Invalid numbers: 0\n",
      "Epoch: 6, MAE: 67.050000, Invalid numbers: 0\n",
      "Epoch: 7, MAE: 77.641782, Invalid numbers: 1\n",
      "Epoch: 8, MAE: 431.669600, Invalid numbers: 0\n",
      "Epoch: 9, MAE: 61.155058, Invalid numbers: 1\n",
      "Epoch: 10, MAE: 60.684450, Invalid numbers: 0\n"
     ]
    }
   ],
   "source": [
    "for i, (gts, predictions, invalid_number_prediction_count) in enumerate(zip(all_ground_truth,\n",
    "                                                                            all_model_predictions,\n",
    "                                                                            invalid_number_prediction_counts), 1):\n",
    "    mae = mean_absolute_error(gts, predictions)\n",
    "    print(\"Epoch: %i, MAE: %f, Invalid numbers: %i\" % (i, mae, invalid_number_prediction_count))"
   ]
  },
  {
   "cell_type": "markdown",
   "metadata": {},
   "source": [
    "### Experiment 2 - Bigger hidden layer"
   ]
  },
  {
   "cell_type": "code",
   "execution_count": 60,
   "metadata": {},
   "outputs": [],
   "source": [
    "tf.reset_default_graph()\n",
    "\n",
    "model = Seq2SeqModel(vocab_size, \n",
    "                     embeddings_size   = 20, \n",
    "                     max_iter          = 7, \n",
    "                     hidden_size       = 1024,\n",
    "                     start_symbol_id   = word2id['^'],\n",
    "                     end_symbol_id     = word2id['$'],\n",
    "                     padding_symbol_id = word2id['#'])\n",
    "\n",
    "batch_size = 128\n",
    "n_epochs = 10\n",
    "learning_rate = 0.001\n",
    "dropout_keep_probability = 0.5\n",
    "max_len = 20\n",
    "\n",
    "n_step = int(len(train_set) / batch_size)"
   ]
  },
  {
   "cell_type": "markdown",
   "metadata": {},
   "source": [
    "Train for 10 epochs"
   ]
  },
  {
   "cell_type": "code",
   "execution_count": 61,
   "metadata": {
    "scrolled": true
   },
   "outputs": [
    {
     "name": "stdout",
     "output_type": "stream",
     "text": [
      "Start training... \n",
      "\n",
      "Train: epoch 1\n",
      "Epoch: [1/10], step: [1/625], loss: 2.711050\n",
      "Epoch: [1/10], step: [201/625], loss: 1.812524\n",
      "Epoch: [1/10], step: [401/625], loss: 1.692863\n",
      "Epoch: [1/10], step: [601/625], loss: 1.627365\n",
      "Test: epoch 1 loss: 1.5363678\n",
      "X: 9633-2885$\n",
      "Y: 6748$#\n",
      "O: 7112$#\n",
      "\n",
      "X: 8216+9757$\n",
      "Y: 17973$\n",
      "O: 17112$\n",
      "\n",
      "X: 247+400$##\n",
      "Y: 647$##\n",
      "O: 2415$#\n",
      "\n",
      "Train: epoch 2\n",
      "Epoch: [2/10], step: [1/625], loss: 1.595186\n",
      "Epoch: [2/10], step: [201/625], loss: 1.543806\n",
      "Epoch: [2/10], step: [401/625], loss: 1.472742\n",
      "Epoch: [2/10], step: [601/625], loss: 1.424488\n",
      "Test: epoch 2 loss: 1.3672549\n",
      "X: 4023-377$#\n",
      "Y: 3646$#\n",
      "O: 3522$#\n",
      "\n",
      "X: 7816+3640$\n",
      "Y: 11456$\n",
      "O: 11492$\n",
      "\n",
      "X: 2472+3852$\n",
      "Y: 6324$#\n",
      "O: 6244$#\n",
      "\n",
      "Train: epoch 3\n",
      "Epoch: [3/10], step: [1/625], loss: 1.482522\n",
      "Epoch: [3/10], step: [201/625], loss: 1.376223\n",
      "Epoch: [3/10], step: [401/625], loss: 1.384966\n",
      "Epoch: [3/10], step: [601/625], loss: 1.332811\n",
      "Test: epoch 3 loss: 1.3026301\n",
      "X: 1761+7749$\n",
      "Y: 9510$#\n",
      "O: 9277$#\n",
      "\n",
      "X: 9606+1139$\n",
      "Y: 10745$\n",
      "O: 10767$\n",
      "\n",
      "X: 8924-4537$\n",
      "Y: 4387$#\n",
      "O: 4087$#\n",
      "\n",
      "Train: epoch 4\n",
      "Epoch: [4/10], step: [1/625], loss: 1.372969\n",
      "Epoch: [4/10], step: [201/625], loss: 1.344242\n",
      "Epoch: [4/10], step: [401/625], loss: 1.318639\n",
      "Epoch: [4/10], step: [601/625], loss: 1.289912\n",
      "Test: epoch 4 loss: 1.1942644\n",
      "X: 4461+6433$\n",
      "Y: 10894$\n",
      "O: 10931$\n",
      "\n",
      "X: 279-9508$#\n",
      "Y: -9229$\n",
      "O: -9230$\n",
      "\n",
      "X: 4696+7809$\n",
      "Y: 12505$\n",
      "O: 12733$\n",
      "\n",
      "Train: epoch 5\n",
      "Epoch: [5/10], step: [1/625], loss: 1.258810\n",
      "Epoch: [5/10], step: [201/625], loss: 1.174489\n",
      "Epoch: [5/10], step: [401/625], loss: 1.193877\n",
      "Epoch: [5/10], step: [601/625], loss: 1.124251\n",
      "Test: epoch 5 loss: 1.0437948\n",
      "X: 7897+5163$\n",
      "Y: 13060$\n",
      "O: 13129$\n",
      "\n",
      "X: 7189+6642$\n",
      "Y: 13831$\n",
      "O: 13872$\n",
      "\n",
      "X: 3773-549$#\n",
      "Y: 3224$#\n",
      "O: 3266$#\n",
      "\n",
      "Train: epoch 6\n",
      "Epoch: [6/10], step: [1/625], loss: 1.090214\n",
      "Epoch: [6/10], step: [201/625], loss: 1.070033\n",
      "Epoch: [6/10], step: [401/625], loss: 1.053472\n",
      "Epoch: [6/10], step: [601/625], loss: 1.053635\n",
      "Test: epoch 6 loss: 0.9943972\n",
      "X: 5021+5066$\n",
      "Y: 10087$\n",
      "O: 10051$\n",
      "\n",
      "X: 7193+1651$\n",
      "Y: 8844$#\n",
      "O: 8822$#\n",
      "\n",
      "X: 2327-5484$\n",
      "Y: -3157$\n",
      "O: -3116$\n",
      "\n",
      "Train: epoch 7\n",
      "Epoch: [7/10], step: [1/625], loss: 1.051970\n",
      "Epoch: [7/10], step: [201/625], loss: 1.010248\n",
      "Epoch: [7/10], step: [401/625], loss: 0.965675\n",
      "Epoch: [7/10], step: [601/625], loss: 0.998307\n",
      "Test: epoch 7 loss: 0.9173578\n",
      "X: 853+6317$#\n",
      "Y: 7170$#\n",
      "O: 7137$#\n",
      "\n",
      "X: 1773+8324$\n",
      "Y: 10097$\n",
      "O: 10077$\n",
      "\n",
      "X: 8514-7307$\n",
      "Y: 1207$#\n",
      "O: 1197$#\n",
      "\n",
      "Train: epoch 8\n",
      "Epoch: [8/10], step: [1/625], loss: 0.980015\n",
      "Epoch: [8/10], step: [201/625], loss: 0.947761\n",
      "Epoch: [8/10], step: [401/625], loss: 0.991828\n",
      "Epoch: [8/10], step: [601/625], loss: 0.950610\n",
      "Test: epoch 8 loss: 0.9155054\n",
      "X: 2355-6219$\n",
      "Y: -3864$\n",
      "O: -3898$\n",
      "\n",
      "X: 7528+9148$\n",
      "Y: 16676$\n",
      "O: 16645$\n",
      "\n",
      "X: 9982+7827$\n",
      "Y: 17809$\n",
      "O: 17833$\n",
      "\n",
      "Train: epoch 9\n",
      "Epoch: [9/10], step: [1/625], loss: 0.924320\n",
      "Epoch: [9/10], step: [201/625], loss: 0.963110\n",
      "Epoch: [9/10], step: [401/625], loss: 0.916256\n",
      "Epoch: [9/10], step: [601/625], loss: 0.898690\n",
      "Test: epoch 9 loss: 0.84198976\n",
      "X: 1984-7935$\n",
      "Y: -5951$\n",
      "O: -5944$\n",
      "\n",
      "X: 5566+1436$\n",
      "Y: 7002$#\n",
      "O: 6990$#\n",
      "\n",
      "X: 851+3468$#\n",
      "Y: 4319$#\n",
      "O: 4329$#\n",
      "\n",
      "Train: epoch 10\n",
      "Epoch: [10/10], step: [1/625], loss: 0.873610\n",
      "Epoch: [10/10], step: [201/625], loss: 0.812143\n",
      "Epoch: [10/10], step: [401/625], loss: 0.794858\n",
      "Epoch: [10/10], step: [601/625], loss: 0.715925\n",
      "Test: epoch 10 loss: 0.7087225\n",
      "X: 5054+9044$\n",
      "Y: 14098$\n",
      "O: 14097$\n",
      "\n",
      "X: 9861-6307$\n",
      "Y: 3554$#\n",
      "O: 3550$#\n",
      "\n",
      "X: 6046+3119$\n",
      "Y: 9165$#\n",
      "O: 9167$#\n",
      "\n",
      "\n",
      "...training finished.\n"
     ]
    }
   ],
   "source": [
    "session = tf.Session()\n",
    "session.run(tf.global_variables_initializer())\n",
    "            \n",
    "invalid_number_prediction_counts = []\n",
    "all_model_predictions = []\n",
    "all_ground_truth = []\n",
    "\n",
    "# train_set = train_set[:10]\n",
    "# test_set  = test_set[:5]\n",
    "\n",
    "print('Start training... \\n')\n",
    "for epoch in range(n_epochs):  \n",
    "    random.shuffle(train_set)\n",
    "    random.shuffle(test_set)\n",
    "    \n",
    "    print('Train: epoch', epoch + 1)\n",
    "    for n_iter, (X_batch, Y_batch) in enumerate(generate_batches(train_set, batch_size=batch_size)):\n",
    "        ######################################\n",
    "        ######### YOUR CODE HERE #############\n",
    "        ######################################\n",
    "        # prepare the data (X_batch and Y_batch) for training\n",
    "        # using function batch_to_ids\n",
    "        X_batch_ids, X_batch_ids_len = batch_to_ids(X_batch, word2id, max_len)\n",
    "        Y_batch_ids, Y_batch_ids_len = batch_to_ids(Y_batch, word2id, max_len)\n",
    "        predictions, loss = model.train_on_batch(session, \n",
    "                                           X_batch_ids, \n",
    "                                           X_batch_ids_len, \n",
    "                                           Y_batch_ids, \n",
    "                                           Y_batch_ids_len, \n",
    "                                           learning_rate, \n",
    "                                           dropout_keep_probability\n",
    "                                  )\n",
    "        \n",
    "        if n_iter % 200 == 0:\n",
    "            print(\"Epoch: [%d/%d], step: [%d/%d], loss: %f\" % (epoch + 1, n_epochs, n_iter + 1, n_step, loss))\n",
    "                \n",
    "    X_sent, Y_sent = next(generate_batches(test_set, batch_size=batch_size))\n",
    "    ######################################\n",
    "    ######### YOUR CODE HERE #############\n",
    "    ######################################\n",
    "    # prepare test data (X_sent and Y_sent) for predicting \n",
    "    # quality and computing value of the loss function\n",
    "    # using function batch_to_ids\n",
    "    \n",
    "    X_sent_ids, X_sent_ids_len = batch_to_ids(X_sent, word2id, max_len)\n",
    "    Y_sent_ids, Y_sent_ids_len = batch_to_ids(Y_sent, word2id, max_len)\n",
    "    predictions, loss = model.predict_for_batch_with_loss(session, \n",
    "                                                          X_sent_ids,\n",
    "                                                          X_sent_ids_len, \n",
    "                                                          Y_sent_ids, \n",
    "                                                          Y_sent_ids_len)\n",
    "    print('Test: epoch', epoch + 1, 'loss:', loss,)\n",
    "    for x, y, p  in list(zip(X_sent_ids, Y_sent_ids, predictions))[:3]:\n",
    "        print('X:',''.join(ids_to_sentence(x, id2word)))\n",
    "        print('Y:',''.join(ids_to_sentence(y, id2word)))\n",
    "        print('O:',''.join(ids_to_sentence(p, id2word)))\n",
    "        print('')\n",
    "\n",
    "    model_predictions = []\n",
    "    ground_truth = []\n",
    "    invalid_number_prediction_count = 0\n",
    "    # For the whole test set calculate ground-truth values (as integer numbers)\n",
    "    # and prediction values (also as integers) to calculate metrics.\n",
    "    # If generated by model number is not correct (e.g. '1-1'), \n",
    "    # increase invalid_number_prediction_count and don't append this and corresponding\n",
    "    # ground-truth value to the arrays.\n",
    "    for X_batch, Y_batch in generate_batches(test_set, batch_size=batch_size):\n",
    "        ######################################\n",
    "        ######### YOUR CODE HERE #############\n",
    "        ######################################\n",
    "        X_ids, X_sent_lens = batch_to_ids(X_batch, word2id, max_len=max_len)\n",
    "#         Y_ids, Y_sent_lens = batch_to_ids(Y_batch, word2id, max_len=max_len)\n",
    "        predictions = model.predict_for_batch(session, X_ids, X_sent_lens)\n",
    "        for p,y in zip(predictions, Y_batch):\n",
    "            pred_sent = ''.join(ids_to_sentence(p, id2word)).replace('#', '').replace('$', '')\n",
    "            if pred_sent.isdigit() or (pred_sent.startswith('-') and pred_sent[1:].isdigit()):\n",
    "                ground_truth.append(int(y))\n",
    "                model_predictions.append(int(pred_sent))\n",
    "            else:\n",
    "                invalid_number_prediction_count += 1\n",
    "    \n",
    "    all_model_predictions.append(model_predictions)\n",
    "    all_ground_truth.append(ground_truth)\n",
    "    invalid_number_prediction_counts.append(invalid_number_prediction_count)\n",
    "            \n",
    "print('\\n...training finished.')"
   ]
  },
  {
   "cell_type": "markdown",
   "metadata": {},
   "source": [
    "## Evaluate results - Experiment 2\n",
    "\n",
    "Because our task is simple and the output is straight-forward, we will use [MAE](https://en.wikipedia.org/wiki/Mean_absolute_error) metric to evaluate the trained model during the epochs. Compute the value of the metric for the output from each epoch."
   ]
  },
  {
   "cell_type": "code",
   "execution_count": 63,
   "metadata": {},
   "outputs": [
    {
     "name": "stdout",
     "output_type": "stream",
     "text": [
      "Epoch: 1, MAE: 800.757950, Invalid numbers: 0\n",
      "Epoch: 2, MAE: 276.873100, Invalid numbers: 0\n",
      "Epoch: 3, MAE: 203.265950, Invalid numbers: 0\n",
      "Epoch: 4, MAE: 123.559400, Invalid numbers: 0\n",
      "Epoch: 5, MAE: 55.811300, Invalid numbers: 0\n",
      "Epoch: 6, MAE: 34.859250, Invalid numbers: 0\n",
      "Epoch: 7, MAE: 28.504050, Invalid numbers: 0\n",
      "Epoch: 8, MAE: 27.218200, Invalid numbers: 0\n",
      "Epoch: 9, MAE: 20.463950, Invalid numbers: 0\n",
      "Epoch: 10, MAE: 16.127550, Invalid numbers: 0\n"
     ]
    }
   ],
   "source": [
    "for i, (gts, predictions, invalid_number_prediction_count) in enumerate(zip(all_ground_truth,\n",
    "                                                                            all_model_predictions,\n",
    "                                                                            invalid_number_prediction_counts), 1):\n",
    "    mae = mean_absolute_error(gts, predictions)\n",
    "    print(\"Epoch: %i, MAE: %f, Invalid numbers: %i\" % (i, mae, invalid_number_prediction_count))"
   ]
  },
  {
   "cell_type": "markdown",
   "metadata": {},
   "source": [
    "# Final Results - Experiment 2\n",
    "obtained using RNN with increased hidden_size 1024 and rest of original Hyperparameters suggested by course teachers.\n"
   ]
  },
  {
   "cell_type": "code",
   "execution_count": 63,
   "metadata": {},
   "outputs": [
    {
     "name": "stdout",
     "output_type": "stream",
     "text": [
      "Epoch: 1, MAE: 800.757950, Invalid numbers: 0\n",
      "Epoch: 2, MAE: 276.873100, Invalid numbers: 0\n",
      "Epoch: 3, MAE: 203.265950, Invalid numbers: 0\n",
      "Epoch: 4, MAE: 123.559400, Invalid numbers: 0\n",
      "Epoch: 5, MAE: 55.811300, Invalid numbers: 0\n",
      "Epoch: 6, MAE: 34.859250, Invalid numbers: 0\n",
      "Epoch: 7, MAE: 28.504050, Invalid numbers: 0\n",
      "Epoch: 8, MAE: 27.218200, Invalid numbers: 0\n",
      "Epoch: 9, MAE: 20.463950, Invalid numbers: 0\n",
      "Epoch: 10, MAE: 16.127550, Invalid numbers: 0\n"
     ]
    }
   ],
   "source": [
    "for i, (gts, predictions, invalid_number_prediction_count) in enumerate(zip(all_ground_truth,\n",
    "                                                                            all_model_predictions,\n",
    "                                                                            invalid_number_prediction_counts), 1):\n",
    "    mae = mean_absolute_error(gts, predictions)\n",
    "    print(\"Epoch: %i, MAE: %f, Invalid numbers: %i\" % (i, mae, invalid_number_prediction_count))"
   ]
  },
  {
   "cell_type": "code",
   "execution_count": null,
   "metadata": {},
   "outputs": [],
   "source": []
  }
 ],
 "metadata": {
  "kernelspec": {
   "display_name": "Python 3",
   "language": "python",
   "name": "python3"
  },
  "language_info": {
   "codemirror_mode": {
    "name": "ipython",
    "version": 3
   },
   "file_extension": ".py",
   "mimetype": "text/x-python",
   "name": "python",
   "nbconvert_exporter": "python",
   "pygments_lexer": "ipython3",
   "version": "3.6.7"
  }
 },
 "nbformat": 4,
 "nbformat_minor": 2
}
